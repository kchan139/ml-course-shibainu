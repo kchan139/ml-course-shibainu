{
 "cells": [
  {
   "cell_type": "markdown",
   "id": "689bacca",
   "metadata": {},
   "source": [
    "# Hyperparameter Tuning for Sentiment Analysis using CRF\n",
    "\n",
    "This notebook demonstrates hyperparameter optimization for a Conditional Random Fields (CRF) model to perform sentiment analysis. We'll track experiments with MLflow and find the best model configuration."
   ]
  },
  {
   "cell_type": "markdown",
   "id": "54977a6b",
   "metadata": {},
   "source": [
    "## Setup and Imports"
   ]
  },
  {
   "cell_type": "code",
   "execution_count": 1,
   "id": "78457008",
   "metadata": {},
   "outputs": [],
   "source": [
    "import numpy as np\n",
    "import mlflow\n",
    "import pandas as pd\n",
    "\n",
    "import sys\n",
    "sys.path.append('..')\n",
    "from src.models.train_models import ModelTrainer\n",
    "from src.models.predict_models import ModelPredictor\n",
    "from src.config import *"
   ]
  },
  {
   "cell_type": "markdown",
   "id": "712224d3",
   "metadata": {},
   "source": [
    "## Define Hyperparameter Grid\n",
    "\n",
    "We'll create a grid of hyperparameters to search through:\n",
    "\n",
    "- **c1**: L1 regularization coefficient\n",
    "- **c2**: L2 regularization coefficient\n",
    "- **max_iterations**: Maximum number of iterations for optimization"
   ]
  },
  {
   "cell_type": "code",
   "execution_count": 2,
   "id": "13c2ff46",
   "metadata": {},
   "outputs": [],
   "source": [
    "# Define hyperparameter grids to search\n",
    "c1_values = [0.1, 0.5, 1.0]\n",
    "c2_values = [0.1, 0.5, 1.0]\n",
    "max_iterations_values = [50, 100, 150]"
   ]
  },
  {
   "cell_type": "markdown",
   "id": "dcec93d8",
   "metadata": {},
   "source": [
    "## Hyperparameter Grid Search\n",
    "\n",
    "Now we'll run through all combinations of hyperparameters and track the results using MLflow."
   ]
  },
  {
   "cell_type": "code",
   "execution_count": 3,
   "id": "a4d34952",
   "metadata": {},
   "outputs": [
    {
     "name": "stdout",
     "output_type": "stream",
     "text": [
      "Training with c1=0.1, c2=0.1, max_iterations=50\n",
      "Using active MLflow experiment 'sentiment_classification' with ID 360311621043028179\n"
     ]
    },
    {
     "name": "stderr",
     "output_type": "stream",
     "text": [
      "d:\\Tailieudh\\ML\\Project\\ml-course-shibainu\\venv\\Lib\\site-packages\\mlflow\\types\\utils.py:452: UserWarning: Hint: Inferred schema contains integer column(s). Integer columns in Python cannot represent missing values. If your input data contains missing values at inference time, it will be encoded as floats and will cause a schema enforcement error. The best way to avoid this problem is to infer the model schema based on a realistic data sample (training dataset) that includes missing values. Alternatively, you can declare integer columns as doubles (float64) whenever these columns may have missing values. See `Handling Integers With Missing Values <https://www.mlflow.org/docs/latest/models.html#handling-integers-with-missing-values>`_ for more details.\n",
      "  warnings.warn(\n",
      "2025/05/23 04:12:53 INFO mlflow.pyfunc: Validating input example against model signature\n",
      "d:\\Tailieudh\\ML\\Project\\ml-course-shibainu\\venv\\Lib\\site-packages\\tqdm\\auto.py:21: TqdmWarning: IProgress not found. Please update jupyter and ipywidgets. See https://ipywidgets.readthedocs.io/en/stable/user_install.html\n",
      "  from .autonotebook import tqdm as notebook_tqdm\n",
      "Downloading artifacts: 100%|██████████| 7/7 [00:00<00:00, 2331.28it/s]d:\\Tailieudh\\ML\\Project\\ml-course-shibainu\\venv\\Lib\\site-packages\\tqdm\\auto.py:21: TqdmWarning: IProgress not found. Please update jupyter and ipywidgets. See https://ipywidgets.readthedocs.io/en/stable/user_install.html\n",
      "  from .autonotebook import tqdm as notebook_tqdm\n",
      "Downloading artifacts: 100%|██████████| 7/7 [00:00<00:00, 2331.28it/s]\n",
      "\n"
     ]
    },
    {
     "name": "stdout",
     "output_type": "stream",
     "text": [
      "Training with c1=0.1, c2=0.1, max_iterations=100\n",
      "Using active MLflow experiment 'sentiment_classification' with ID 360311621043028179\n"
     ]
    },
    {
     "name": "stderr",
     "output_type": "stream",
     "text": [
      "d:\\Tailieudh\\ML\\Project\\ml-course-shibainu\\venv\\Lib\\site-packages\\mlflow\\types\\utils.py:452: UserWarning: Hint: Inferred schema contains integer column(s). Integer columns in Python cannot represent missing values. If your input data contains missing values at inference time, it will be encoded as floats and will cause a schema enforcement error. The best way to avoid this problem is to infer the model schema based on a realistic data sample (training dataset) that includes missing values. Alternatively, you can declare integer columns as doubles (float64) whenever these columns may have missing values. See `Handling Integers With Missing Values <https://www.mlflow.org/docs/latest/models.html#handling-integers-with-missing-values>`_ for more details.\n",
      "  warnings.warn(\n",
      "2025/05/23 04:13:04 INFO mlflow.pyfunc: Validating input example against model signature\n",
      "Downloading artifacts: 100%|██████████| 7/7 [00:00<00:00, 3493.17it/s]\n",
      "\n"
     ]
    },
    {
     "name": "stdout",
     "output_type": "stream",
     "text": [
      "Training with c1=0.1, c2=0.1, max_iterations=150\n",
      "Using active MLflow experiment 'sentiment_classification' with ID 360311621043028179\n"
     ]
    },
    {
     "name": "stderr",
     "output_type": "stream",
     "text": [
      "d:\\Tailieudh\\ML\\Project\\ml-course-shibainu\\venv\\Lib\\site-packages\\mlflow\\types\\utils.py:452: UserWarning: Hint: Inferred schema contains integer column(s). Integer columns in Python cannot represent missing values. If your input data contains missing values at inference time, it will be encoded as floats and will cause a schema enforcement error. The best way to avoid this problem is to infer the model schema based on a realistic data sample (training dataset) that includes missing values. Alternatively, you can declare integer columns as doubles (float64) whenever these columns may have missing values. See `Handling Integers With Missing Values <https://www.mlflow.org/docs/latest/models.html#handling-integers-with-missing-values>`_ for more details.\n",
      "  warnings.warn(\n",
      "2025/05/23 04:13:15 INFO mlflow.pyfunc: Validating input example against model signature\n",
      "Downloading artifacts: 100%|██████████| 7/7 [00:00<00:00, 3501.92it/s]\n",
      "\n"
     ]
    },
    {
     "name": "stdout",
     "output_type": "stream",
     "text": [
      "Training with c1=0.1, c2=0.5, max_iterations=50\n",
      "Using active MLflow experiment 'sentiment_classification' with ID 360311621043028179\n"
     ]
    },
    {
     "name": "stderr",
     "output_type": "stream",
     "text": [
      "d:\\Tailieudh\\ML\\Project\\ml-course-shibainu\\venv\\Lib\\site-packages\\mlflow\\types\\utils.py:452: UserWarning: Hint: Inferred schema contains integer column(s). Integer columns in Python cannot represent missing values. If your input data contains missing values at inference time, it will be encoded as floats and will cause a schema enforcement error. The best way to avoid this problem is to infer the model schema based on a realistic data sample (training dataset) that includes missing values. Alternatively, you can declare integer columns as doubles (float64) whenever these columns may have missing values. See `Handling Integers With Missing Values <https://www.mlflow.org/docs/latest/models.html#handling-integers-with-missing-values>`_ for more details.\n",
      "  warnings.warn(\n",
      "2025/05/23 04:13:25 INFO mlflow.pyfunc: Validating input example against model signature\n",
      "Downloading artifacts: 100%|██████████| 7/7 [00:00<00:00, 1993.76it/s]\n",
      "\n"
     ]
    },
    {
     "name": "stdout",
     "output_type": "stream",
     "text": [
      "Training with c1=0.1, c2=0.5, max_iterations=100\n",
      "Using active MLflow experiment 'sentiment_classification' with ID 360311621043028179\n"
     ]
    },
    {
     "name": "stderr",
     "output_type": "stream",
     "text": [
      "d:\\Tailieudh\\ML\\Project\\ml-course-shibainu\\venv\\Lib\\site-packages\\mlflow\\types\\utils.py:452: UserWarning: Hint: Inferred schema contains integer column(s). Integer columns in Python cannot represent missing values. If your input data contains missing values at inference time, it will be encoded as floats and will cause a schema enforcement error. The best way to avoid this problem is to infer the model schema based on a realistic data sample (training dataset) that includes missing values. Alternatively, you can declare integer columns as doubles (float64) whenever these columns may have missing values. See `Handling Integers With Missing Values <https://www.mlflow.org/docs/latest/models.html#handling-integers-with-missing-values>`_ for more details.\n",
      "  warnings.warn(\n",
      "2025/05/23 04:13:36 INFO mlflow.pyfunc: Validating input example against model signature\n",
      "Downloading artifacts: 100%|██████████| 7/7 [00:00<00:00, 1654.18it/s]\n",
      "\n"
     ]
    },
    {
     "name": "stdout",
     "output_type": "stream",
     "text": [
      "Training with c1=0.1, c2=0.5, max_iterations=150\n",
      "Using active MLflow experiment 'sentiment_classification' with ID 360311621043028179\n"
     ]
    },
    {
     "name": "stderr",
     "output_type": "stream",
     "text": [
      "d:\\Tailieudh\\ML\\Project\\ml-course-shibainu\\venv\\Lib\\site-packages\\mlflow\\types\\utils.py:452: UserWarning: Hint: Inferred schema contains integer column(s). Integer columns in Python cannot represent missing values. If your input data contains missing values at inference time, it will be encoded as floats and will cause a schema enforcement error. The best way to avoid this problem is to infer the model schema based on a realistic data sample (training dataset) that includes missing values. Alternatively, you can declare integer columns as doubles (float64) whenever these columns may have missing values. See `Handling Integers With Missing Values <https://www.mlflow.org/docs/latest/models.html#handling-integers-with-missing-values>`_ for more details.\n",
      "  warnings.warn(\n",
      "2025/05/23 04:13:46 INFO mlflow.pyfunc: Validating input example against model signature\n",
      "Downloading artifacts: 100%|██████████| 7/7 [00:00<00:00, 1749.50it/s]\n",
      "\n"
     ]
    },
    {
     "name": "stdout",
     "output_type": "stream",
     "text": [
      "Training with c1=0.1, c2=1.0, max_iterations=50\n",
      "Using active MLflow experiment 'sentiment_classification' with ID 360311621043028179\n"
     ]
    },
    {
     "name": "stderr",
     "output_type": "stream",
     "text": [
      "d:\\Tailieudh\\ML\\Project\\ml-course-shibainu\\venv\\Lib\\site-packages\\mlflow\\types\\utils.py:452: UserWarning: Hint: Inferred schema contains integer column(s). Integer columns in Python cannot represent missing values. If your input data contains missing values at inference time, it will be encoded as floats and will cause a schema enforcement error. The best way to avoid this problem is to infer the model schema based on a realistic data sample (training dataset) that includes missing values. Alternatively, you can declare integer columns as doubles (float64) whenever these columns may have missing values. See `Handling Integers With Missing Values <https://www.mlflow.org/docs/latest/models.html#handling-integers-with-missing-values>`_ for more details.\n",
      "  warnings.warn(\n",
      "2025/05/23 04:13:56 INFO mlflow.pyfunc: Validating input example against model signature\n",
      "Downloading artifacts: 100%|██████████| 7/7 [00:00<00:00, 1379.38it/s]\n",
      "\n"
     ]
    },
    {
     "name": "stdout",
     "output_type": "stream",
     "text": [
      "Training with c1=0.1, c2=1.0, max_iterations=100\n",
      "Using active MLflow experiment 'sentiment_classification' with ID 360311621043028179\n"
     ]
    },
    {
     "name": "stderr",
     "output_type": "stream",
     "text": [
      "d:\\Tailieudh\\ML\\Project\\ml-course-shibainu\\venv\\Lib\\site-packages\\mlflow\\types\\utils.py:452: UserWarning: Hint: Inferred schema contains integer column(s). Integer columns in Python cannot represent missing values. If your input data contains missing values at inference time, it will be encoded as floats and will cause a schema enforcement error. The best way to avoid this problem is to infer the model schema based on a realistic data sample (training dataset) that includes missing values. Alternatively, you can declare integer columns as doubles (float64) whenever these columns may have missing values. See `Handling Integers With Missing Values <https://www.mlflow.org/docs/latest/models.html#handling-integers-with-missing-values>`_ for more details.\n",
      "  warnings.warn(\n",
      "2025/05/23 04:14:06 INFO mlflow.pyfunc: Validating input example against model signature\n",
      "Downloading artifacts: 100%|██████████| 7/7 [00:00<00:00, 1270.84it/s]\n",
      "\n"
     ]
    },
    {
     "name": "stdout",
     "output_type": "stream",
     "text": [
      "Training with c1=0.1, c2=1.0, max_iterations=150\n",
      "Using active MLflow experiment 'sentiment_classification' with ID 360311621043028179\n"
     ]
    },
    {
     "name": "stderr",
     "output_type": "stream",
     "text": [
      "d:\\Tailieudh\\ML\\Project\\ml-course-shibainu\\venv\\Lib\\site-packages\\mlflow\\types\\utils.py:452: UserWarning: Hint: Inferred schema contains integer column(s). Integer columns in Python cannot represent missing values. If your input data contains missing values at inference time, it will be encoded as floats and will cause a schema enforcement error. The best way to avoid this problem is to infer the model schema based on a realistic data sample (training dataset) that includes missing values. Alternatively, you can declare integer columns as doubles (float64) whenever these columns may have missing values. See `Handling Integers With Missing Values <https://www.mlflow.org/docs/latest/models.html#handling-integers-with-missing-values>`_ for more details.\n",
      "  warnings.warn(\n",
      "2025/05/23 04:14:16 INFO mlflow.pyfunc: Validating input example against model signature\n",
      "Downloading artifacts: 100%|██████████| 7/7 [00:00<00:00, 1166.80it/s]\n",
      "\n"
     ]
    },
    {
     "name": "stdout",
     "output_type": "stream",
     "text": [
      "Training with c1=0.5, c2=0.1, max_iterations=50\n",
      "Using active MLflow experiment 'sentiment_classification' with ID 360311621043028179\n"
     ]
    },
    {
     "name": "stderr",
     "output_type": "stream",
     "text": [
      "d:\\Tailieudh\\ML\\Project\\ml-course-shibainu\\venv\\Lib\\site-packages\\mlflow\\types\\utils.py:452: UserWarning: Hint: Inferred schema contains integer column(s). Integer columns in Python cannot represent missing values. If your input data contains missing values at inference time, it will be encoded as floats and will cause a schema enforcement error. The best way to avoid this problem is to infer the model schema based on a realistic data sample (training dataset) that includes missing values. Alternatively, you can declare integer columns as doubles (float64) whenever these columns may have missing values. See `Handling Integers With Missing Values <https://www.mlflow.org/docs/latest/models.html#handling-integers-with-missing-values>`_ for more details.\n",
      "  warnings.warn(\n",
      "2025/05/23 04:14:26 INFO mlflow.pyfunc: Validating input example against model signature\n",
      "Downloading artifacts: 100%|██████████| 7/7 [00:00<00:00, 3494.01it/s]\n",
      "\n"
     ]
    },
    {
     "name": "stdout",
     "output_type": "stream",
     "text": [
      "Training with c1=0.5, c2=0.1, max_iterations=100\n",
      "Using active MLflow experiment 'sentiment_classification' with ID 360311621043028179\n"
     ]
    },
    {
     "name": "stderr",
     "output_type": "stream",
     "text": [
      "d:\\Tailieudh\\ML\\Project\\ml-course-shibainu\\venv\\Lib\\site-packages\\mlflow\\types\\utils.py:452: UserWarning: Hint: Inferred schema contains integer column(s). Integer columns in Python cannot represent missing values. If your input data contains missing values at inference time, it will be encoded as floats and will cause a schema enforcement error. The best way to avoid this problem is to infer the model schema based on a realistic data sample (training dataset) that includes missing values. Alternatively, you can declare integer columns as doubles (float64) whenever these columns may have missing values. See `Handling Integers With Missing Values <https://www.mlflow.org/docs/latest/models.html#handling-integers-with-missing-values>`_ for more details.\n",
      "  warnings.warn(\n",
      "2025/05/23 04:14:36 INFO mlflow.pyfunc: Validating input example against model signature\n",
      "Downloading artifacts: 100%|██████████| 7/7 [00:00<00:00, 3502.76it/s]\n",
      "\n"
     ]
    },
    {
     "name": "stdout",
     "output_type": "stream",
     "text": [
      "Training with c1=0.5, c2=0.1, max_iterations=150\n",
      "Using active MLflow experiment 'sentiment_classification' with ID 360311621043028179\n"
     ]
    },
    {
     "name": "stderr",
     "output_type": "stream",
     "text": [
      "d:\\Tailieudh\\ML\\Project\\ml-course-shibainu\\venv\\Lib\\site-packages\\mlflow\\types\\utils.py:452: UserWarning: Hint: Inferred schema contains integer column(s). Integer columns in Python cannot represent missing values. If your input data contains missing values at inference time, it will be encoded as floats and will cause a schema enforcement error. The best way to avoid this problem is to infer the model schema based on a realistic data sample (training dataset) that includes missing values. Alternatively, you can declare integer columns as doubles (float64) whenever these columns may have missing values. See `Handling Integers With Missing Values <https://www.mlflow.org/docs/latest/models.html#handling-integers-with-missing-values>`_ for more details.\n",
      "  warnings.warn(\n",
      "2025/05/23 04:14:47 INFO mlflow.pyfunc: Validating input example against model signature\n",
      "Downloading artifacts: 100%|██████████| 7/7 [00:00<00:00, 3497.34it/s]\n",
      "\n"
     ]
    },
    {
     "name": "stdout",
     "output_type": "stream",
     "text": [
      "Training with c1=0.5, c2=0.5, max_iterations=50\n",
      "Using active MLflow experiment 'sentiment_classification' with ID 360311621043028179\n"
     ]
    },
    {
     "name": "stderr",
     "output_type": "stream",
     "text": [
      "d:\\Tailieudh\\ML\\Project\\ml-course-shibainu\\venv\\Lib\\site-packages\\mlflow\\types\\utils.py:452: UserWarning: Hint: Inferred schema contains integer column(s). Integer columns in Python cannot represent missing values. If your input data contains missing values at inference time, it will be encoded as floats and will cause a schema enforcement error. The best way to avoid this problem is to infer the model schema based on a realistic data sample (training dataset) that includes missing values. Alternatively, you can declare integer columns as doubles (float64) whenever these columns may have missing values. See `Handling Integers With Missing Values <https://www.mlflow.org/docs/latest/models.html#handling-integers-with-missing-values>`_ for more details.\n",
      "  warnings.warn(\n",
      "2025/05/23 04:14:56 INFO mlflow.pyfunc: Validating input example against model signature\n",
      "Downloading artifacts: 100%|██████████| 7/7 [00:00<00:00, 2330.54it/s]\n",
      "\n"
     ]
    },
    {
     "name": "stdout",
     "output_type": "stream",
     "text": [
      "Training with c1=0.5, c2=0.5, max_iterations=100\n",
      "Using active MLflow experiment 'sentiment_classification' with ID 360311621043028179\n"
     ]
    },
    {
     "name": "stderr",
     "output_type": "stream",
     "text": [
      "d:\\Tailieudh\\ML\\Project\\ml-course-shibainu\\venv\\Lib\\site-packages\\mlflow\\types\\utils.py:452: UserWarning: Hint: Inferred schema contains integer column(s). Integer columns in Python cannot represent missing values. If your input data contains missing values at inference time, it will be encoded as floats and will cause a schema enforcement error. The best way to avoid this problem is to infer the model schema based on a realistic data sample (training dataset) that includes missing values. Alternatively, you can declare integer columns as doubles (float64) whenever these columns may have missing values. See `Handling Integers With Missing Values <https://www.mlflow.org/docs/latest/models.html#handling-integers-with-missing-values>`_ for more details.\n",
      "  warnings.warn(\n",
      "2025/05/23 04:15:06 INFO mlflow.pyfunc: Validating input example against model signature\n",
      "Downloading artifacts: 100%|██████████| 7/7 [00:00<00:00, 2800.20it/s]\n",
      "\n"
     ]
    },
    {
     "name": "stdout",
     "output_type": "stream",
     "text": [
      "Training with c1=0.5, c2=0.5, max_iterations=150\n",
      "Using active MLflow experiment 'sentiment_classification' with ID 360311621043028179\n"
     ]
    },
    {
     "name": "stderr",
     "output_type": "stream",
     "text": [
      "d:\\Tailieudh\\ML\\Project\\ml-course-shibainu\\venv\\Lib\\site-packages\\mlflow\\types\\utils.py:452: UserWarning: Hint: Inferred schema contains integer column(s). Integer columns in Python cannot represent missing values. If your input data contains missing values at inference time, it will be encoded as floats and will cause a schema enforcement error. The best way to avoid this problem is to infer the model schema based on a realistic data sample (training dataset) that includes missing values. Alternatively, you can declare integer columns as doubles (float64) whenever these columns may have missing values. See `Handling Integers With Missing Values <https://www.mlflow.org/docs/latest/models.html#handling-integers-with-missing-values>`_ for more details.\n",
      "  warnings.warn(\n",
      "2025/05/23 04:15:16 INFO mlflow.pyfunc: Validating input example against model signature\n",
      "Downloading artifacts: 100%|██████████| 7/7 [00:00<00:00, 3369.31it/s]\n",
      "\n"
     ]
    },
    {
     "name": "stdout",
     "output_type": "stream",
     "text": [
      "Training with c1=0.5, c2=1.0, max_iterations=50\n",
      "Using active MLflow experiment 'sentiment_classification' with ID 360311621043028179\n"
     ]
    },
    {
     "name": "stderr",
     "output_type": "stream",
     "text": [
      "d:\\Tailieudh\\ML\\Project\\ml-course-shibainu\\venv\\Lib\\site-packages\\mlflow\\types\\utils.py:452: UserWarning: Hint: Inferred schema contains integer column(s). Integer columns in Python cannot represent missing values. If your input data contains missing values at inference time, it will be encoded as floats and will cause a schema enforcement error. The best way to avoid this problem is to infer the model schema based on a realistic data sample (training dataset) that includes missing values. Alternatively, you can declare integer columns as doubles (float64) whenever these columns may have missing values. See `Handling Integers With Missing Values <https://www.mlflow.org/docs/latest/models.html#handling-integers-with-missing-values>`_ for more details.\n",
      "  warnings.warn(\n",
      "2025/05/23 04:15:26 INFO mlflow.pyfunc: Validating input example against model signature\n",
      "Downloading artifacts: 100%|██████████| 7/7 [00:00<00:00, 3501.51it/s]\n",
      "\n"
     ]
    },
    {
     "name": "stdout",
     "output_type": "stream",
     "text": [
      "Training with c1=0.5, c2=1.0, max_iterations=100\n",
      "Using active MLflow experiment 'sentiment_classification' with ID 360311621043028179\n"
     ]
    },
    {
     "name": "stderr",
     "output_type": "stream",
     "text": [
      "d:\\Tailieudh\\ML\\Project\\ml-course-shibainu\\venv\\Lib\\site-packages\\mlflow\\types\\utils.py:452: UserWarning: Hint: Inferred schema contains integer column(s). Integer columns in Python cannot represent missing values. If your input data contains missing values at inference time, it will be encoded as floats and will cause a schema enforcement error. The best way to avoid this problem is to infer the model schema based on a realistic data sample (training dataset) that includes missing values. Alternatively, you can declare integer columns as doubles (float64) whenever these columns may have missing values. See `Handling Integers With Missing Values <https://www.mlflow.org/docs/latest/models.html#handling-integers-with-missing-values>`_ for more details.\n",
      "  warnings.warn(\n",
      "2025/05/23 04:15:35 INFO mlflow.pyfunc: Validating input example against model signature\n",
      "Downloading artifacts: 100%|██████████| 7/7 [00:00<00:00, 3489.85it/s]\n",
      "\n"
     ]
    },
    {
     "name": "stdout",
     "output_type": "stream",
     "text": [
      "Training with c1=0.5, c2=1.0, max_iterations=150\n",
      "Using active MLflow experiment 'sentiment_classification' with ID 360311621043028179\n"
     ]
    },
    {
     "name": "stderr",
     "output_type": "stream",
     "text": [
      "d:\\Tailieudh\\ML\\Project\\ml-course-shibainu\\venv\\Lib\\site-packages\\mlflow\\types\\utils.py:452: UserWarning: Hint: Inferred schema contains integer column(s). Integer columns in Python cannot represent missing values. If your input data contains missing values at inference time, it will be encoded as floats and will cause a schema enforcement error. The best way to avoid this problem is to infer the model schema based on a realistic data sample (training dataset) that includes missing values. Alternatively, you can declare integer columns as doubles (float64) whenever these columns may have missing values. See `Handling Integers With Missing Values <https://www.mlflow.org/docs/latest/models.html#handling-integers-with-missing-values>`_ for more details.\n",
      "  warnings.warn(\n",
      "2025/05/23 04:15:45 INFO mlflow.pyfunc: Validating input example against model signature\n",
      "Downloading artifacts: 100%|██████████| 7/7 [00:00<00:00, 3366.60it/s]\n",
      "\n"
     ]
    },
    {
     "name": "stdout",
     "output_type": "stream",
     "text": [
      "Training with c1=1.0, c2=0.1, max_iterations=50\n",
      "Using active MLflow experiment 'sentiment_classification' with ID 360311621043028179\n"
     ]
    },
    {
     "name": "stderr",
     "output_type": "stream",
     "text": [
      "d:\\Tailieudh\\ML\\Project\\ml-course-shibainu\\venv\\Lib\\site-packages\\mlflow\\types\\utils.py:452: UserWarning: Hint: Inferred schema contains integer column(s). Integer columns in Python cannot represent missing values. If your input data contains missing values at inference time, it will be encoded as floats and will cause a schema enforcement error. The best way to avoid this problem is to infer the model schema based on a realistic data sample (training dataset) that includes missing values. Alternatively, you can declare integer columns as doubles (float64) whenever these columns may have missing values. See `Handling Integers With Missing Values <https://www.mlflow.org/docs/latest/models.html#handling-integers-with-missing-values>`_ for more details.\n",
      "  warnings.warn(\n",
      "2025/05/23 04:15:55 INFO mlflow.pyfunc: Validating input example against model signature\n",
      "Downloading artifacts: 100%|██████████| 7/7 [00:00<00:00, 3505.69it/s]\n",
      "\n"
     ]
    },
    {
     "name": "stdout",
     "output_type": "stream",
     "text": [
      "Training with c1=1.0, c2=0.1, max_iterations=100\n",
      "Using active MLflow experiment 'sentiment_classification' with ID 360311621043028179\n"
     ]
    },
    {
     "name": "stderr",
     "output_type": "stream",
     "text": [
      "d:\\Tailieudh\\ML\\Project\\ml-course-shibainu\\venv\\Lib\\site-packages\\mlflow\\types\\utils.py:452: UserWarning: Hint: Inferred schema contains integer column(s). Integer columns in Python cannot represent missing values. If your input data contains missing values at inference time, it will be encoded as floats and will cause a schema enforcement error. The best way to avoid this problem is to infer the model schema based on a realistic data sample (training dataset) that includes missing values. Alternatively, you can declare integer columns as doubles (float64) whenever these columns may have missing values. See `Handling Integers With Missing Values <https://www.mlflow.org/docs/latest/models.html#handling-integers-with-missing-values>`_ for more details.\n",
      "  warnings.warn(\n",
      "2025/05/23 04:16:05 INFO mlflow.pyfunc: Validating input example against model signature\n",
      "Downloading artifacts: 100%|██████████| 7/7 [00:00<00:00, 2332.95it/s]\n",
      "\n"
     ]
    },
    {
     "name": "stdout",
     "output_type": "stream",
     "text": [
      "Training with c1=1.0, c2=0.1, max_iterations=150\n",
      "Using active MLflow experiment 'sentiment_classification' with ID 360311621043028179\n"
     ]
    },
    {
     "name": "stderr",
     "output_type": "stream",
     "text": [
      "d:\\Tailieudh\\ML\\Project\\ml-course-shibainu\\venv\\Lib\\site-packages\\mlflow\\types\\utils.py:452: UserWarning: Hint: Inferred schema contains integer column(s). Integer columns in Python cannot represent missing values. If your input data contains missing values at inference time, it will be encoded as floats and will cause a schema enforcement error. The best way to avoid this problem is to infer the model schema based on a realistic data sample (training dataset) that includes missing values. Alternatively, you can declare integer columns as doubles (float64) whenever these columns may have missing values. See `Handling Integers With Missing Values <https://www.mlflow.org/docs/latest/models.html#handling-integers-with-missing-values>`_ for more details.\n",
      "  warnings.warn(\n",
      "2025/05/23 04:16:15 INFO mlflow.pyfunc: Validating input example against model signature\n",
      "Downloading artifacts: 100%|██████████| 7/7 [00:00<00:00, 3501.09it/s]\n",
      "\n"
     ]
    },
    {
     "name": "stdout",
     "output_type": "stream",
     "text": [
      "Training with c1=1.0, c2=0.5, max_iterations=50\n",
      "Using active MLflow experiment 'sentiment_classification' with ID 360311621043028179\n"
     ]
    },
    {
     "name": "stderr",
     "output_type": "stream",
     "text": [
      "d:\\Tailieudh\\ML\\Project\\ml-course-shibainu\\venv\\Lib\\site-packages\\mlflow\\types\\utils.py:452: UserWarning: Hint: Inferred schema contains integer column(s). Integer columns in Python cannot represent missing values. If your input data contains missing values at inference time, it will be encoded as floats and will cause a schema enforcement error. The best way to avoid this problem is to infer the model schema based on a realistic data sample (training dataset) that includes missing values. Alternatively, you can declare integer columns as doubles (float64) whenever these columns may have missing values. See `Handling Integers With Missing Values <https://www.mlflow.org/docs/latest/models.html#handling-integers-with-missing-values>`_ for more details.\n",
      "  warnings.warn(\n",
      "2025/05/23 04:16:25 INFO mlflow.pyfunc: Validating input example against model signature\n",
      "Downloading artifacts: 100%|██████████| 7/7 [00:00<00:00, 2332.58it/s]\n",
      "\n"
     ]
    },
    {
     "name": "stdout",
     "output_type": "stream",
     "text": [
      "Training with c1=1.0, c2=0.5, max_iterations=100\n",
      "Using active MLflow experiment 'sentiment_classification' with ID 360311621043028179\n"
     ]
    },
    {
     "name": "stderr",
     "output_type": "stream",
     "text": [
      "d:\\Tailieudh\\ML\\Project\\ml-course-shibainu\\venv\\Lib\\site-packages\\mlflow\\types\\utils.py:452: UserWarning: Hint: Inferred schema contains integer column(s). Integer columns in Python cannot represent missing values. If your input data contains missing values at inference time, it will be encoded as floats and will cause a schema enforcement error. The best way to avoid this problem is to infer the model schema based on a realistic data sample (training dataset) that includes missing values. Alternatively, you can declare integer columns as doubles (float64) whenever these columns may have missing values. See `Handling Integers With Missing Values <https://www.mlflow.org/docs/latest/models.html#handling-integers-with-missing-values>`_ for more details.\n",
      "  warnings.warn(\n",
      "2025/05/23 04:16:35 INFO mlflow.pyfunc: Validating input example against model signature\n",
      "Downloading artifacts: 100%|██████████| 7/7 [00:00<00:00, 6998.84it/s]\n",
      "\n"
     ]
    },
    {
     "name": "stdout",
     "output_type": "stream",
     "text": [
      "Training with c1=1.0, c2=0.5, max_iterations=150\n",
      "Using active MLflow experiment 'sentiment_classification' with ID 360311621043028179\n"
     ]
    },
    {
     "name": "stderr",
     "output_type": "stream",
     "text": [
      "d:\\Tailieudh\\ML\\Project\\ml-course-shibainu\\venv\\Lib\\site-packages\\mlflow\\types\\utils.py:452: UserWarning: Hint: Inferred schema contains integer column(s). Integer columns in Python cannot represent missing values. If your input data contains missing values at inference time, it will be encoded as floats and will cause a schema enforcement error. The best way to avoid this problem is to infer the model schema based on a realistic data sample (training dataset) that includes missing values. Alternatively, you can declare integer columns as doubles (float64) whenever these columns may have missing values. See `Handling Integers With Missing Values <https://www.mlflow.org/docs/latest/models.html#handling-integers-with-missing-values>`_ for more details.\n",
      "  warnings.warn(\n",
      "2025/05/23 04:16:44 INFO mlflow.pyfunc: Validating input example against model signature\n",
      "Downloading artifacts: 100%|██████████| 7/7 [00:00<00:00, 7008.86it/s]\n",
      "\n"
     ]
    },
    {
     "name": "stdout",
     "output_type": "stream",
     "text": [
      "Training with c1=1.0, c2=1.0, max_iterations=50\n",
      "Using active MLflow experiment 'sentiment_classification' with ID 360311621043028179\n"
     ]
    },
    {
     "name": "stderr",
     "output_type": "stream",
     "text": [
      "d:\\Tailieudh\\ML\\Project\\ml-course-shibainu\\venv\\Lib\\site-packages\\mlflow\\types\\utils.py:452: UserWarning: Hint: Inferred schema contains integer column(s). Integer columns in Python cannot represent missing values. If your input data contains missing values at inference time, it will be encoded as floats and will cause a schema enforcement error. The best way to avoid this problem is to infer the model schema based on a realistic data sample (training dataset) that includes missing values. Alternatively, you can declare integer columns as doubles (float64) whenever these columns may have missing values. See `Handling Integers With Missing Values <https://www.mlflow.org/docs/latest/models.html#handling-integers-with-missing-values>`_ for more details.\n",
      "  warnings.warn(\n",
      "2025/05/23 04:16:54 INFO mlflow.pyfunc: Validating input example against model signature\n",
      "Downloading artifacts: 100%|██████████| 7/7 [00:00<00:00, 3500.25it/s]\n",
      "\n"
     ]
    },
    {
     "name": "stdout",
     "output_type": "stream",
     "text": [
      "Training with c1=1.0, c2=1.0, max_iterations=100\n",
      "Using active MLflow experiment 'sentiment_classification' with ID 360311621043028179\n"
     ]
    },
    {
     "name": "stderr",
     "output_type": "stream",
     "text": [
      "d:\\Tailieudh\\ML\\Project\\ml-course-shibainu\\venv\\Lib\\site-packages\\mlflow\\types\\utils.py:452: UserWarning: Hint: Inferred schema contains integer column(s). Integer columns in Python cannot represent missing values. If your input data contains missing values at inference time, it will be encoded as floats and will cause a schema enforcement error. The best way to avoid this problem is to infer the model schema based on a realistic data sample (training dataset) that includes missing values. Alternatively, you can declare integer columns as doubles (float64) whenever these columns may have missing values. See `Handling Integers With Missing Values <https://www.mlflow.org/docs/latest/models.html#handling-integers-with-missing-values>`_ for more details.\n",
      "  warnings.warn(\n",
      "2025/05/23 04:17:03 INFO mlflow.pyfunc: Validating input example against model signature\n",
      "Downloading artifacts: 100%|██████████| 7/7 [00:00<00:00, 4653.69it/s]\n",
      "\n"
     ]
    },
    {
     "name": "stdout",
     "output_type": "stream",
     "text": [
      "Training with c1=1.0, c2=1.0, max_iterations=150\n",
      "Using active MLflow experiment 'sentiment_classification' with ID 360311621043028179\n"
     ]
    },
    {
     "name": "stderr",
     "output_type": "stream",
     "text": [
      "d:\\Tailieudh\\ML\\Project\\ml-course-shibainu\\venv\\Lib\\site-packages\\mlflow\\types\\utils.py:452: UserWarning: Hint: Inferred schema contains integer column(s). Integer columns in Python cannot represent missing values. If your input data contains missing values at inference time, it will be encoded as floats and will cause a schema enforcement error. The best way to avoid this problem is to infer the model schema based on a realistic data sample (training dataset) that includes missing values. Alternatively, you can declare integer columns as doubles (float64) whenever these columns may have missing values. See `Handling Integers With Missing Values <https://www.mlflow.org/docs/latest/models.html#handling-integers-with-missing-values>`_ for more details.\n",
      "  warnings.warn(\n",
      "2025/05/23 04:17:13 INFO mlflow.pyfunc: Validating input example against model signature\n",
      "Downloading artifacts: 100%|██████████| 7/7 [00:00<00:00, 3496.09it/s]\n",
      "\n"
     ]
    }
   ],
   "source": [
    "results = []\n",
    "\n",
    "for c1 in c1_values:\n",
    "    for c2 in c2_values:\n",
    "        for max_iter in max_iterations_values:\n",
    "            print(f\"Training with c1={c1}, c2={c2}, max_iterations={max_iter}\")\n",
    "            try:\n",
    "                run_id = ModelTrainer.crf(c1=c1, c2=c2, max_iterations=max_iter)\n",
    "\n",
    "                with mlflow.start_run(run_id=run_id):\n",
    "                    run = mlflow.get_run(run_id)\n",
    "                    metrics = run.data.metrics\n",
    "                    params = run.data.params\n",
    "\n",
    "                    results.append({\n",
    "                        'run_id': run_id,\n",
    "                        'c1': params.get('c1'),\n",
    "                        'c2': params.get('c2'),\n",
    "                        'max_iterations': params.get('max_iterations'),\n",
    "                        'train_accuracy': metrics.get('train_accuracy'),\n",
    "                        'test_accuracy': metrics.get('test_accuracy'),\n",
    "                        'test_precision': metrics.get('test_precision'),\n",
    "                        'test_recall': metrics.get('test_recall'),\n",
    "                        'test_f1': metrics.get('test_f1'),\n",
    "                    })\n",
    "            except Exception as e:\n",
    "                print(f\"Error training with c1={c1}, c2={c2}, max_iterations={max_iter}: {e}\")\n",
    "                continue"
   ]
  },
  {
   "cell_type": "markdown",
   "id": "f16a0c6a",
   "metadata": {},
   "source": [
    "## Print All Model Test Accuracies\n",
    "\n",
    "Let's display the test accuracies for all models, sorted by performance."
   ]
  },
  {
   "cell_type": "code",
   "execution_count": 4,
   "id": "f1fc6193",
   "metadata": {},
   "outputs": [
    {
     "name": "stdout",
     "output_type": "stream",
     "text": [
      "\n",
      "All Models Test Accuracies (sorted):\n",
      "\n",
      " c1  c2 max_iterations  test_accuracy\n",
      "0.1 1.0            150       0.767964\n",
      "0.1 1.0            100       0.767964\n",
      "0.1 1.0             50       0.767964\n",
      "0.1 0.5            150       0.765968\n",
      "0.1 0.5            100       0.765968\n",
      "0.1 0.5             50       0.765968\n",
      "0.5 1.0            100       0.742265\n",
      "0.5 1.0            150       0.742265\n",
      "0.5 1.0             50       0.742265\n",
      "0.1 0.1            150       0.737525\n",
      "0.1 0.1             50       0.737525\n",
      "0.1 0.1            100       0.737525\n",
      "0.5 0.5            150       0.733034\n",
      "0.5 0.5            100       0.733034\n",
      "0.5 0.5             50       0.733034\n",
      "1.0 1.0             50       0.726547\n",
      "1.0 1.0            100       0.726547\n",
      "1.0 1.0            150       0.726547\n",
      "1.0 0.5            150       0.712824\n",
      "1.0 0.5             50       0.712824\n",
      "1.0 0.5            100       0.712824\n",
      "0.5 0.1            100       0.708084\n",
      "0.5 0.1             50       0.708084\n",
      "0.5 0.1            150       0.708084\n",
      "1.0 0.1             50       0.693613\n",
      "1.0 0.1            100       0.693613\n",
      "1.0 0.1            150       0.693613\n"
     ]
    },
    {
     "data": {
      "image/png": "[encoded data removed]",
      "text/plain": [
       "<Figure size 1200x600 with 1 Axes>"
      ]
     },
     "metadata": {},
     "output_type": "display_data"
    }
   ],
   "source": [
    "# Create dataframe from results\n",
    "results_df = pd.DataFrame(results)\n",
    "\n",
    "# Print all model test accuracies, sorted from best to worst\n",
    "if not results_df.empty and 'test_accuracy' in results_df.columns:\n",
    "    sorted_results = results_df.sort_values('test_accuracy', ascending=False)\n",
    "    \n",
    "    print(\"\\nAll Models Test Accuracies (sorted):\\n\")\n",
    "    print(sorted_results[['c1', 'c2', 'max_iterations', 'test_accuracy']].to_string(index=False))\n",
    "    \n",
    "    # Create a combined label for each configuration\n",
    "    sorted_results['config'] = sorted_results.apply(\n",
    "        lambda row: f\"c1={row['c1']}, c2={row['c2']}, max_iter={row['max_iterations']}\", axis=1)\n",
    "    \n",
    "    # Plot with the combined label\n",
    "    sorted_results.plot(\n",
    "        kind='bar', x='config', y='test_accuracy', figsize=(12, 6),\n",
    "        title='Test Accuracy by Hyperparameter Configuration'\n",
    "    )\n",
    "else:\n",
    "    print(\"\\nNo successful model runs found with test_accuracy metric.\")"
   ]
  },
  {
   "cell_type": "markdown",
   "id": "7810f5ed",
   "metadata": {},
   "source": [
    "## Analyzing Results and Finding the Best Model"
   ]
  },
  {
   "cell_type": "code",
   "execution_count": 5,
   "id": "03cb186b",
   "metadata": {},
   "outputs": [
    {
     "name": "stdout",
     "output_type": "stream",
     "text": [
      "\n",
      "Best model:\n",
      "c1: 0.1, c2: 1.0, max_iterations: 50\n",
      "Test Accuracy: 0.7680\n",
      "Test F1: 0.7160\n",
      "Test Precision: 0.7186\n",
      "Test Recall: 0.7680\n",
      "Train Accuracy: 1.0000\n",
      "Run ID: 84aa31ed76cc40429992bf657e4c8af8\n"
     ]
    }
   ],
   "source": [
    "# Find the best model\n",
    "if not results_df.empty and 'test_accuracy' in results_df.columns:\n",
    "    best_model = results_df.loc[results_df['test_accuracy'].idxmax()]\n",
    "    best_run_id = best_model['run_id']\n",
    "    \n",
    "    print(\"\\nBest model:\")\n",
    "    print(f\"c1: {best_model['c1']}, c2: {best_model['c2']}, max_iterations: {best_model['max_iterations']}\")\n",
    "    \n",
    "    # Print test metrics\n",
    "    print(f\"Test Accuracy: {best_model['test_accuracy']:.4f}\")\n",
    "    \n",
    "    # Check and print other test metrics if they exist\n",
    "    for metric in ['test_f1', 'test_precision', 'test_recall']:\n",
    "        if metric in best_model:\n",
    "            print(f\"{metric.replace('_', ' ').title()}: {best_model[metric]:.4f}\")\n",
    "    \n",
    "    # Print train metrics\n",
    "    if 'train_accuracy' in best_model:\n",
    "        print(f\"Train Accuracy: {best_model['train_accuracy']:.4f}\")\n",
    "    \n",
    "    # Check and print other train metrics if they exist\n",
    "    for metric in ['train_f1', 'train_precision', 'train_recall']:\n",
    "        if metric in best_model:\n",
    "            print(f\"{metric.replace('_', ' ').title()}: {best_model[metric]:.4f}\")\n",
    "    \n",
    "    print(f\"Run ID: {best_run_id}\")\n",
    "else:\n",
    "    print(\"\\nNo successful model runs found with test_accuracy metric.\")\n",
    "    best_run_id = None"
   ]
  },
  {
   "cell_type": "markdown",
   "id": "26e53794",
   "metadata": {},
   "source": [
    "## Making Predictions with the Best Model"
   ]
  },
  {
   "cell_type": "code",
   "execution_count": 6,
   "id": "b9879620",
   "metadata": {},
   "outputs": [
    {
     "name": "stdout",
     "output_type": "stream",
     "text": [
      "\n",
      "Predictions with Best Model (Run ID: 84aa31ed...):\n",
      "\n",
      "'This product works great!' -> Negative\n",
      "'Terrible experience...' -> Negative\n"
     ]
    }
   ],
   "source": [
    "if best_run_id is not None:\n",
    "    # Prediction with the best model found\n",
    "    texts = np.array([\"This product works great!\", \"Terrible experience...\"])\n",
    "    predictions = ModelPredictor.predict(best_run_id, texts)\n",
    "\n",
    "    print(f\"\\nPredictions with Best Model (Run ID: {best_run_id[:8]}...):\\n\")\n",
    "    for text, pred in zip(texts, predictions):\n",
    "        sentiment = \"Positive\" if pred == 1 else \"Negative\"\n",
    "        print(f\"'{text}' -> {sentiment}\")"
   ]
  }
 ],
 "metadata": {
  "kernelspec": {
   "display_name": "venv",
   "language": "python",
   "name": "python3"
  },
  "language_info": {
   "codemirror_mode": {
    "name": "ipython",
    "version": 3
   },
   "file_extension": ".py",
   "mimetype": "text/x-python",
   "name": "python",
   "nbconvert_exporter": "python",
   "pygments_lexer": "ipython3",
   "version": "3.12.9"
  }
 },
 "nbformat": 4,
 "nbformat_minor": 5
}
