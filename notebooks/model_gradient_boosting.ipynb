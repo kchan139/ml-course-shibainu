{
 "cells": [
  {
   "cell_type": "markdown",
   "id": "8e6b56ca",
   "metadata": {},
   "source": [
    "# Hyperparameter Tuning for Sentiment Analysis with Gradient Boosting\n",
    "\n",
    "This notebook demonstrates hyperparameter optimization for a Gradient Boosting Classifier model to perform sentiment analysis. We'll track experiments with MLflow and find the best model configuration."
   ]
  },
  {
   "cell_type": "markdown",
   "id": "0f438de0",
   "metadata": {},
   "source": [
    "## Setup and Imports"
   ]
  },
  {
   "cell_type": "code",
   "execution_count": 1,
   "id": "7926af45",
   "metadata": {},
   "outputs": [],
   "source": [
    "import numpy as np\n",
    "import mlflow\n",
    "import pandas as pd\n",
    "import matplotlib.pyplot as plt\n",
    "import seaborn as sns\n",
    "\n",
    "import sys\n",
    "sys.path.append('..')\n",
    "from src.models.train_models import ModelTrainer\n",
    "from src.models.predict_models import ModelPredictor\n",
    "from src.config import *"
   ]
  },
  {
   "cell_type": "markdown",
   "id": "e1503ce0",
   "metadata": {},
   "source": [
    "## Define Hyperparameter Grid\n",
    "\n",
    "We'll create a grid of hyperparameters to search through:\n",
    "\n",
    "- **n_estimators**: Number of boosting stages/trees\n",
    "- **learning_rate**: Step size shrinkage used to prevent overfitting\n",
    "- **max_depth**: Maximum depth of individual regression estimators"
   ]
  },
  {
   "cell_type": "code",
   "execution_count": null,
   "id": "3b77b775",
   "metadata": {},
   "outputs": [],
   "source": [
    "# Define hyperparameter grids to search \n",
    "n_estimators_values = [50, 100, 200]\n",
    "learning_rate_values = [0.05, 0.1, 0.2]\n",
    "max_depth_values = [3, 5, 7]"
   ]
  },
  {
   "cell_type": "markdown",
   "id": "7190d527",
   "metadata": {},
   "source": [
    "## Hyperparameter Grid Search\n",
    "\n",
    "Now we'll run through all combinations of hyperparameters and track the results using MLflow."
   ]
  },
  {
   "cell_type": "code",
   "execution_count": 3,
   "id": "a8791393",
   "metadata": {},
   "outputs": [
    {
     "name": "stdout",
     "output_type": "stream",
     "text": [
      "Training with n_estimators=50, learning_rate=0.05, max_depth=3\n",
      "Using active MLflow experiment 'sentiment_classification' with ID 628719013361640366\n"
     ]
    },
    {
     "name": "stderr",
     "output_type": "stream",
     "text": [
      "e:\\HCMUT-year 3 project\\ml-course-shibainu-1\\venv\\Lib\\site-packages\\tqdm\\auto.py:21: TqdmWarning: IProgress not found. Please update jupyter and ipywidgets. See https://ipywidgets.readthedocs.io/en/stable/user_install.html\n",
      "  from .autonotebook import tqdm as notebook_tqdm\n",
      "Downloading artifacts: 100%|██████████| 7/7 [00:00<00:00, 2337.40it/s]\n",
      "\n"
     ]
    },
    {
     "name": "stdout",
     "output_type": "stream",
     "text": [
      "Training with n_estimators=50, learning_rate=0.05, max_depth=5\n",
      "Using active MLflow experiment 'sentiment_classification' with ID 628719013361640366\n"
     ]
    },
    {
     "name": "stderr",
     "output_type": "stream",
     "text": [
      "Downloading artifacts: 100%|██████████| 7/7 [00:00<00:00, 2332.02it/s]\n",
      "\n"
     ]
    },
    {
     "name": "stdout",
     "output_type": "stream",
     "text": [
      "Training with n_estimators=50, learning_rate=0.05, max_depth=7\n",
      "Using active MLflow experiment 'sentiment_classification' with ID 628719013361640366\n"
     ]
    },
    {
     "name": "stderr",
     "output_type": "stream",
     "text": [
      "Downloading artifacts: 100%|██████████| 7/7 [00:00<00:00, 2331.83it/s]\n",
      "\n"
     ]
    },
    {
     "name": "stdout",
     "output_type": "stream",
     "text": [
      "Training with n_estimators=50, learning_rate=0.1, max_depth=3\n",
      "Using active MLflow experiment 'sentiment_classification' with ID 628719013361640366\n"
     ]
    },
    {
     "name": "stderr",
     "output_type": "stream",
     "text": [
      "Downloading artifacts: 100%|██████████| 7/7 [00:00<00:00, 534.73it/s] \n",
      "\n"
     ]
    },
    {
     "name": "stdout",
     "output_type": "stream",
     "text": [
      "Training with n_estimators=50, learning_rate=0.1, max_depth=5\n",
      "Using active MLflow experiment 'sentiment_classification' with ID 628719013361640366\n"
     ]
    },
    {
     "name": "stderr",
     "output_type": "stream",
     "text": [
      "Downloading artifacts: 100%|██████████| 7/7 [00:00<00:00, 3473.75it/s]\n",
      "\n"
     ]
    },
    {
     "name": "stdout",
     "output_type": "stream",
     "text": [
      "Training with n_estimators=50, learning_rate=0.1, max_depth=7\n",
      "Using active MLflow experiment 'sentiment_classification' with ID 628719013361640366\n"
     ]
    },
    {
     "name": "stderr",
     "output_type": "stream",
     "text": [
      "Downloading artifacts: 100%|██████████| 7/7 [00:00<00:00, 2331.83it/s]\n",
      "\n"
     ]
    },
    {
     "name": "stdout",
     "output_type": "stream",
     "text": [
      "Training with n_estimators=50, learning_rate=0.2, max_depth=3\n",
      "Using active MLflow experiment 'sentiment_classification' with ID 628719013361640366\n"
     ]
    },
    {
     "name": "stderr",
     "output_type": "stream",
     "text": [
      "Downloading artifacts: 100%|██████████| 7/7 [00:00<00:00, 3487.37it/s]\n",
      "\n"
     ]
    },
    {
     "name": "stdout",
     "output_type": "stream",
     "text": [
      "Training with n_estimators=50, learning_rate=0.2, max_depth=5\n",
      "Using active MLflow experiment 'sentiment_classification' with ID 628719013361640366\n"
     ]
    },
    {
     "name": "stderr",
     "output_type": "stream",
     "text": [
      "Downloading artifacts: 100%|██████████| 7/7 [00:00<00:00, 2328.88it/s]\n",
      "\n"
     ]
    },
    {
     "name": "stdout",
     "output_type": "stream",
     "text": [
      "Training with n_estimators=50, learning_rate=0.2, max_depth=7\n",
      "Using active MLflow experiment 'sentiment_classification' with ID 628719013361640366\n"
     ]
    },
    {
     "name": "stderr",
     "output_type": "stream",
     "text": [
      "Downloading artifacts: 100%|██████████| 7/7 [00:00<00:00, 1749.50it/s]\n",
      "\n"
     ]
    },
    {
     "name": "stdout",
     "output_type": "stream",
     "text": [
      "Training with n_estimators=100, learning_rate=0.05, max_depth=3\n",
      "Using active MLflow experiment 'sentiment_classification' with ID 628719013361640366\n"
     ]
    },
    {
     "name": "stderr",
     "output_type": "stream",
     "text": [
      "Downloading artifacts: 100%|██████████| 7/7 [00:00<00:00, 3499.00it/s]\n",
      "\n"
     ]
    },
    {
     "name": "stdout",
     "output_type": "stream",
     "text": [
      "Training with n_estimators=100, learning_rate=0.05, max_depth=5\n",
      "Using active MLflow experiment 'sentiment_classification' with ID 628719013361640366\n"
     ]
    },
    {
     "name": "stderr",
     "output_type": "stream",
     "text": [
      "Downloading artifacts: 100%|██████████| 7/7 [00:00<00:00, 2332.95it/s]\n",
      "\n"
     ]
    },
    {
     "name": "stdout",
     "output_type": "stream",
     "text": [
      "Training with n_estimators=100, learning_rate=0.05, max_depth=7\n",
      "Using active MLflow experiment 'sentiment_classification' with ID 628719013361640366\n"
     ]
    },
    {
     "name": "stderr",
     "output_type": "stream",
     "text": [
      "Downloading artifacts: 100%|██████████| 7/7 [00:00<00:00, 1748.67it/s]\n",
      "\n"
     ]
    },
    {
     "name": "stdout",
     "output_type": "stream",
     "text": [
      "Training with n_estimators=100, learning_rate=0.1, max_depth=3\n",
      "Using active MLflow experiment 'sentiment_classification' with ID 628719013361640366\n"
     ]
    },
    {
     "name": "stderr",
     "output_type": "stream",
     "text": [
      "Downloading artifacts: 100%|██████████| 7/7 [00:00<00:00, 1658.95it/s]\n",
      "\n"
     ]
    },
    {
     "name": "stdout",
     "output_type": "stream",
     "text": [
      "Training with n_estimators=100, learning_rate=0.1, max_depth=5\n",
      "Using active MLflow experiment 'sentiment_classification' with ID 628719013361640366\n"
     ]
    },
    {
     "name": "stderr",
     "output_type": "stream",
     "text": [
      "Downloading artifacts: 100%|██████████| 7/7 [00:00<00:00, 1749.61it/s]\n",
      "\n"
     ]
    },
    {
     "name": "stdout",
     "output_type": "stream",
     "text": [
      "Training with n_estimators=100, learning_rate=0.1, max_depth=7\n",
      "Using active MLflow experiment 'sentiment_classification' with ID 628719013361640366\n"
     ]
    },
    {
     "name": "stderr",
     "output_type": "stream",
     "text": [
      "Downloading artifacts: 100%|██████████| 7/7 [00:00<00:00, 2753.46it/s]\n",
      "\n"
     ]
    },
    {
     "name": "stdout",
     "output_type": "stream",
     "text": [
      "Training with n_estimators=100, learning_rate=0.2, max_depth=3\n",
      "Using active MLflow experiment 'sentiment_classification' with ID 628719013361640366\n"
     ]
    },
    {
     "name": "stderr",
     "output_type": "stream",
     "text": [
      "Downloading artifacts: 100%|██████████| 7/7 [00:00<00:00, 3499.84it/s]\n",
      "\n"
     ]
    },
    {
     "name": "stdout",
     "output_type": "stream",
     "text": [
      "Training with n_estimators=100, learning_rate=0.2, max_depth=5\n",
      "Using active MLflow experiment 'sentiment_classification' with ID 628719013361640366\n"
     ]
    },
    {
     "name": "stderr",
     "output_type": "stream",
     "text": [
      "Downloading artifacts: 100%|██████████| 7/7 [00:00<00:00, 2332.58it/s]\n",
      "\n"
     ]
    },
    {
     "name": "stdout",
     "output_type": "stream",
     "text": [
      "Training with n_estimators=100, learning_rate=0.2, max_depth=7\n",
      "Using active MLflow experiment 'sentiment_classification' with ID 628719013361640366\n"
     ]
    },
    {
     "name": "stderr",
     "output_type": "stream",
     "text": [
      "Downloading artifacts: 100%|██████████| 7/7 [00:00<00:00, 2213.52it/s]\n",
      "\n"
     ]
    },
    {
     "name": "stdout",
     "output_type": "stream",
     "text": [
      "Training with n_estimators=200, learning_rate=0.05, max_depth=3\n",
      "Using active MLflow experiment 'sentiment_classification' with ID 628719013361640366\n"
     ]
    },
    {
     "name": "stderr",
     "output_type": "stream",
     "text": [
      "Downloading artifacts: 100%|██████████| 7/7 [00:00<00:00, 2324.27it/s]\n",
      "\n"
     ]
    },
    {
     "name": "stdout",
     "output_type": "stream",
     "text": [
      "Training with n_estimators=200, learning_rate=0.05, max_depth=5\n",
      "Using active MLflow experiment 'sentiment_classification' with ID 628719013361640366\n"
     ]
    },
    {
     "name": "stderr",
     "output_type": "stream",
     "text": [
      "Downloading artifacts: 100%|██████████| 7/7 [00:00<00:00, 2337.96it/s]\n",
      "\n"
     ]
    },
    {
     "name": "stdout",
     "output_type": "stream",
     "text": [
      "Training with n_estimators=200, learning_rate=0.05, max_depth=7\n",
      "Using active MLflow experiment 'sentiment_classification' with ID 628719013361640366\n"
     ]
    },
    {
     "name": "stderr",
     "output_type": "stream",
     "text": [
      "Downloading artifacts: 100%|██████████| 7/7 [00:00<00:00, 1994.17it/s]\n",
      "\n"
     ]
    },
    {
     "name": "stdout",
     "output_type": "stream",
     "text": [
      "Training with n_estimators=200, learning_rate=0.1, max_depth=3\n",
      "Using active MLflow experiment 'sentiment_classification' with ID 628719013361640366\n"
     ]
    },
    {
     "name": "stderr",
     "output_type": "stream",
     "text": [
      "Downloading artifacts: 100%|██████████| 7/7 [00:00<00:00, 1976.85it/s]\n",
      "\n"
     ]
    },
    {
     "name": "stdout",
     "output_type": "stream",
     "text": [
      "Training with n_estimators=200, learning_rate=0.1, max_depth=5\n",
      "Using active MLflow experiment 'sentiment_classification' with ID 628719013361640366\n"
     ]
    },
    {
     "name": "stderr",
     "output_type": "stream",
     "text": [
      "Downloading artifacts: 100%|██████████| 7/7 [00:00<00:00, 2790.62it/s]\n",
      "\n"
     ]
    },
    {
     "name": "stdout",
     "output_type": "stream",
     "text": [
      "Training with n_estimators=200, learning_rate=0.1, max_depth=7\n",
      "Using active MLflow experiment 'sentiment_classification' with ID 628719013361640366\n"
     ]
    },
    {
     "name": "stderr",
     "output_type": "stream",
     "text": [
      "Downloading artifacts: 100%|██████████| 7/7 [00:00<00:00, 1750.23it/s]\n",
      "\n"
     ]
    },
    {
     "name": "stdout",
     "output_type": "stream",
     "text": [
      "Training with n_estimators=200, learning_rate=0.2, max_depth=3\n",
      "Using active MLflow experiment 'sentiment_classification' with ID 628719013361640366\n"
     ]
    },
    {
     "name": "stderr",
     "output_type": "stream",
     "text": [
      "Downloading artifacts: 100%|██████████| 7/7 [00:00<00:00, 3503.18it/s]\n",
      "\n"
     ]
    },
    {
     "name": "stdout",
     "output_type": "stream",
     "text": [
      "Training with n_estimators=200, learning_rate=0.2, max_depth=5\n",
      "Using active MLflow experiment 'sentiment_classification' with ID 628719013361640366\n"
     ]
    },
    {
     "name": "stderr",
     "output_type": "stream",
     "text": [
      "Downloading artifacts: 100%|██████████| 7/7 [00:00<00:00, 2342.25it/s]\n",
      "\n"
     ]
    },
    {
     "name": "stdout",
     "output_type": "stream",
     "text": [
      "Training with n_estimators=200, learning_rate=0.2, max_depth=7\n",
      "Using active MLflow experiment 'sentiment_classification' with ID 628719013361640366\n"
     ]
    },
    {
     "name": "stderr",
     "output_type": "stream",
     "text": [
      "Downloading artifacts: 100%|██████████| 7/7 [00:00<00:00, 2319.68it/s]\n",
      "\n"
     ]
    }
   ],
   "source": [
    "results = []\n",
    "\n",
    "for n_estimators in n_estimators_values:\n",
    "    for learning_rate in learning_rate_values:\n",
    "        for max_depth in max_depth_values:\n",
    "            print(f\"Training with n_estimators={n_estimators}, learning_rate={learning_rate}, max_depth={max_depth}\")\n",
    "            try:\n",
    "                run_id = ModelTrainer.gradient_boosting(\n",
    "                    n_estimators=n_estimators, \n",
    "                    learning_rate=learning_rate, \n",
    "                    max_depth=max_depth\n",
    "                )\n",
    "\n",
    "                with mlflow.start_run(run_id=run_id):\n",
    "                    run = mlflow.get_run(run_id)\n",
    "                    metrics = run.data.metrics\n",
    "                    params = run.data.params\n",
    "\n",
    "                    results.append({\n",
    "                        'run_id': run_id,\n",
    "                        'n_estimators': params.get('n_estimators'),\n",
    "                        'learning_rate': params.get('learning_rate'),\n",
    "                        'max_depth': params.get('max_depth'),\n",
    "                        'train_accuracy': metrics.get('train_accuracy'),\n",
    "                        'test_accuracy': metrics.get('test_accuracy'),\n",
    "                        'test_precision': metrics.get('test_precision'),\n",
    "                        'test_recall': metrics.get('test_recall'),\n",
    "                        'test_f1': metrics.get('test_f1'),\n",
    "                    })\n",
    "            except Exception as e:\n",
    "                print(f\"Error training with n_estimators={n_estimators}, learning_rate={learning_rate}, max_depth={max_depth}: {e}\")\n",
    "                continue"
   ]
  },
  {
   "cell_type": "markdown",
   "id": "98f8af43",
   "metadata": {},
   "source": [
    "## Print All Model Test Accuracies\n",
    "\n",
    "Let's display the test accuracies for all models, sorted by performance."
   ]
  },
  {
   "cell_type": "code",
   "execution_count": 4,
   "id": "694bc126",
   "metadata": {},
   "outputs": [
    {
     "name": "stdout",
     "output_type": "stream",
     "text": [
      "\n",
      "All Models Test Accuracies (sorted):\n",
      "\n",
      "n_estimators learning_rate max_depth  test_accuracy\n",
      "         200           0.2         7       0.853792\n",
      "         100           0.2         7       0.849800\n",
      "         200           0.1         7       0.849800\n",
      "         200           0.2         5       0.849800\n",
      "         200           0.1         5       0.849301\n",
      "         200           0.2         3       0.847555\n",
      "         100           0.1         7       0.844810\n",
      "         100           0.2         5       0.843313\n",
      "         200          0.05         7       0.843064\n",
      "          50           0.2         7       0.839820\n",
      "         100           0.1         5       0.837824\n",
      "         100           0.2         3       0.837824\n",
      "         200           0.1         3       0.837575\n",
      "          50           0.2         5       0.837076\n",
      "         200          0.05         5       0.836078\n",
      "          50           0.1         7       0.835579\n",
      "         100          0.05         7       0.828842\n",
      "          50           0.1         5       0.823603\n",
      "          50           0.2         3       0.823353\n",
      "         100          0.05         5       0.822355\n",
      "         100           0.1         3       0.821856\n",
      "         200          0.05         3       0.820110\n",
      "          50          0.05         7       0.814621\n",
      "         100          0.05         3       0.806138\n",
      "          50           0.1         3       0.804641\n",
      "          50          0.05         5       0.801397\n",
      "          50          0.05         3       0.786178\n"
     ]
    },
    {
     "data": {
      "image/png": "[encoded data removed]",
      "text/plain": [
       "<Figure size 1400x600 with 1 Axes>"
      ]
     },
     "metadata": {},
     "output_type": "display_data"
    }
   ],
   "source": [
    "# Create dataframe from results\n",
    "results_df = pd.DataFrame(results)\n",
    "\n",
    "# Print all model test accuracies, sorted from best to worst\n",
    "if not results_df.empty and 'test_accuracy' in results_df.columns:\n",
    "    sorted_results = results_df.sort_values('test_accuracy', ascending=False)\n",
    "    \n",
    "    print(\"\\nAll Models Test Accuracies (sorted):\\n\")\n",
    "    print(sorted_results[['n_estimators', 'learning_rate', 'max_depth', 'test_accuracy']].to_string(index=False))\n",
    "    \n",
    "    # Create a combined label for each configuration\n",
    "    sorted_results['config'] = sorted_results.apply(\n",
    "        lambda row: f\"n_est={row['n_estimators']},\\nlr={row['learning_rate']},\\nmd={row['max_depth']}\", axis=1)\n",
    "    \n",
    "    # Plot with the combined label\n",
    "    plt.figure(figsize=(14, 6))\n",
    "    sns.barplot(x='config', y='test_accuracy', data=sorted_results)\n",
    "    plt.title('Test Accuracy by Hyperparameter Configuration', fontsize=14)\n",
    "    plt.xlabel('Hyperparameters', fontsize=12)\n",
    "    plt.ylabel('Test Accuracy', fontsize=12)\n",
    "    plt.xticks(rotation=45)\n",
    "    plt.tight_layout()\n",
    "    plt.show()\n",
    "else:\n",
    "    print(\"\\nNo successful model runs found with test_accuracy metric.\")"
   ]
  },
  {
   "cell_type": "markdown",
   "id": "905f30f6",
   "metadata": {},
   "source": [
    "## Analyzing Results and Finding the Best Model"
   ]
  },
  {
   "cell_type": "code",
   "execution_count": 5,
   "id": "2275fad3",
   "metadata": {},
   "outputs": [
    {
     "name": "stdout",
     "output_type": "stream",
     "text": [
      "\n",
      "Best model:\n",
      "n_estimators: 200, learning_rate: 0.2, max_depth: 7\n",
      "Test Accuracy: 0.8538\n",
      "Test Precision: 0.8483\n",
      "Test Recall: 0.8538\n",
      "Test F1: 0.8398\n",
      "Run ID: 6917fc00072141afa4c3417478c8c4e8\n"
     ]
    }
   ],
   "source": [
    "# Find the best model\n",
    "if not results_df.empty and 'test_accuracy' in results_df.columns:\n",
    "    best_model = results_df.loc[results_df['test_accuracy'].idxmax()]\n",
    "    best_run_id = best_model['run_id']\n",
    "    \n",
    "    print(\"\\nBest model:\")\n",
    "    print(f\"n_estimators: {best_model['n_estimators']}, learning_rate: {best_model['learning_rate']}, max_depth: {best_model['max_depth']}\")\n",
    "    print(f\"Test Accuracy: {best_model['test_accuracy']:.4f}\")\n",
    "    print(f\"Test Precision: {best_model['test_precision']:.4f}\")\n",
    "    print(f\"Test Recall: {best_model['test_recall']:.4f}\")\n",
    "    print(f\"Test F1: {best_model['test_f1']:.4f}\")\n",
    "    print(f\"Run ID: {best_run_id}\")\n",
    "else:\n",
    "    print(\"\\nNo successful model runs found with test_accuracy metric.\")\n",
    "    best_run_id = None"
   ]
  },
  {
   "cell_type": "markdown",
   "id": "e54494f1",
   "metadata": {},
   "source": [
    "## Making Predictions with the Best Model"
   ]
  },
  {
   "cell_type": "code",
   "execution_count": 6,
   "id": "4b9dcc69",
   "metadata": {},
   "outputs": [
    {
     "name": "stdout",
     "output_type": "stream",
     "text": [
      "\n",
      "Predictions with Best Model (Run ID: 6917fc00...):\n",
      "\n",
      "'This product works great!' -> Positive\n",
      "'Terrible experience...' -> Negative\n",
      "'It's just okay, nothing special but does the job' -> Negative\n"
     ]
    }
   ],
   "source": [
    "if best_run_id is not None:\n",
    "    # Prediction with the best model found\n",
    "    texts = np.array([\"This product works great!\", \n",
    "                     \"Terrible experience...\",\n",
    "                     \"It's just okay, nothing special but does the job\"])\n",
    "    predictions = ModelPredictor.predict(best_run_id, texts)\n",
    "\n",
    "    print(f\"\\nPredictions with Best Model (Run ID: {best_run_id[:8]}...):\\n\")\n",
    "    for text, pred in zip(texts, predictions):\n",
    "        sentiment = \"Positive\" if pred == 1 else \"Negative\"\n",
    "        print(f\"'{text}' -> {sentiment}\")"
   ]
  },
  {
   "cell_type": "markdown",
   "id": "c5ffa39a",
   "metadata": {},
   "source": [
    "## Model Analysis - Feature Importance\n",
    "\n",
    "Let's examine the feature importance from our Gradient Boosting model."
   ]
  },
  {
   "cell_type": "code",
   "execution_count": 7,
   "id": "3046d72a",
   "metadata": {},
   "outputs": [
    {
     "name": "stdout",
     "output_type": "stream",
     "text": [
      "\n",
      "Top 20 Most Important Features:\n",
      "          Feature  Importance\n",
      "0             not    0.070641\n",
      "1           great    0.034368\n",
      "2            best    0.019092\n",
      "3             and    0.017894\n",
      "4             bad    0.014646\n",
      "5            love    0.014405\n",
      "6    disappointed    0.013509\n",
      "7             but    0.012876\n",
      "8             was    0.012035\n",
      "9              ok    0.011157\n",
      "10           good    0.011144\n",
      "11      delicious    0.011091\n",
      "12          worst    0.010560\n",
      "13       terrible    0.010453\n",
      "14  disappointing    0.009035\n",
      "15        however    0.008561\n",
      "16         return    0.008199\n",
      "17            the    0.008169\n",
      "18           okay    0.007597\n",
      "19  unfortunately    0.007434\n"
     ]
    },
    {
     "data": {
      "image/png": "[encoded data removed]",
      "text/plain": [
       "<Figure size 1200x800 with 1 Axes>"
      ]
     },
     "metadata": {},
     "output_type": "display_data"
    }
   ],
   "source": [
    "if best_run_id is not None:\n",
    "    # Load the model\n",
    "    model = mlflow.sklearn.load_model(f\"runs:/{best_run_id}/model\")\n",
    "    \n",
    "    # Extract the feature importance\n",
    "    vectorizer = model.named_steps['vectorizer']\n",
    "    classifier = model.named_steps['classifier']\n",
    "    \n",
    "    # Get feature names\n",
    "    feature_names = vectorizer.get_feature_names_out()\n",
    "    \n",
    "    # Get feature importance\n",
    "    try:\n",
    "        importances = classifier.feature_importances_\n",
    "        \n",
    "        # Create DataFrame with feature names and importance\n",
    "        feature_importance_df = pd.DataFrame({\n",
    "            'Feature': feature_names,\n",
    "            'Importance': importances\n",
    "        })\n",
    "        \n",
    "        # Sort by importance\n",
    "        feature_importance_df = feature_importance_df.sort_values('Importance', ascending=False).reset_index(drop=True)\n",
    "        \n",
    "        # Display top 20 features\n",
    "        print(\"\\nTop 20 Most Important Features:\")\n",
    "        print(feature_importance_df.head(20))\n",
    "        \n",
    "        # Plot top 20 features\n",
    "        plt.figure(figsize=(12, 8))\n",
    "        sns.barplot(x='Importance', y='Feature', data=feature_importance_df.head(20))\n",
    "        plt.title('Top 20 Most Important Features', fontsize=14)\n",
    "        plt.xlabel('Importance', fontsize=12)\n",
    "        plt.ylabel('Feature', fontsize=12)\n",
    "        plt.tight_layout()\n",
    "        plt.show()\n",
    "    except Exception as e:\n",
    "        print(f\"Could not extract feature importance: {e}\")"
   ]
  },
  {
   "cell_type": "markdown",
   "id": "3da8402f",
   "metadata": {},
   "source": [
    "## Testing with Custom Reviews"
   ]
  },
  {
   "cell_type": "code",
   "execution_count": 9,
   "id": "d6d8e848",
   "metadata": {},
   "outputs": [
    {
     "name": "stdout",
     "output_type": "stream",
     "text": [
      "Custom Review Predictions:\n",
      "\n",
      "Review 1:\n",
      "Text: This product is amazing! I would definitely recommend it to everyone.\n",
      "Predicted Sentiment: Positive\n",
      "\n",
      "Review 2:\n",
      "Text: The quality is very poor and it broke after just one use. Don't waste your money.\n",
      "Predicted Sentiment: Negative\n",
      "\n",
      "Review 3:\n",
      "Text: It's an okay product, not great but not terrible either.\n",
      "Predicted Sentiment: Negative\n",
      "\n",
      "Review 4:\n",
      "Text: I'm really impressed with how well this works. Exceeds expectations!\n",
      "Predicted Sentiment: Positive\n",
      "\n",
      "Review 5:\n",
      "Text: Worst purchase ever. Complete waste of money and time.\n",
      "Predicted Sentiment: Negative\n"
     ]
    }
   ],
   "source": [
    "# Define custom reviews\n",
    "custom_reviews = np.array([\n",
    "    \"This product is amazing! I would definitely recommend it to everyone.\",\n",
    "    \"The quality is very poor and it broke after just one use. Don't waste your money.\",\n",
    "    \"It's an okay product, not great but not terrible either.\",\n",
    "    \"I'm really impressed with how well this works. Exceeds expectations!\",\n",
    "    \"Worst purchase ever. Complete waste of money and time.\"\n",
    "])\n",
    "\n",
    "if best_run_id is not None:\n",
    "    # Make predictions\n",
    "    predictions = ModelPredictor.predict(best_run_id, custom_reviews)\n",
    "    \n",
    "    # Display results\n",
    "    print(\"Custom Review Predictions:\")\n",
    "    for i, (review, pred) in enumerate(zip(custom_reviews, predictions)):\n",
    "        sentiment = \"Positive\" if pred == 1 else \"Negative\"\n",
    "        print(f\"\\nReview {i+1}:\")\n",
    "        print(f\"Text: {review}\")\n",
    "        print(f\"Predicted Sentiment: {sentiment}\")"
   ]
  }
 ],
 "metadata": {
  "kernelspec": {
   "display_name": "venv",
   "language": "python",
   "name": "python3"
  },
  "language_info": {
   "codemirror_mode": {
    "name": "ipython",
    "version": 3
   },
   "file_extension": ".py",
   "mimetype": "text/x-python",
   "name": "python",
   "nbconvert_exporter": "python",
   "pygments_lexer": "ipython3",
   "version": "3.12.7"
  }
 },
 "nbformat": 4,
 "nbformat_minor": 5
}
