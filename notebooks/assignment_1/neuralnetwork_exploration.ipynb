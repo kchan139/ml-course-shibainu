{
 "cells": [
  {
   "cell_type": "markdown",
   "metadata": {},
   "source": [
    "# Neural Network Model Testing\n",
    "\n",
    "This notebook tests the neural network model for sentiment prediction on news headlines."
   ]
  },
  {
   "cell_type": "code",
   "execution_count": 1,
   "metadata": {},
   "outputs": [
    {
     "name": "stderr",
     "output_type": "stream",
     "text": [
      "[nltk_data] Downloading package punkt to\n",
      "[nltk_data]     C:\\Users\\PC\\AppData\\Roaming\\nltk_data...\n",
      "[nltk_data]   Package punkt is already up-to-date!\n",
      "[nltk_data] Downloading package stopwords to\n",
      "[nltk_data]     C:\\Users\\PC\\AppData\\Roaming\\nltk_data...\n",
      "[nltk_data]   Package stopwords is already up-to-date!\n",
      "[nltk_data] Downloading package wordnet to\n",
      "[nltk_data]     C:\\Users\\PC\\AppData\\Roaming\\nltk_data...\n",
      "[nltk_data]   Package wordnet is already up-to-date!\n",
      "d:\\Documents\\CODE\\HCMUT\\Machine Learning Assignment\\venv\\Lib\\site-packages\\tqdm\\auto.py:21: TqdmWarning: IProgress not found. Please update jupyter and ipywidgets. See https://ipywidgets.readthedocs.io/en/stable/user_install.html\n",
      "  from .autonotebook import tqdm as notebook_tqdm\n"
     ]
    }
   ],
   "source": [
    "# Import necessary libraries\n",
    "import sys\n",
    "import os\n",
    "import pandas as pd\n",
    "from pathlib import Path\n",
    "\n",
    "# Add project root to path for imports\n",
    "sys.path.append(os.path.abspath('../..'))\n",
    "\n",
    "# Import project modules\n",
    "from src.models.predict_model import ModelPredictor\n",
    "from src.models.train_model import ModelTrainer\n",
    "from src.config import *"
   ]
  },
  {
   "cell_type": "markdown",
   "metadata": {},
   "source": [
    "## 1. Initialize the Model Predictor\n",
    "\n",
    "We'll initialize the ModelPredictor class that will use our trained neural network model."
   ]
  },
  {
   "cell_type": "code",
   "execution_count": 16,
   "metadata": {},
   "outputs": [
    {
     "name": "stdout",
     "output_type": "stream",
     "text": [
      "Starting RNN model training...\n",
      "Class weights for balancing: {0: 1.0097222222222222, 1: 0.9807095642789694, 2: 1.0101431151868834}\n",
      "Epoch 1/20\n",
      "\u001b[1m727/727\u001b[0m \u001b[32m━━━━━━━━━━━━━━━━━━━━\u001b[0m\u001b[37m\u001b[0m \u001b[1m27s\u001b[0m 29ms/step - accuracy: 0.6178 - loss: 0.8478 - val_accuracy: 0.8693 - val_loss: 0.4358 - learning_rate: 0.0010\n",
      "Epoch 2/20\n",
      "\u001b[1m727/727\u001b[0m \u001b[32m━━━━━━━━━━━━━━━━━━━━\u001b[0m\u001b[37m\u001b[0m \u001b[1m20s\u001b[0m 27ms/step - accuracy: 0.8732 - loss: 0.3673 - val_accuracy: 0.8686 - val_loss: 0.3927 - learning_rate: 0.0010\n",
      "Epoch 3/20\n",
      "\u001b[1m727/727\u001b[0m \u001b[32m━━━━━━━━━━━━━━━━━━━━\u001b[0m\u001b[37m\u001b[0m \u001b[1m22s\u001b[0m 30ms/step - accuracy: 0.9223 - loss: 0.2605 - val_accuracy: 0.8652 - val_loss: 0.3726 - learning_rate: 0.0010\n",
      "Epoch 4/20\n",
      "\u001b[1m727/727\u001b[0m \u001b[32m━━━━━━━━━━━━━━━━━━━━\u001b[0m\u001b[37m\u001b[0m \u001b[1m23s\u001b[0m 31ms/step - accuracy: 0.9415 - loss: 0.2005 - val_accuracy: 0.8666 - val_loss: 0.4235 - learning_rate: 0.0010\n",
      "Epoch 5/20\n",
      "\u001b[1m727/727\u001b[0m \u001b[32m━━━━━━━━━━━━━━━━━━━━\u001b[0m\u001b[37m\u001b[0m \u001b[1m20s\u001b[0m 27ms/step - accuracy: 0.9579 - loss: 0.1514 - val_accuracy: 0.8604 - val_loss: 0.4659 - learning_rate: 0.0010\n",
      "Epoch 6/20\n",
      "\u001b[1m727/727\u001b[0m \u001b[32m━━━━━━━━━━━━━━━━━━━━\u001b[0m\u001b[37m\u001b[0m \u001b[1m20s\u001b[0m 28ms/step - accuracy: 0.9641 - loss: 0.1244 - val_accuracy: 0.8569 - val_loss: 0.5611 - learning_rate: 5.0000e-04\n",
      "Epoch 7/20\n",
      "\u001b[1m727/727\u001b[0m \u001b[32m━━━━━━━━━━━━━━━━━━━━\u001b[0m\u001b[37m\u001b[0m \u001b[1m21s\u001b[0m 29ms/step - accuracy: 0.9721 - loss: 0.0922 - val_accuracy: 0.8521 - val_loss: 0.6417 - learning_rate: 5.0000e-04\n",
      "\u001b[1m57/57\u001b[0m \u001b[32m━━━━━━━━━━━━━━━━━━━━\u001b[0m\u001b[37m\u001b[0m \u001b[1m2s\u001b[0m 24ms/step\n",
      "Test Accuracy: 0.8515\n",
      "              precision    recall  f1-score   support\n",
      "\n",
      "           0       0.91      0.90      0.91       600\n",
      "           1       0.78      0.86      0.82       618\n",
      "           2       0.87      0.80      0.83       600\n",
      "\n",
      "    accuracy                           0.85      1818\n",
      "   macro avg       0.86      0.85      0.85      1818\n",
      "weighted avg       0.85      0.85      0.85      1818\n",
      "\n",
      "Prediction class distribution:\n",
      "Class 0: 592 predictions\n",
      "Class 1: 678 predictions\n",
      "Class 2: 548 predictions\n"
     ]
    }
   ],
   "source": [
    "models = None\n",
    "# model_dir = Path(MODEL_DIR)\n",
    "# models = list(model_dir.glob('*rnn_*.pkl'))\n",
    "# if not models:\n",
    "#     model_dir = Path(EXPERIMENT_DIR)\n",
    "#     models = list(model_dir.glob('*rnn_*.pkl'))\n",
    "if not models:\n",
    "    trainer = ModelTrainer()\n",
    "    trainer.train_neural_network(batch_size=8)\n",
    "\n",
    "# Initialize the predictor\n",
    "predictor = ModelPredictor()"
   ]
  },
  {
   "cell_type": "markdown",
   "metadata": {},
   "source": [
    "## 2. Test Single Headline Prediction\n",
    "\n",
    "Let's test the model on a single headline first to check if everything is working."
   ]
  },
  {
   "cell_type": "code",
   "execution_count": 29,
   "metadata": {},
   "outputs": [
    {
     "name": "stdout",
     "output_type": "stream",
     "text": [
      "Using most recent model: d:\\Documents\\CODE\\HCMUT\\Machine Learning Assignment\\models\\trained\\rnn_076.pkl\n",
      "\u001b[1m1/1\u001b[0m \u001b[32m━━━━━━━━━━━━━━━━━━━━\u001b[0m\u001b[37m\u001b[0m \u001b[1m1s\u001b[0m 603ms/step\n",
      "Prediction class distribution:\n",
      "negative (class 0): 0 predictions\n",
      "neutral (class 1): 1 predictions\n",
      "positive (class 2): 0 predictions\n",
      "\n",
      "Headline: Company profits exceed expectations in Q1 2025\n",
      "Predicted Sentiment: neutral\n",
      "Confidence: 0.93\n",
      "\n",
      "All Probabilities:\n",
      "- negative: 0.02\n",
      "- neutral: 0.93\n",
      "- positive: 0.05\n"
     ]
    }
   ],
   "source": [
    "# Test with a single positive headline\n",
    "test_headline = \"Company profits exceed expectations in Q1 2025\"\n",
    "result = predictor.predict_neural_network(test_headline)\n",
    "\n",
    "# Display the result\n",
    "if result:\n",
    "    r = result[0]  # Get the first result\n",
    "    print(f\"\\nHeadline: {r['headline']}\")\n",
    "    print(f\"Predicted Sentiment: {r['sentiment']}\")\n",
    "    print(f\"Confidence: {r['confidence']:.2f}\")\n",
    "    \n",
    "    print(\"\\nAll Probabilities:\")\n",
    "    for sentiment, prob in r['probabilities'].items():\n",
    "        print(f\"- {sentiment}: {prob:.2f}\")\n",
    "else:\n",
    "    print(\"Prediction failed or no model found.\")"
   ]
  },
  {
   "cell_type": "markdown",
   "metadata": {},
   "source": [
    "## 3. Test Multiple Headlines\n",
    "\n",
    "Now let's test the model on multiple headlines with different expected sentiments."
   ]
  },
  {
   "cell_type": "code",
   "execution_count": 30,
   "metadata": {},
   "outputs": [
    {
     "name": "stdout",
     "output_type": "stream",
     "text": [
      "Using most recent model: d:\\Documents\\CODE\\HCMUT\\Machine Learning Assignment\\models\\trained\\rnn_076.pkl\n"
     ]
    },
    {
     "name": "stdout",
     "output_type": "stream",
     "text": [
      "\u001b[1m1/1\u001b[0m \u001b[32m━━━━━━━━━━━━━━━━━━━━\u001b[0m\u001b[37m\u001b[0m \u001b[1m1s\u001b[0m 515ms/step\n",
      "Prediction class distribution:\n",
      "negative (class 0): 2 predictions\n",
      "neutral (class 1): 3 predictions\n",
      "positive (class 2): 0 predictions\n",
      "Headline: Stock market reaches all-time high as investor confidence grows\n",
      "Predicted Sentiment: neutral (confidence: 0.60)\n",
      "\n",
      "Headline: Major company announces significant layoffs due to economic downturn\n",
      "Predicted Sentiment: negative (confidence: 0.99)\n",
      "\n",
      "Headline: Global trade continues at steady pace despite mild fluctuations\n",
      "Predicted Sentiment: neutral (confidence: 0.87)\n",
      "\n",
      "Headline: Tech giant releases new product line with innovative features\n",
      "Predicted Sentiment: neutral (confidence: 0.90)\n",
      "\n",
      "Headline: Retail sales decline for third consecutive quarter\n",
      "Predicted Sentiment: negative (confidence: 0.99)\n",
      "\n"
     ]
    }
   ],
   "source": [
    "# Test with multiple headlines\n",
    "test_headlines = [\n",
    "    \"Stock market reaches all-time high as investor confidence grows\",\n",
    "    \"Major company announces significant layoffs due to economic downturn\",\n",
    "    \"Global trade continues at steady pace despite mild fluctuations\",\n",
    "    \"Tech giant releases new product line with innovative features\",\n",
    "    \"Retail sales decline for third consecutive quarter\"\n",
    "]\n",
    "\n",
    "results = predictor.predict_neural_network(test_headlines)\n",
    "\n",
    "# Display the results\n",
    "if results:\n",
    "    for r in results:\n",
    "        print(f\"Headline: {r['headline']}\")\n",
    "        print(f\"Predicted Sentiment: {r['sentiment']} (confidence: {r['confidence']:.2f})\")\n",
    "        print()\n",
    "else:\n",
    "    print(\"Prediction failed or no model found.\")"
   ]
  },
  {
   "cell_type": "markdown",
   "metadata": {},
   "source": [
    "## 4. Test on Real Dataset\n",
    "\n",
    "Let's load a sample of the test dataset and predict sentiments."
   ]
  },
  {
   "cell_type": "code",
   "execution_count": 31,
   "metadata": {},
   "outputs": [
    {
     "name": "stdout",
     "output_type": "stream",
     "text": [
      "Loaded test data with 841 headlines\n"
     ]
    },
    {
     "data": {
      "text/html": [
       "<div>\n",
       "<style scoped>\n",
       "    .dataframe tbody tr th:only-of-type {\n",
       "        vertical-align: middle;\n",
       "    }\n",
       "\n",
       "    .dataframe tbody tr th {\n",
       "        vertical-align: top;\n",
       "    }\n",
       "\n",
       "    .dataframe thead th {\n",
       "        text-align: right;\n",
       "    }\n",
       "</style>\n",
       "<table border=\"1\" class=\"dataframe\">\n",
       "  <thead>\n",
       "    <tr style=\"text-align: right;\">\n",
       "      <th></th>\n",
       "      <th>Sentiment</th>\n",
       "      <th>News Headline</th>\n",
       "    </tr>\n",
       "  </thead>\n",
       "  <tbody>\n",
       "    <tr>\n",
       "      <th>0</th>\n",
       "      <td>positive</td>\n",
       "      <td>Nokia reports strong Q4 earnings, smartphone s...</td>\n",
       "    </tr>\n",
       "    <tr>\n",
       "      <th>1</th>\n",
       "      <td>positive</td>\n",
       "      <td>Finnish telecom giant Elisa sees 12% revenue g...</td>\n",
       "    </tr>\n",
       "    <tr>\n",
       "      <th>2</th>\n",
       "      <td>positive</td>\n",
       "      <td>UPM-Kymmene's profit jumps 18% in latest quart...</td>\n",
       "    </tr>\n",
       "    <tr>\n",
       "      <th>3</th>\n",
       "      <td>negative</td>\n",
       "      <td>Metso announces closure of manufacturing plant...</td>\n",
       "    </tr>\n",
       "    <tr>\n",
       "      <th>4</th>\n",
       "      <td>positive</td>\n",
       "      <td>Kone wins major elevator contract for Dubai sk...</td>\n",
       "    </tr>\n",
       "    <tr>\n",
       "      <th>...</th>\n",
       "      <td>...</td>\n",
       "      <td>...</td>\n",
       "    </tr>\n",
       "    <tr>\n",
       "      <th>95</th>\n",
       "      <td>positive</td>\n",
       "      <td>Kemira chemicals reports stronger than expecte...</td>\n",
       "    </tr>\n",
       "    <tr>\n",
       "      <th>96</th>\n",
       "      <td>negative</td>\n",
       "      <td>Atria food company reports margin pressure due...</td>\n",
       "    </tr>\n",
       "    <tr>\n",
       "      <th>97</th>\n",
       "      <td>neutral</td>\n",
       "      <td>Huhtamaki packaging materials completes factor...</td>\n",
       "    </tr>\n",
       "    <tr>\n",
       "      <th>98</th>\n",
       "      <td>positive</td>\n",
       "      <td>UPM paper manufacturer wins sustainability awa...</td>\n",
       "    </tr>\n",
       "    <tr>\n",
       "      <th>99</th>\n",
       "      <td>negative</td>\n",
       "      <td>Citycon shopping center owner reports decrease...</td>\n",
       "    </tr>\n",
       "  </tbody>\n",
       "</table>\n",
       "<p>100 rows × 2 columns</p>\n",
       "</div>"
      ],
      "text/plain": [
       "   Sentiment                                      News Headline\n",
       "0   positive  Nokia reports strong Q4 earnings, smartphone s...\n",
       "1   positive  Finnish telecom giant Elisa sees 12% revenue g...\n",
       "2   positive  UPM-Kymmene's profit jumps 18% in latest quart...\n",
       "3   negative  Metso announces closure of manufacturing plant...\n",
       "4   positive  Kone wins major elevator contract for Dubai sk...\n",
       "..       ...                                                ...\n",
       "95  positive  Kemira chemicals reports stronger than expecte...\n",
       "96  negative  Atria food company reports margin pressure due...\n",
       "97   neutral  Huhtamaki packaging materials completes factor...\n",
       "98  positive  UPM paper manufacturer wins sustainability awa...\n",
       "99  negative  Citycon shopping center owner reports decrease...\n",
       "\n",
       "[100 rows x 2 columns]"
      ]
     },
     "execution_count": 31,
     "metadata": {},
     "output_type": "execute_result"
    }
   ],
   "source": [
    "# Load test dataset\n",
    "test_data_path = os.path.join(EXTERNAL_DATA_PATH, \"test_data.csv\")\n",
    "test_df = pd.read_csv(test_data_path)\n",
    "\n",
    "print(f\"Loaded test data with {len(test_df)} headlines\")\n",
    "\n",
    "# Show a few examples\n",
    "test_df.head(100)\n"
   ]
  },
  {
   "cell_type": "code",
   "execution_count": 32,
   "metadata": {},
   "outputs": [
    {
     "name": "stdout",
     "output_type": "stream",
     "text": [
      "Using most recent model: d:\\Documents\\CODE\\HCMUT\\Machine Learning Assignment\\models\\trained\\rnn_076.pkl\n",
      "\u001b[1m27/27\u001b[0m \u001b[32m━━━━━━━━━━━━━━━━━━━━\u001b[0m\u001b[37m\u001b[0m \u001b[1m1s\u001b[0m 34ms/step\n",
      "Prediction class distribution:\n",
      "negative (class 0): 262 predictions\n",
      "neutral (class 1): 335 predictions\n",
      "positive (class 2): 244 predictions\n",
      "Predictions completed\n"
     ]
    },
    {
     "data": {
      "text/html": [
       "<div>\n",
       "<style scoped>\n",
       "    .dataframe tbody tr th:only-of-type {\n",
       "        vertical-align: middle;\n",
       "    }\n",
       "\n",
       "    .dataframe tbody tr th {\n",
       "        vertical-align: top;\n",
       "    }\n",
       "\n",
       "    .dataframe thead th {\n",
       "        text-align: right;\n",
       "    }\n",
       "</style>\n",
       "<table border=\"1\" class=\"dataframe\">\n",
       "  <thead>\n",
       "    <tr style=\"text-align: right;\">\n",
       "      <th></th>\n",
       "      <th>Actual Sentiment</th>\n",
       "      <th>News Headline</th>\n",
       "      <th>Predicted Sentiment</th>\n",
       "      <th>Confidence</th>\n",
       "    </tr>\n",
       "  </thead>\n",
       "  <tbody>\n",
       "    <tr>\n",
       "      <th>0</th>\n",
       "      <td>positive</td>\n",
       "      <td>Nokia reports strong Q4 earnings, smartphone s...</td>\n",
       "      <td>positive</td>\n",
       "      <td>0.93</td>\n",
       "    </tr>\n",
       "    <tr>\n",
       "      <th>1</th>\n",
       "      <td>positive</td>\n",
       "      <td>Finnish telecom giant Elisa sees 12% revenue g...</td>\n",
       "      <td>positive</td>\n",
       "      <td>0.99</td>\n",
       "    </tr>\n",
       "    <tr>\n",
       "      <th>2</th>\n",
       "      <td>positive</td>\n",
       "      <td>UPM-Kymmene's profit jumps 18% in latest quart...</td>\n",
       "      <td>positive</td>\n",
       "      <td>0.61</td>\n",
       "    </tr>\n",
       "  </tbody>\n",
       "</table>\n",
       "</div>"
      ],
      "text/plain": [
       "  Actual Sentiment                                      News Headline  \\\n",
       "0         positive  Nokia reports strong Q4 earnings, smartphone s...   \n",
       "1         positive  Finnish telecom giant Elisa sees 12% revenue g...   \n",
       "2         positive  UPM-Kymmene's profit jumps 18% in latest quart...   \n",
       "\n",
       "  Predicted Sentiment  Confidence  \n",
       "0            positive        0.93  \n",
       "1            positive        0.99  \n",
       "2            positive        0.61  "
      ]
     },
     "execution_count": 32,
     "metadata": {},
     "output_type": "execute_result"
    }
   ],
   "source": [
    "# Make predictions\n",
    "headlines = test_df['News Headline'].tolist()\n",
    "results = predictor.predict_neural_network(headlines)\n",
    "\n",
    "# Create a dataframe with predictions\n",
    "if results:\n",
    "    predicted_sentiments = [r['sentiment'] for r in results]\n",
    "    confidence_scores = [round(r['confidence'], 2) for r in results]\n",
    "    \n",
    "    # Add predictions to the dataframe\n",
    "    results_df = test_df.copy()\n",
    "    results_df = results_df.rename(columns={'Sentiment': 'Actual Sentiment'})\n",
    "    results_df['Predicted Sentiment'] = predicted_sentiments\n",
    "    results_df['Confidence'] = confidence_scores\n",
    "    \n",
    "    print(f\"Predictions completed\")\n",
    "else:\n",
    "    print(\"Prediction failed or no model found.\")\n",
    "\n",
    "# Show some results\n",
    "results_df.head(3)"
   ]
  },
  {
   "cell_type": "markdown",
   "metadata": {},
   "source": [
    "## 5. Model Evaluation\n",
    "\n",
    "Let's evaluate the model's performance on the test dataset."
   ]
  },
  {
   "cell_type": "code",
   "execution_count": 33,
   "metadata": {},
   "outputs": [
    {
     "name": "stdout",
     "output_type": "stream",
     "text": [
      "              precision    recall  f1-score   support\n",
      "\n",
      "    negative       0.76      0.77      0.76       261\n",
      "     neutral       0.66      0.84      0.74       263\n",
      "    positive       0.90      0.69      0.78       317\n",
      "\n",
      "    accuracy                           0.76       841\n",
      "   macro avg       0.77      0.77      0.76       841\n",
      "weighted avg       0.78      0.76      0.76       841\n",
      "\n"
     ]
    }
   ],
   "source": [
    "from sklearn.metrics import classification_report\n",
    "\n",
    "# Calculate metrics\n",
    "y_true = results_df['Actual Sentiment']\n",
    "y_pred = results_df['Predicted Sentiment']\n",
    "\n",
    "# Print classification report\n",
    "print(classification_report(y_true, y_pred))"
   ]
  },
  {
   "cell_type": "code",
   "execution_count": 34,
   "metadata": {},
   "outputs": [
    {
     "data": {
      "text/plain": [
       "True     640\n",
       "False    201\n",
       "Name: count, dtype: int64"
      ]
     },
     "execution_count": 34,
     "metadata": {},
     "output_type": "execute_result"
    }
   ],
   "source": [
    "true = results_df['Predicted Sentiment'] == results_df['Actual Sentiment']\n",
    "true.value_counts()"
   ]
  }
 ],
 "metadata": {
  "kernelspec": {
   "display_name": "venv",
   "language": "python",
   "name": "python3"
  },
  "language_info": {
   "codemirror_mode": {
    "name": "ipython",
    "version": 3
   },
   "file_extension": ".py",
   "mimetype": "text/x-python",
   "name": "python",
   "nbconvert_exporter": "python",
   "pygments_lexer": "ipython3",
   "version": "3.12.9"
  }
 },
 "nbformat": 4,
 "nbformat_minor": 2
}
