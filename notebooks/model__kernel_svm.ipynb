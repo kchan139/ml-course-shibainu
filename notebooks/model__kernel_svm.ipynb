{
 "cells": [
  {
   "cell_type": "markdown",
   "id": "a96e775d",
   "metadata": {},
   "source": [
    "# Hyperparameter Tuning for Sentiment Analysis with Kernel SVM\n",
    "\n",
    "This notebook demonstrates hyperparameter optimization for a Kernel SVM model to perform sentiment analysis. We'll track experiments with MLflow and find the best model configuration."
   ]
  },
  {
   "cell_type": "markdown",
   "id": "88f6a60d",
   "metadata": {},
   "source": [
    "## Setup and Imports"
   ]
  },
  {
   "cell_type": "code",
   "execution_count": 1,
   "id": "48518d8d",
   "metadata": {},
   "outputs": [],
   "source": [
    "import numpy as np\n",
    "import mlflow\n",
    "import pandas as pd\n",
    "\n",
    "import sys\n",
    "sys.path.append('..')\n",
    "from src.models.train_models import ModelTrainer\n",
    "from src.models.predict_models import ModelPredictor\n",
    "from src.config import *"
   ]
  },
  {
   "cell_type": "markdown",
   "id": "249f18df",
   "metadata": {},
   "source": [
    "## Define Hyperparameter Grid\n",
    "\n",
    "We'll create a grid of hyperparameters to search through:\n",
    "\n",
    "- **C values**: Regularization strength (inverse) - smaller values specify stronger regularization\n",
    "- **Kernel types**: Different kernel functions for the SVM\n",
    "- **Gamma values**: Kernel coefficient for RBF, polynomial and sigmoid kernels"
   ]
  },
  {
   "cell_type": "code",
   "execution_count": 2,
   "id": "544afb27",
   "metadata": {},
   "outputs": [],
   "source": [
    "# Define hyperparameter grids to search\n",
    "C_values = [0.1, 1.0, 10.0]\n",
    "kernel_values = ['rbf', 'linear', 'poly', 'sigmoid']\n",
    "gamma_values = ['scale', 'auto', 0.1, 1.0]"
   ]
  },
  {
   "cell_type": "markdown",
   "id": "cc0dc0d5",
   "metadata": {},
   "source": [
    "## Hyperparameter Grid Search\n",
    "\n",
    "Now we'll run through all valid combinations of hyperparameters and track the results using MLflow."
   ]
  },
  {
   "cell_type": "code",
   "execution_count": 3,
   "id": "b9218937",
   "metadata": {},
   "outputs": [
    {
     "name": "stdout",
     "output_type": "stream",
     "text": [
      "Training with C=0.1, Kernel=rbf, Gamma=scale\n",
      "Using active MLflow experiment 'sentiment_classification' with ID 360311621043028179\n"
     ]
    },
    {
     "name": "stderr",
     "output_type": "stream",
     "text": [
      "d:\\Tailieudh\\ML\\Project\\ml-course-shibainu\\venv\\Lib\\site-packages\\tqdm\\auto.py:21: TqdmWarning: IProgress not found. Please update jupyter and ipywidgets. See https://ipywidgets.readthedocs.io/en/stable/user_install.html\n",
      "  from .autonotebook import tqdm as notebook_tqdm\n",
      "Downloading artifacts: 100%|██████████| 7/7 [00:00<00:00, 2791.68it/s]\n",
      "\n"
     ]
    },
    {
     "name": "stdout",
     "output_type": "stream",
     "text": [
      "Training with C=0.1, Kernel=rbf, Gamma=auto\n",
      "Using active MLflow experiment 'sentiment_classification' with ID 360311621043028179\n"
     ]
    },
    {
     "name": "stderr",
     "output_type": "stream",
     "text": [
      "Downloading artifacts: 100%|██████████| 7/7 [00:00<00:00, 3494.42it/s]\n",
      "\n"
     ]
    },
    {
     "name": "stdout",
     "output_type": "stream",
     "text": [
      "Training with C=0.1, Kernel=rbf, Gamma=0.1\n",
      "Using active MLflow experiment 'sentiment_classification' with ID 360311621043028179\n"
     ]
    },
    {
     "name": "stderr",
     "output_type": "stream",
     "text": [
      "Downloading artifacts: 100%|██████████| 7/7 [00:00<00:00, 3504.85it/s]\n",
      "\n"
     ]
    },
    {
     "name": "stdout",
     "output_type": "stream",
     "text": [
      "Training with C=0.1, Kernel=rbf, Gamma=1.0\n",
      "Using active MLflow experiment 'sentiment_classification' with ID 360311621043028179\n"
     ]
    },
    {
     "name": "stderr",
     "output_type": "stream",
     "text": [
      "Downloading artifacts: 100%|██████████| 7/7 [00:00<00:00, 2280.22it/s]\n",
      "\n"
     ]
    },
    {
     "name": "stdout",
     "output_type": "stream",
     "text": [
      "Training with C=0.1, Kernel=linear, Gamma=scale\n",
      "Using active MLflow experiment 'sentiment_classification' with ID 360311621043028179\n"
     ]
    },
    {
     "name": "stderr",
     "output_type": "stream",
     "text": [
      "Downloading artifacts: 100%|██████████| 7/7 [00:00<00:00, 3501.92it/s]\n",
      "\n"
     ]
    },
    {
     "name": "stdout",
     "output_type": "stream",
     "text": [
      "Training with C=0.1, Kernel=linear, Gamma=auto\n",
      "Using active MLflow experiment 'sentiment_classification' with ID 360311621043028179\n"
     ]
    },
    {
     "name": "stderr",
     "output_type": "stream",
     "text": [
      "Downloading artifacts: 100%|██████████| 7/7 [00:00<00:00, 2789.83it/s]\n",
      "\n"
     ]
    },
    {
     "name": "stdout",
     "output_type": "stream",
     "text": [
      "Training with C=0.1, Kernel=linear, Gamma=0.1\n",
      "Using active MLflow experiment 'sentiment_classification' with ID 360311621043028179\n"
     ]
    },
    {
     "name": "stderr",
     "output_type": "stream",
     "text": [
      "Downloading artifacts: 100%|██████████| 7/7 [00:00<00:00, 3494.84it/s]\n",
      "\n"
     ]
    },
    {
     "name": "stdout",
     "output_type": "stream",
     "text": [
      "Training with C=0.1, Kernel=linear, Gamma=1.0\n",
      "Using active MLflow experiment 'sentiment_classification' with ID 360311621043028179\n"
     ]
    },
    {
     "name": "stderr",
     "output_type": "stream",
     "text": [
      "Downloading artifacts: 100%|██████████| 7/7 [00:00<00:00, 3112.82it/s]\n",
      "\n"
     ]
    },
    {
     "name": "stdout",
     "output_type": "stream",
     "text": [
      "Training with C=0.1, Kernel=poly, Gamma=scale\n",
      "Using active MLflow experiment 'sentiment_classification' with ID 360311621043028179\n"
     ]
    },
    {
     "name": "stderr",
     "output_type": "stream",
     "text": [
      "Downloading artifacts: 100%|██████████| 7/7 [00:00<00:00, 6967.28it/s]\n",
      "\n"
     ]
    },
    {
     "name": "stdout",
     "output_type": "stream",
     "text": [
      "Training with C=0.1, Kernel=poly, Gamma=auto\n",
      "Using active MLflow experiment 'sentiment_classification' with ID 360311621043028179\n"
     ]
    },
    {
     "name": "stderr",
     "output_type": "stream",
     "text": [
      "Downloading artifacts: 100%|██████████| 7/7 [00:00<00:00, 3499.42it/s]\n",
      "\n"
     ]
    },
    {
     "name": "stdout",
     "output_type": "stream",
     "text": [
      "Training with C=0.1, Kernel=poly, Gamma=0.1\n",
      "Using active MLflow experiment 'sentiment_classification' with ID 360311621043028179\n"
     ]
    },
    {
     "name": "stderr",
     "output_type": "stream",
     "text": [
      "Downloading artifacts: 100%|██████████| 7/7 [00:00<00:00, 3498.17it/s]\n",
      "\n"
     ]
    },
    {
     "name": "stdout",
     "output_type": "stream",
     "text": [
      "Training with C=0.1, Kernel=poly, Gamma=1.0\n",
      "Using active MLflow experiment 'sentiment_classification' with ID 360311621043028179\n"
     ]
    },
    {
     "name": "stderr",
     "output_type": "stream",
     "text": [
      "Downloading artifacts: 100%|██████████| 7/7 [00:00<00:00, 3387.58it/s]\n",
      "\n"
     ]
    },
    {
     "name": "stdout",
     "output_type": "stream",
     "text": [
      "Training with C=0.1, Kernel=sigmoid, Gamma=scale\n",
      "Using active MLflow experiment 'sentiment_classification' with ID 360311621043028179\n"
     ]
    },
    {
     "name": "stderr",
     "output_type": "stream",
     "text": [
      "Downloading artifacts: 100%|██████████| 7/7 [00:00<00:00, 3499.84it/s]\n",
      "\n"
     ]
    },
    {
     "name": "stdout",
     "output_type": "stream",
     "text": [
      "Training with C=0.1, Kernel=sigmoid, Gamma=auto\n",
      "Using active MLflow experiment 'sentiment_classification' with ID 360311621043028179\n"
     ]
    },
    {
     "name": "stderr",
     "output_type": "stream",
     "text": [
      "Downloading artifacts: 100%|██████████| 7/7 [00:00<00:00, 1744.30it/s]\n",
      "\n"
     ]
    },
    {
     "name": "stdout",
     "output_type": "stream",
     "text": [
      "Training with C=0.1, Kernel=sigmoid, Gamma=0.1\n",
      "Using active MLflow experiment 'sentiment_classification' with ID 360311621043028179\n"
     ]
    },
    {
     "name": "stderr",
     "output_type": "stream",
     "text": [
      "Downloading artifacts: 100%|██████████| 7/7 [00:00<00:00, 2333.32it/s]\n",
      "\n"
     ]
    },
    {
     "name": "stdout",
     "output_type": "stream",
     "text": [
      "Training with C=0.1, Kernel=sigmoid, Gamma=1.0\n",
      "Using active MLflow experiment 'sentiment_classification' with ID 360311621043028179\n"
     ]
    },
    {
     "name": "stderr",
     "output_type": "stream",
     "text": [
      "Downloading artifacts: 100%|██████████| 7/7 [00:00<00:00, 3499.42it/s]\n",
      "\n"
     ]
    },
    {
     "name": "stdout",
     "output_type": "stream",
     "text": [
      "Training with C=1.0, Kernel=rbf, Gamma=scale\n",
      "Using active MLflow experiment 'sentiment_classification' with ID 360311621043028179\n"
     ]
    },
    {
     "name": "stderr",
     "output_type": "stream",
     "text": [
      "Downloading artifacts: 100%|██████████| 7/7 [00:00<00:00, 3363.13it/s]\n",
      "\n"
     ]
    },
    {
     "name": "stdout",
     "output_type": "stream",
     "text": [
      "Training with C=1.0, Kernel=rbf, Gamma=auto\n",
      "Using active MLflow experiment 'sentiment_classification' with ID 360311621043028179\n"
     ]
    },
    {
     "name": "stderr",
     "output_type": "stream",
     "text": [
      "Downloading artifacts: 100%|██████████| 7/7 [00:00<00:00, 7017.24it/s]\n",
      "\n"
     ]
    },
    {
     "name": "stdout",
     "output_type": "stream",
     "text": [
      "Training with C=1.0, Kernel=rbf, Gamma=0.1\n",
      "Using active MLflow experiment 'sentiment_classification' with ID 360311621043028179\n"
     ]
    },
    {
     "name": "stderr",
     "output_type": "stream",
     "text": [
      "Downloading artifacts: 100%|██████████| 7/7 [00:00<00:00, 2790.62it/s]\n",
      "\n"
     ]
    },
    {
     "name": "stdout",
     "output_type": "stream",
     "text": [
      "Training with C=1.0, Kernel=rbf, Gamma=1.0\n",
      "Using active MLflow experiment 'sentiment_classification' with ID 360311621043028179\n"
     ]
    },
    {
     "name": "stderr",
     "output_type": "stream",
     "text": [
      "Downloading artifacts: 100%|██████████| 7/7 [00:00<00:00, 7003.85it/s]\n",
      "\n"
     ]
    },
    {
     "name": "stdout",
     "output_type": "stream",
     "text": [
      "Training with C=1.0, Kernel=linear, Gamma=scale\n",
      "Using active MLflow experiment 'sentiment_classification' with ID 360311621043028179\n"
     ]
    },
    {
     "name": "stderr",
     "output_type": "stream",
     "text": [
      "Downloading artifacts: 100%|██████████| 7/7 [00:00<00:00, 2791.42it/s]\n",
      "\n"
     ]
    },
    {
     "name": "stdout",
     "output_type": "stream",
     "text": [
      "Training with C=1.0, Kernel=linear, Gamma=auto\n",
      "Using active MLflow experiment 'sentiment_classification' with ID 360311621043028179\n"
     ]
    },
    {
     "name": "stderr",
     "output_type": "stream",
     "text": [
      "Downloading artifacts: 100%|██████████| 7/7 [00:00<00:00, 3503.60it/s]\n",
      "\n"
     ]
    },
    {
     "name": "stdout",
     "output_type": "stream",
     "text": [
      "Training with C=1.0, Kernel=linear, Gamma=0.1\n",
      "Using active MLflow experiment 'sentiment_classification' with ID 360311621043028179\n"
     ]
    },
    {
     "name": "stderr",
     "output_type": "stream",
     "text": [
      "Downloading artifacts: 100%|██████████| 7/7 [00:00<00:00, 3503.60it/s]\n",
      "\n"
     ]
    },
    {
     "name": "stdout",
     "output_type": "stream",
     "text": [
      "Training with C=1.0, Kernel=linear, Gamma=1.0\n",
      "Using active MLflow experiment 'sentiment_classification' with ID 360311621043028179\n"
     ]
    },
    {
     "name": "stderr",
     "output_type": "stream",
     "text": [
      "Downloading artifacts: 100%|██████████| 7/7 [00:00<00:00, 2333.69it/s]\n",
      "\n"
     ]
    },
    {
     "name": "stdout",
     "output_type": "stream",
     "text": [
      "Training with C=1.0, Kernel=poly, Gamma=scale\n",
      "Using active MLflow experiment 'sentiment_classification' with ID 360311621043028179\n"
     ]
    },
    {
     "name": "stderr",
     "output_type": "stream",
     "text": [
      "Downloading artifacts: 100%|██████████| 7/7 [00:00<00:00, 3499.84it/s]\n",
      "\n"
     ]
    },
    {
     "name": "stdout",
     "output_type": "stream",
     "text": [
      "Training with C=1.0, Kernel=poly, Gamma=auto\n",
      "Using active MLflow experiment 'sentiment_classification' with ID 360311621043028179\n"
     ]
    },
    {
     "name": "stderr",
     "output_type": "stream",
     "text": [
      "Downloading artifacts: 100%|██████████| 7/7 [00:00<00:00, 3500.67it/s]\n",
      "\n"
     ]
    },
    {
     "name": "stdout",
     "output_type": "stream",
     "text": [
      "Training with C=1.0, Kernel=poly, Gamma=0.1\n",
      "Using active MLflow experiment 'sentiment_classification' with ID 360311621043028179\n"
     ]
    },
    {
     "name": "stderr",
     "output_type": "stream",
     "text": [
      "Downloading artifacts: 100%|██████████| 7/7 [00:00<00:00, 2333.13it/s]\n",
      "\n"
     ]
    },
    {
     "name": "stdout",
     "output_type": "stream",
     "text": [
      "Training with C=1.0, Kernel=poly, Gamma=1.0\n",
      "Using active MLflow experiment 'sentiment_classification' with ID 360311621043028179\n"
     ]
    },
    {
     "name": "stderr",
     "output_type": "stream",
     "text": [
      "Downloading artifacts: 100%|██████████| 7/7 [00:00<00:00, 3499.84it/s]\n",
      "\n"
     ]
    },
    {
     "name": "stdout",
     "output_type": "stream",
     "text": [
      "Training with C=1.0, Kernel=sigmoid, Gamma=scale\n",
      "Using active MLflow experiment 'sentiment_classification' with ID 360311621043028179\n"
     ]
    },
    {
     "name": "stderr",
     "output_type": "stream",
     "text": [
      "Downloading artifacts: 100%|██████████| 7/7 [00:00<00:00, 2788.24it/s]\n",
      "\n"
     ]
    },
    {
     "name": "stdout",
     "output_type": "stream",
     "text": [
      "Training with C=1.0, Kernel=sigmoid, Gamma=auto\n",
      "Using active MLflow experiment 'sentiment_classification' with ID 360311621043028179\n"
     ]
    },
    {
     "name": "stderr",
     "output_type": "stream",
     "text": [
      "Downloading artifacts: 100%|██████████| 7/7 [00:00<00:00, 3500.67it/s]\n",
      "\n"
     ]
    },
    {
     "name": "stdout",
     "output_type": "stream",
     "text": [
      "Training with C=1.0, Kernel=sigmoid, Gamma=0.1\n",
      "Using active MLflow experiment 'sentiment_classification' with ID 360311621043028179\n"
     ]
    },
    {
     "name": "stderr",
     "output_type": "stream",
     "text": [
      "Downloading artifacts: 100%|██████████| 7/7 [00:00<00:00, 6997.17it/s]\n",
      "\n"
     ]
    },
    {
     "name": "stdout",
     "output_type": "stream",
     "text": [
      "Training with C=1.0, Kernel=sigmoid, Gamma=1.0\n",
      "Using active MLflow experiment 'sentiment_classification' with ID 360311621043028179\n"
     ]
    },
    {
     "name": "stderr",
     "output_type": "stream",
     "text": [
      "Downloading artifacts: 100%|██████████| 7/7 [00:00<00:00, 2334.24it/s]\n",
      "\n"
     ]
    },
    {
     "name": "stdout",
     "output_type": "stream",
     "text": [
      "Training with C=10.0, Kernel=rbf, Gamma=scale\n",
      "Using active MLflow experiment 'sentiment_classification' with ID 360311621043028179\n"
     ]
    },
    {
     "name": "stderr",
     "output_type": "stream",
     "text": [
      "Downloading artifacts: 100%|██████████| 7/7 [00:00<00:00, 3108.21it/s]\n",
      "\n"
     ]
    },
    {
     "name": "stdout",
     "output_type": "stream",
     "text": [
      "Training with C=10.0, Kernel=rbf, Gamma=auto\n",
      "Using active MLflow experiment 'sentiment_classification' with ID 360311621043028179\n"
     ]
    },
    {
     "name": "stderr",
     "output_type": "stream",
     "text": [
      "Downloading artifacts: 100%|██████████| 7/7 [00:00<00:00, 3499.42it/s]\n",
      "\n"
     ]
    },
    {
     "name": "stdout",
     "output_type": "stream",
     "text": [
      "Training with C=10.0, Kernel=rbf, Gamma=0.1\n",
      "Using active MLflow experiment 'sentiment_classification' with ID 360311621043028179\n"
     ]
    },
    {
     "name": "stderr",
     "output_type": "stream",
     "text": [
      "Downloading artifacts: 100%|██████████| 7/7 [00:00<00:00, 2333.87it/s]\n",
      "\n"
     ]
    },
    {
     "name": "stdout",
     "output_type": "stream",
     "text": [
      "Training with C=10.0, Kernel=rbf, Gamma=1.0\n",
      "Using active MLflow experiment 'sentiment_classification' with ID 360311621043028179\n"
     ]
    },
    {
     "name": "stderr",
     "output_type": "stream",
     "text": [
      "Downloading artifacts: 100%|██████████| 7/7 [00:00<00:00, 1999.19it/s]\n",
      "\n"
     ]
    },
    {
     "name": "stdout",
     "output_type": "stream",
     "text": [
      "Training with C=10.0, Kernel=linear, Gamma=scale\n",
      "Using active MLflow experiment 'sentiment_classification' with ID 360311621043028179\n"
     ]
    },
    {
     "name": "stderr",
     "output_type": "stream",
     "text": [
      "Downloading artifacts: 100%|██████████| 7/7 [00:00<00:00, 3493.59it/s]\n",
      "\n"
     ]
    },
    {
     "name": "stdout",
     "output_type": "stream",
     "text": [
      "Training with C=10.0, Kernel=linear, Gamma=auto\n",
      "Using active MLflow experiment 'sentiment_classification' with ID 360311621043028179\n"
     ]
    },
    {
     "name": "stderr",
     "output_type": "stream",
     "text": [
      "Downloading artifacts: 100%|██████████| 7/7 [00:00<00:00, 3364.29it/s]\n",
      "\n"
     ]
    },
    {
     "name": "stdout",
     "output_type": "stream",
     "text": [
      "Training with C=10.0, Kernel=linear, Gamma=0.1\n",
      "Using active MLflow experiment 'sentiment_classification' with ID 360311621043028179\n"
     ]
    },
    {
     "name": "stderr",
     "output_type": "stream",
     "text": [
      "Downloading artifacts: 100%|██████████| 7/7 [00:00<00:00, 3107.88it/s]\n",
      "\n"
     ]
    },
    {
     "name": "stdout",
     "output_type": "stream",
     "text": [
      "Training with C=10.0, Kernel=linear, Gamma=1.0\n",
      "Using active MLflow experiment 'sentiment_classification' with ID 360311621043028179\n"
     ]
    },
    {
     "name": "stderr",
     "output_type": "stream",
     "text": [
      "Downloading artifacts: 100%|██████████| 7/7 [00:00<00:00, 3504.43it/s]\n",
      "\n"
     ]
    },
    {
     "name": "stdout",
     "output_type": "stream",
     "text": [
      "Training with C=10.0, Kernel=poly, Gamma=scale\n",
      "Using active MLflow experiment 'sentiment_classification' with ID 360311621043028179\n"
     ]
    },
    {
     "name": "stderr",
     "output_type": "stream",
     "text": [
      "Downloading artifacts: 100%|██████████| 7/7 [00:00<00:00, 3506.94it/s]\n",
      "\n"
     ]
    },
    {
     "name": "stdout",
     "output_type": "stream",
     "text": [
      "Training with C=10.0, Kernel=poly, Gamma=auto\n",
      "Using active MLflow experiment 'sentiment_classification' with ID 360311621043028179\n"
     ]
    },
    {
     "name": "stderr",
     "output_type": "stream",
     "text": [
      "Downloading artifacts: 100%|██████████| 7/7 [00:00<00:00, 2744.96it/s]\n",
      "\n"
     ]
    },
    {
     "name": "stdout",
     "output_type": "stream",
     "text": [
      "Training with C=10.0, Kernel=poly, Gamma=0.1\n",
      "Using active MLflow experiment 'sentiment_classification' with ID 360311621043028179\n"
     ]
    },
    {
     "name": "stderr",
     "output_type": "stream",
     "text": [
      "Downloading artifacts: 100%|██████████| 7/7 [00:00<00:00, 2796.74it/s]\n",
      "\n"
     ]
    },
    {
     "name": "stdout",
     "output_type": "stream",
     "text": [
      "Training with C=10.0, Kernel=poly, Gamma=1.0\n",
      "Using active MLflow experiment 'sentiment_classification' with ID 360311621043028179\n"
     ]
    },
    {
     "name": "stderr",
     "output_type": "stream",
     "text": [
      "Downloading artifacts: 100%|██████████| 7/7 [00:00<00:00, 3502.34it/s]\n",
      "\n"
     ]
    },
    {
     "name": "stdout",
     "output_type": "stream",
     "text": [
      "Training with C=10.0, Kernel=sigmoid, Gamma=scale\n",
      "Using active MLflow experiment 'sentiment_classification' with ID 360311621043028179\n"
     ]
    },
    {
     "name": "stderr",
     "output_type": "stream",
     "text": [
      "Downloading artifacts: 100%|██████████| 7/7 [00:00<00:00, 3501.09it/s]\n",
      "\n"
     ]
    },
    {
     "name": "stdout",
     "output_type": "stream",
     "text": [
      "Training with C=10.0, Kernel=sigmoid, Gamma=auto\n",
      "Using active MLflow experiment 'sentiment_classification' with ID 360311621043028179\n"
     ]
    },
    {
     "name": "stderr",
     "output_type": "stream",
     "text": [
      "Downloading artifacts: 100%|██████████| 7/7 [00:00<00:00, 3496.92it/s]\n",
      "\n"
     ]
    },
    {
     "name": "stdout",
     "output_type": "stream",
     "text": [
      "Training with C=10.0, Kernel=sigmoid, Gamma=0.1\n",
      "Using active MLflow experiment 'sentiment_classification' with ID 360311621043028179\n"
     ]
    },
    {
     "name": "stderr",
     "output_type": "stream",
     "text": [
      "Downloading artifacts: 100%|██████████| 7/7 [00:00<00:00, 3495.67it/s]\n",
      "\n"
     ]
    },
    {
     "name": "stdout",
     "output_type": "stream",
     "text": [
      "Training with C=10.0, Kernel=sigmoid, Gamma=1.0\n",
      "Using active MLflow experiment 'sentiment_classification' with ID 360311621043028179\n"
     ]
    },
    {
     "name": "stderr",
     "output_type": "stream",
     "text": [
      "Downloading artifacts: 100%|██████████| 7/7 [00:00<00:00, 3501.92it/s]\n",
      "\n"
     ]
    }
   ],
   "source": [
    "results = []\n",
    "\n",
    "for c in C_values:\n",
    "    for kernel in kernel_values:\n",
    "        for gamma in gamma_values:\n",
    "            print(f\"Training with C={c}, Kernel={kernel}, Gamma={gamma}\")\n",
    "            try:\n",
    "                run_id = ModelTrainer.kernel_svm(C=c, kernel=kernel, gamma=gamma)\n",
    "\n",
    "                with mlflow.start_run(run_id=run_id):\n",
    "                    run = mlflow.get_run(run_id)\n",
    "                    metrics = run.data.metrics\n",
    "                    params = run.data.params\n",
    "\n",
    "                    results.append({\n",
    "                        'run_id': run_id,\n",
    "                        'C': params.get('C'),\n",
    "                        'kernel': params.get('kernel'),\n",
    "                        'gamma': params.get('gamma'),\n",
    "                        'train_accuracy': metrics.get('train_accuracy'),\n",
    "                        'test_accuracy': metrics.get('test_accuracy'),\n",
    "                        'test_precision': metrics.get('test_precision'),\n",
    "                        'test_recall': metrics.get('test_recall'),\n",
    "                        'test_f1': metrics.get('test_f1'),\n",
    "                    })\n",
    "            except Exception as e:\n",
    "                print(f\"Error training with C={c}, Kernel={kernel}, Gamma={gamma}: {e}\")\n",
    "                continue"
   ]
  },
  {
   "cell_type": "markdown",
   "id": "7df0eb30",
   "metadata": {},
   "source": [
    "## Print All Model Test Accuracies\n",
    "\n",
    "Let's display the test accuracies for all models, sorted by performance."
   ]
  },
  {
   "cell_type": "code",
   "execution_count": 4,
   "id": "804f2426",
   "metadata": {},
   "outputs": [
    {
     "name": "stdout",
     "output_type": "stream",
     "text": [
      "\n",
      "All Models Test Accuracies (sorted):\n",
      "\n",
      "   C  kernel gamma  test_accuracy\n",
      "10.0     rbf scale       0.884731\n",
      "10.0     rbf   1.0       0.884731\n",
      " 1.0  linear   0.1       0.882984\n",
      " 1.0  linear scale       0.882984\n",
      "10.0 sigmoid   0.1       0.882984\n",
      " 1.0  linear   1.0       0.882984\n",
      " 1.0  linear  auto       0.882984\n",
      " 1.0     rbf   1.0       0.879491\n",
      " 1.0     rbf scale       0.879491\n",
      " 1.0 sigmoid   1.0       0.877246\n",
      "10.0     rbf   0.1       0.877246\n",
      " 1.0 sigmoid scale       0.877246\n",
      "10.0  linear   0.1       0.860279\n",
      "10.0  linear  auto       0.860279\n",
      "10.0  linear   1.0       0.860279\n",
      "10.0  linear scale       0.860279\n",
      "10.0 sigmoid   1.0       0.856537\n",
      "10.0 sigmoid scale       0.854042\n",
      " 1.0     rbf   0.1       0.837076\n",
      "10.0    poly   1.0       0.808882\n",
      "10.0    poly scale       0.808882\n",
      " 1.0    poly scale       0.796657\n",
      " 1.0    poly   1.0       0.796158\n",
      " 1.0 sigmoid   0.1       0.791916\n",
      " 0.1  linear scale       0.791916\n",
      " 0.1  linear  auto       0.791916\n",
      " 0.1  linear   0.1       0.791916\n",
      " 0.1  linear   1.0       0.791916\n",
      " 0.1 sigmoid   1.0       0.789920\n",
      " 0.1 sigmoid scale       0.789920\n",
      " 0.1     rbf   0.1       0.770210\n",
      " 0.1     rbf   1.0       0.770210\n",
      " 0.1 sigmoid   0.1       0.770210\n",
      " 0.1 sigmoid  auto       0.770210\n",
      " 0.1    poly   0.1       0.770210\n",
      " 0.1    poly   1.0       0.770210\n",
      " 0.1    poly  auto       0.770210\n",
      " 0.1    poly scale       0.770210\n",
      " 0.1     rbf  auto       0.770210\n",
      " 0.1     rbf scale       0.770210\n",
      " 1.0 sigmoid  auto       0.770210\n",
      " 1.0    poly   0.1       0.770210\n",
      " 1.0    poly  auto       0.770210\n",
      " 1.0     rbf  auto       0.770210\n",
      "10.0     rbf  auto       0.770210\n",
      "10.0    poly  auto       0.770210\n",
      "10.0    poly   0.1       0.770210\n",
      "10.0 sigmoid  auto       0.770210\n"
     ]
    },
    {
     "data": {
      "image/png": "[encoded data removed]",
      "text/plain": [
       "<Figure size 1200x600 with 1 Axes>"
      ]
     },
     "metadata": {},
     "output_type": "display_data"
    }
   ],
   "source": [
    "# Create dataframe from results\n",
    "results_df = pd.DataFrame(results)\n",
    "\n",
    "# Print all model test accuracies, sorted from best to worst\n",
    "if not results_df.empty and 'test_accuracy' in results_df.columns:\n",
    "    sorted_results = results_df.sort_values('test_accuracy', ascending=False)\n",
    "    \n",
    "    print(\"\\nAll Models Test Accuracies (sorted):\\n\")\n",
    "    print(sorted_results[['C', 'kernel', 'gamma', 'test_accuracy']].to_string(index=False))\n",
    "    \n",
    "    # Create a combined label for each configuration\n",
    "    sorted_results['config'] = sorted_results.apply(\n",
    "        lambda row: f\"C={row['C']}, {row['kernel']}, gamma={row['gamma']}\", axis=1)\n",
    "    \n",
    "    # Plot with the combined label\n",
    "    sorted_results.plot(\n",
    "        kind='bar', x='config', y='test_accuracy', figsize=(12, 6),\n",
    "        title='Test Accuracy by Hyperparameter Configuration'\n",
    "    )\n",
    "else:\n",
    "    print(\"\\nNo successful model runs found with test_accuracy metric.\")"
   ]
  },
  {
   "cell_type": "markdown",
   "id": "e2f26529",
   "metadata": {},
   "source": [
    "## Analyzing Results and Finding the Best Model"
   ]
  },
  {
   "cell_type": "code",
   "execution_count": 5,
   "id": "1934a9bc",
   "metadata": {},
   "outputs": [
    {
     "name": "stdout",
     "output_type": "stream",
     "text": [
      "\n",
      "Best model:\n",
      "C: 10.0, Kernel: rbf, Gamma: scale\n",
      "Test Accuracy: 0.8847\n",
      "Test F1: 0.8786\n",
      "Test Precision: 0.8811\n",
      "Test Recall: 0.8847\n",
      "Train Accuracy: 1.0000\n",
      "Run ID: 2d484502647b47bba90a48ea084ffb9e\n"
     ]
    }
   ],
   "source": [
    "# Find the best model\n",
    "if not results_df.empty and 'test_accuracy' in results_df.columns:\n",
    "    best_model = results_df.loc[results_df['test_accuracy'].idxmax()]\n",
    "    best_run_id = best_model['run_id']\n",
    "    \n",
    "    print(\"\\nBest model:\")\n",
    "    print(f\"C: {best_model['C']}, Kernel: {best_model['kernel']}, Gamma: {best_model['gamma']}\")\n",
    "    \n",
    "    # Print test metrics\n",
    "    print(f\"Test Accuracy: {best_model['test_accuracy']:.4f}\")\n",
    "    \n",
    "    # Check and print other test metrics if they exist\n",
    "    for metric in ['test_f1', 'test_precision', 'test_recall']:\n",
    "        if metric in best_model:\n",
    "            print(f\"{metric.replace('_', ' ').title()}: {best_model[metric]:.4f}\")\n",
    "    \n",
    "    # Print train metrics\n",
    "    if 'train_accuracy' in best_model:\n",
    "        print(f\"Train Accuracy: {best_model['train_accuracy']:.4f}\")\n",
    "    \n",
    "    # Check and print other train metrics if they exist\n",
    "    for metric in ['train_f1', 'train_precision', 'train_recall']:\n",
    "        if metric in best_model:\n",
    "            print(f\"{metric.replace('_', ' ').title()}: {best_model[metric]:.4f}\")\n",
    "    \n",
    "    print(f\"Run ID: {best_run_id}\")\n",
    "else:\n",
    "    print(\"\\nNo successful model runs found with test_accuracy metric.\")\n",
    "    best_run_id = None"
   ]
  },
  {
   "cell_type": "markdown",
   "id": "f5188564",
   "metadata": {},
   "source": [
    "## Making Predictions with the Best Model"
   ]
  },
  {
   "cell_type": "code",
   "execution_count": 6,
   "id": "3215f0cb",
   "metadata": {},
   "outputs": [
    {
     "name": "stdout",
     "output_type": "stream",
     "text": [
      "\n",
      "Predictions with Best Model (Run ID: 2d484502...):\n",
      "\n",
      "'This product works great!' -> Positive\n",
      "'Terrible experience...' -> Negative\n"
     ]
    }
   ],
   "source": [
    "if best_run_id is not None:\n",
    "    # Prediction with the best model found\n",
    "    texts = np.array([\"This product works great!\", \"Terrible experience...\"])\n",
    "    predictions = ModelPredictor.predict(best_run_id, texts)\n",
    "\n",
    "    print(f\"\\nPredictions with Best Model (Run ID: {best_run_id[:8]}...):\\n\")\n",
    "    for text, pred in zip(texts, predictions):\n",
    "        sentiment = \"Positive\" if pred == 1 else \"Negative\"\n",
    "        print(f\"'{text}' -> {sentiment}\")"
   ]
  }
 ],
 "metadata": {
  "kernelspec": {
   "display_name": "venv",
   "language": "python",
   "name": "python3"
  },
  "language_info": {
   "codemirror_mode": {
    "name": "ipython",
    "version": 3
   },
   "file_extension": ".py",
   "mimetype": "text/x-python",
   "name": "python",
   "nbconvert_exporter": "python",
   "pygments_lexer": "ipython3",
   "version": "3.12.9"
  }
 },
 "nbformat": 4,
 "nbformat_minor": 5
}
