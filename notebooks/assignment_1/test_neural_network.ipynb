{
 "cells": [
  {
   "cell_type": "markdown",
   "metadata": {},
   "source": [
    "# Neural Network Model Testing\n",
    "\n",
    "This notebook tests the neural network model for sentiment prediction on news headlines."
   ]
  },
  {
   "cell_type": "code",
   "execution_count": 1,
   "metadata": {},
   "outputs": [
    {
     "name": "stderr",
     "output_type": "stream",
     "text": [
      "[nltk_data] Downloading package punkt to\n",
      "[nltk_data]     C:\\Users\\PC\\AppData\\Roaming\\nltk_data...\n",
      "[nltk_data]   Package punkt is already up-to-date!\n",
      "[nltk_data] Downloading package stopwords to\n",
      "[nltk_data]     C:\\Users\\PC\\AppData\\Roaming\\nltk_data...\n",
      "[nltk_data]   Package stopwords is already up-to-date!\n",
      "[nltk_data] Downloading package wordnet to\n",
      "[nltk_data]     C:\\Users\\PC\\AppData\\Roaming\\nltk_data...\n",
      "[nltk_data]   Package wordnet is already up-to-date!\n",
      "d:\\Documents\\CODE\\HCMUT\\Machine Learning Assignment\\venv\\Lib\\site-packages\\tqdm\\auto.py:21: TqdmWarning: IProgress not found. Please update jupyter and ipywidgets. See https://ipywidgets.readthedocs.io/en/stable/user_install.html\n",
      "  from .autonotebook import tqdm as notebook_tqdm\n"
     ]
    }
   ],
   "source": [
    "# Import necessary libraries\n",
    "import sys\n",
    "import os\n",
    "import numpy as np\n",
    "import pandas as pd\n",
    "import matplotlib.pyplot as plt\n",
    "import seaborn as sns\n",
    "\n",
    "# Add project root to path for imports\n",
    "sys.path.append(os.path.abspath('../..'))\n",
    "\n",
    "# Import project modules\n",
    "from src.models.predict_model import ModelPredictor\n",
    "from src.config import PROCESSED_DATA_PATH, RAW_DATA_PATH, MODEL_DIR"
   ]
  },
  {
   "cell_type": "markdown",
   "metadata": {},
   "source": [
    "## 1. Initialize the Model Predictor\n",
    "\n",
    "We'll initialize the ModelPredictor class that will use our trained neural network model."
   ]
  },
  {
   "cell_type": "code",
   "execution_count": 2,
   "metadata": {},
   "outputs": [],
   "source": [
    "# Initialize the predictor\n",
    "predictor = ModelPredictor()"
   ]
  },
  {
   "cell_type": "markdown",
   "metadata": {},
   "source": [
    "## 2. Test Single Headline Prediction\n",
    "\n",
    "Let's test the model on a single headline first to check if everything is working."
   ]
  },
  {
   "cell_type": "code",
   "execution_count": 3,
   "metadata": {},
   "outputs": [
    {
     "name": "stdout",
     "output_type": "stream",
     "text": [
      "Using most recent model: d:\\Documents\\CODE\\HCMUT\\Machine Learning Assignment\\models\\experiments\\neural_network_20250303_135452.pkl\n",
      "\u001b[1m1/1\u001b[0m \u001b[32m━━━━━━━━━━━━━━━━━━━━\u001b[0m\u001b[37m\u001b[0m \u001b[1m1s\u001b[0m 705ms/step\n",
      "\n",
      "Headline: Company profits exceed expectations in Q1 2025\n",
      "Predicted Sentiment: neutral\n",
      "Confidence: 0.71\n",
      "\n",
      "All Probabilities:\n",
      "- negative: 0.09\n",
      "- neutral: 0.71\n",
      "- positive: 0.20\n"
     ]
    }
   ],
   "source": [
    "# Test with a single positive headline\n",
    "test_headline = \"Company profits exceed expectations in Q1 2025\"\n",
    "result = predictor.predict_neural_network(test_headline)\n",
    "\n",
    "# Display the result\n",
    "if result:\n",
    "    r = result[0]  # Get the first result\n",
    "    print(f\"\\nHeadline: {r['headline']}\")\n",
    "    print(f\"Predicted Sentiment: {r['sentiment']}\")\n",
    "    print(f\"Confidence: {r['confidence']:.2f}\")\n",
    "    \n",
    "    print(\"\\nAll Probabilities:\")\n",
    "    for sentiment, prob in r['probabilities'].items():\n",
    "        print(f\"- {sentiment}: {prob:.2f}\")\n",
    "else:\n",
    "    print(\"Prediction failed or no model found.\")"
   ]
  },
  {
   "cell_type": "markdown",
   "metadata": {},
   "source": [
    "## 3. Test Multiple Headlines\n",
    "\n",
    "Now let's test the model on multiple headlines with different expected sentiments."
   ]
  },
  {
   "cell_type": "code",
   "execution_count": 4,
   "metadata": {},
   "outputs": [
    {
     "name": "stdout",
     "output_type": "stream",
     "text": [
      "Using most recent model: d:\\Documents\\CODE\\HCMUT\\Machine Learning Assignment\\models\\experiments\\neural_network_20250303_135452.pkl\n",
      "\u001b[1m1/1\u001b[0m \u001b[32m━━━━━━━━━━━━━━━━━━━━\u001b[0m\u001b[37m\u001b[0m \u001b[1m1s\u001b[0m 554ms/step\n",
      "Headline: Stock market reaches all-time high as investor confidence grows\n",
      "Predicted Sentiment: neutral (confidence: 0.53)\n",
      "\n",
      "Headline: Major company announces significant layoffs due to economic downturn\n",
      "Predicted Sentiment: positive (confidence: 0.42)\n",
      "\n",
      "Headline: Global trade continues at steady pace despite mild fluctuations\n",
      "Predicted Sentiment: neutral (confidence: 0.56)\n",
      "\n",
      "Headline: Tech giant releases new product line with innovative features\n",
      "Predicted Sentiment: neutral (confidence: 0.79)\n",
      "\n",
      "Headline: Retail sales decline for third consecutive quarter\n",
      "Predicted Sentiment: neutral (confidence: 0.68)\n",
      "\n"
     ]
    }
   ],
   "source": [
    "# Test with multiple headlines\n",
    "test_headlines = [\n",
    "    \"Stock market reaches all-time high as investor confidence grows\",\n",
    "    \"Major company announces significant layoffs due to economic downturn\",\n",
    "    \"Global trade continues at steady pace despite mild fluctuations\",\n",
    "    \"Tech giant releases new product line with innovative features\",\n",
    "    \"Retail sales decline for third consecutive quarter\"\n",
    "]\n",
    "\n",
    "results = predictor.predict_neural_network(test_headlines)\n",
    "\n",
    "# Display the results\n",
    "if results:\n",
    "    for r in results:\n",
    "        print(f\"Headline: {r['headline']}\")\n",
    "        print(f\"Predicted Sentiment: {r['sentiment']} (confidence: {r['confidence']:.2f})\")\n",
    "        print()\n",
    "else:\n",
    "    print(\"Prediction failed or no model found.\")"
   ]
  },
  {
   "cell_type": "markdown",
   "metadata": {},
   "source": [
    "## 4. Test on Real Dataset\n",
    "\n",
    "Let's load a sample of the test dataset and predict sentiments."
   ]
  },
  {
   "cell_type": "code",
   "execution_count": 5,
   "metadata": {},
   "outputs": [
    {
     "name": "stdout",
     "output_type": "stream",
     "text": [
      "Loaded test data with 3 headlines\n"
     ]
    },
    {
     "data": {
      "text/html": [
       "<div>\n",
       "<style scoped>\n",
       "    .dataframe tbody tr th:only-of-type {\n",
       "        vertical-align: middle;\n",
       "    }\n",
       "\n",
       "    .dataframe tbody tr th {\n",
       "        vertical-align: top;\n",
       "    }\n",
       "\n",
       "    .dataframe thead th {\n",
       "        text-align: right;\n",
       "    }\n",
       "</style>\n",
       "<table border=\"1\" class=\"dataframe\">\n",
       "  <thead>\n",
       "    <tr style=\"text-align: right;\">\n",
       "      <th></th>\n",
       "      <th>Sentiment</th>\n",
       "      <th>News Headline</th>\n",
       "    </tr>\n",
       "  </thead>\n",
       "  <tbody>\n",
       "    <tr>\n",
       "      <th>0</th>\n",
       "      <td>neutral</td>\n",
       "      <td>According to Gran , the company has no plans t...</td>\n",
       "    </tr>\n",
       "    <tr>\n",
       "      <th>1</th>\n",
       "      <td>negative</td>\n",
       "      <td>The international electronic industry company ...</td>\n",
       "    </tr>\n",
       "    <tr>\n",
       "      <th>2</th>\n",
       "      <td>positive</td>\n",
       "      <td>According to the company 's updated strategy f...</td>\n",
       "    </tr>\n",
       "  </tbody>\n",
       "</table>\n",
       "</div>"
      ],
      "text/plain": [
       "  Sentiment                                      News Headline\n",
       "0   neutral  According to Gran , the company has no plans t...\n",
       "1  negative  The international electronic industry company ...\n",
       "2  positive  According to the company 's updated strategy f..."
      ]
     },
     "execution_count": 5,
     "metadata": {},
     "output_type": "execute_result"
    }
   ],
   "source": [
    "# Load test dataset\n",
    "test_data_path = os.path.join(RAW_DATA_PATH, \"test_data.csv\")\n",
    "test_df = pd.read_csv(test_data_path)\n",
    "\n",
    "# Use only a sample for testing\n",
    "sample_size = min(100, len(test_df))\n",
    "test_sample = test_df.sample(sample_size, random_state=42)\n",
    "print(f\"Loaded test data with {len(test_sample)} headlines\")\n",
    "\n",
    "# Show a few examples\n",
    "test_sample.head(3)"
   ]
  },
  {
   "cell_type": "code",
   "execution_count": 6,
   "metadata": {},
   "outputs": [
    {
     "name": "stdout",
     "output_type": "stream",
     "text": [
      "Using most recent model: d:\\Documents\\CODE\\HCMUT\\Machine Learning Assignment\\models\\experiments\\neural_network_20250303_135452.pkl\n",
      "\u001b[1m1/1\u001b[0m \u001b[32m━━━━━━━━━━━━━━━━━━━━\u001b[0m\u001b[37m\u001b[0m \u001b[1m1s\u001b[0m 530ms/step\n",
      "Predictions completed\n"
     ]
    },
    {
     "data": {
      "text/html": [
       "<div>\n",
       "<style scoped>\n",
       "    .dataframe tbody tr th:only-of-type {\n",
       "        vertical-align: middle;\n",
       "    }\n",
       "\n",
       "    .dataframe tbody tr th {\n",
       "        vertical-align: top;\n",
       "    }\n",
       "\n",
       "    .dataframe thead th {\n",
       "        text-align: right;\n",
       "    }\n",
       "</style>\n",
       "<table border=\"1\" class=\"dataframe\">\n",
       "  <thead>\n",
       "    <tr style=\"text-align: right;\">\n",
       "      <th></th>\n",
       "      <th>Actual Sentiment</th>\n",
       "      <th>News Headline</th>\n",
       "      <th>Predicted Sentiment</th>\n",
       "      <th>Confidence</th>\n",
       "    </tr>\n",
       "  </thead>\n",
       "  <tbody>\n",
       "    <tr>\n",
       "      <th>0</th>\n",
       "      <td>neutral</td>\n",
       "      <td>According to Gran , the company has no plans t...</td>\n",
       "      <td>neutral</td>\n",
       "      <td>0.69</td>\n",
       "    </tr>\n",
       "    <tr>\n",
       "      <th>1</th>\n",
       "      <td>negative</td>\n",
       "      <td>The international electronic industry company ...</td>\n",
       "      <td>positive</td>\n",
       "      <td>0.51</td>\n",
       "    </tr>\n",
       "    <tr>\n",
       "      <th>2</th>\n",
       "      <td>positive</td>\n",
       "      <td>According to the company 's updated strategy f...</td>\n",
       "      <td>neutral</td>\n",
       "      <td>0.61</td>\n",
       "    </tr>\n",
       "  </tbody>\n",
       "</table>\n",
       "</div>"
      ],
      "text/plain": [
       "  Actual Sentiment                                      News Headline  \\\n",
       "0          neutral  According to Gran , the company has no plans t...   \n",
       "1         negative  The international electronic industry company ...   \n",
       "2         positive  According to the company 's updated strategy f...   \n",
       "\n",
       "  Predicted Sentiment  Confidence  \n",
       "0             neutral        0.69  \n",
       "1            positive        0.51  \n",
       "2             neutral        0.61  "
      ]
     },
     "execution_count": 6,
     "metadata": {},
     "output_type": "execute_result"
    }
   ],
   "source": [
    "# Make predictions\n",
    "headlines = test_sample['News Headline'].tolist()\n",
    "results = predictor.predict_neural_network(headlines)\n",
    "\n",
    "# Create a dataframe with predictions\n",
    "if results:\n",
    "    predicted_sentiments = [r['sentiment'] for r in results]\n",
    "    confidence_scores = [round(r['confidence'], 2) for r in results]\n",
    "    \n",
    "    # Add predictions to the dataframe\n",
    "    results_df = test_sample.copy()\n",
    "    results_df = results_df.rename(columns={'Sentiment': 'Actual Sentiment'})\n",
    "    results_df['Predicted Sentiment'] = predicted_sentiments\n",
    "    results_df['Confidence'] = confidence_scores\n",
    "    \n",
    "    print(f\"Predictions completed\")\n",
    "else:\n",
    "    print(\"Prediction failed or no model found.\")\n",
    "\n",
    "# Show some results\n",
    "results_df.head(3)"
   ]
  },
  {
   "cell_type": "markdown",
   "metadata": {},
   "source": [
    "## 5. Model Evaluation\n",
    "\n",
    "Let's evaluate the model's performance on the test dataset."
   ]
  },
  {
   "cell_type": "code",
   "execution_count": 7,
   "metadata": {},
   "outputs": [
    {
     "name": "stdout",
     "output_type": "stream",
     "text": [
      "              precision    recall  f1-score   support\n",
      "\n",
      "    negative       0.00      0.00      0.00         1\n",
      "     neutral       0.50      1.00      0.67         1\n",
      "    positive       0.00      0.00      0.00         1\n",
      "\n",
      "    accuracy                           0.33         3\n",
      "   macro avg       0.17      0.33      0.22         3\n",
      "weighted avg       0.17      0.33      0.22         3\n",
      "\n"
     ]
    },
    {
     "name": "stderr",
     "output_type": "stream",
     "text": [
      "d:\\Documents\\CODE\\HCMUT\\Machine Learning Assignment\\venv\\Lib\\site-packages\\sklearn\\metrics\\_classification.py:1565: UndefinedMetricWarning: Precision is ill-defined and being set to 0.0 in labels with no predicted samples. Use `zero_division` parameter to control this behavior.\n",
      "  _warn_prf(average, modifier, f\"{metric.capitalize()} is\", len(result))\n",
      "d:\\Documents\\CODE\\HCMUT\\Machine Learning Assignment\\venv\\Lib\\site-packages\\sklearn\\metrics\\_classification.py:1565: UndefinedMetricWarning: Precision is ill-defined and being set to 0.0 in labels with no predicted samples. Use `zero_division` parameter to control this behavior.\n",
      "  _warn_prf(average, modifier, f\"{metric.capitalize()} is\", len(result))\n",
      "d:\\Documents\\CODE\\HCMUT\\Machine Learning Assignment\\venv\\Lib\\site-packages\\sklearn\\metrics\\_classification.py:1565: UndefinedMetricWarning: Precision is ill-defined and being set to 0.0 in labels with no predicted samples. Use `zero_division` parameter to control this behavior.\n",
      "  _warn_prf(average, modifier, f\"{metric.capitalize()} is\", len(result))\n"
     ]
    }
   ],
   "source": [
    "from sklearn.metrics import classification_report, confusion_matrix\n",
    "\n",
    "# Calculate metrics\n",
    "y_true = results_df['Actual Sentiment']\n",
    "y_pred = results_df['Predicted Sentiment']\n",
    "\n",
    "# Print classification report\n",
    "print(classification_report(y_true, y_pred))"
   ]
  }
 ],
 "metadata": {
  "kernelspec": {
   "display_name": "venv",
   "language": "python",
   "name": "python3"
  },
  "language_info": {
   "codemirror_mode": {
    "name": "ipython",
    "version": 3
   },
   "file_extension": ".py",
   "mimetype": "text/x-python",
   "name": "python",
   "nbconvert_exporter": "python",
   "pygments_lexer": "ipython3",
   "version": "3.12.9"
  }
 },
 "nbformat": 4,
 "nbformat_minor": 2
}
