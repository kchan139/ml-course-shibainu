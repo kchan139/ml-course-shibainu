{
 "cells": [
  {
   "cell_type": "markdown",
   "id": "242f61b2",
   "metadata": {},
   "source": [
    "# Hyperparameter Tuning for Sentiment Analysis with SVM\n",
    "\n",
    "This notebook demonstrates hyperparameter optimization for a Linear SVM model to perform sentiment analysis. We'll track experiments with MLflow and find the best model configuration."
   ]
  },
  {
   "cell_type": "markdown",
   "id": "56c417ef",
   "metadata": {},
   "source": [
    "## Setup and Imports"
   ]
  },
  {
   "cell_type": "code",
   "execution_count": 2,
   "id": "c523af8a",
   "metadata": {},
   "outputs": [],
   "source": [
    "import numpy as np\n",
    "import mlflow\n",
    "import pandas as pd\n",
    "\n",
    "import sys\n",
    "sys.path.append('..')\n",
    "from src.models.train_models import ModelTrainer\n",
    "from src.models.predict_models import ModelPredictor\n",
    "from src.config import *"
   ]
  },
  {
   "cell_type": "markdown",
   "id": "769a15d5",
   "metadata": {},
   "source": [
    "## Define Hyperparameter Grid\n",
    "\n",
    "We'll create a grid of hyperparameters to search through:\n",
    "\n",
    "- **C values**: Regularization strength (inverse) - smaller values specify stronger regularization\n",
    "- **Penalty types**: The norm used in penalization (L1 or L2)\n",
    "- **Max iterations**: Maximum number of iterations for the solver"
   ]
  },
  {
   "cell_type": "code",
   "execution_count": 3,
   "id": "516d565f",
   "metadata": {},
   "outputs": [],
   "source": [
    "# Define hyperparameter grids to search\n",
    "C_values = [0.1, 0.5, 1.0, 2.0, 5.0]\n",
    "penalty_values = ['l1', 'l2']\n",
    "max_iter_values = [100, 500, 1000]"
   ]
  },
  {
   "cell_type": "markdown",
   "id": "a1378bcf",
   "metadata": {},
   "source": [
    "## Hyperparameter Grid Search\n",
    "\n",
    "Now we'll run through all valid combinations of hyperparameters and track the results using MLflow."
   ]
  },
  {
   "cell_type": "code",
   "execution_count": 4,
   "id": "f72d55ab",
   "metadata": {},
   "outputs": [
    {
     "name": "stdout",
     "output_type": "stream",
     "text": [
      "Training with C=0.1, Penalty=l1, Max iterations=100\n",
      "Using active MLflow experiment 'sentiment_classification' with ID 360311621043028179\n"
     ]
    },
    {
     "name": "stderr",
     "output_type": "stream",
     "text": [
      "d:\\Tailieudh\\ML\\Project\\ml-course-shibainu\\venv\\Lib\\site-packages\\sklearn\\svm\\_base.py:1249: ConvergenceWarning: Liblinear failed to converge, increase the number of iterations.\n",
      "  warnings.warn(\n",
      "d:\\Tailieudh\\ML\\Project\\ml-course-shibainu\\venv\\Lib\\site-packages\\tqdm\\auto.py:21: TqdmWarning: IProgress not found. Please update jupyter and ipywidgets. See https://ipywidgets.readthedocs.io/en/stable/user_install.html\n",
      "  from .autonotebook import tqdm as notebook_tqdm\n",
      "Downloading artifacts: 100%|██████████| 7/7 [00:00<00:00, 3501.09it/s]d:\\Tailieudh\\ML\\Project\\ml-course-shibainu\\venv\\Lib\\site-packages\\tqdm\\auto.py:21: TqdmWarning: IProgress not found. Please update jupyter and ipywidgets. See https://ipywidgets.readthedocs.io/en/stable/user_install.html\n",
      "  from .autonotebook import tqdm as notebook_tqdm\n",
      "Downloading artifacts: 100%|██████████| 7/7 [00:00<00:00, 3501.09it/s]\n",
      "\n"
     ]
    },
    {
     "name": "stdout",
     "output_type": "stream",
     "text": [
      "Training with C=0.1, Penalty=l1, Max iterations=500\n",
      "Using active MLflow experiment 'sentiment_classification' with ID 360311621043028179\n"
     ]
    },
    {
     "name": "stderr",
     "output_type": "stream",
     "text": [
      "Downloading artifacts: 100%|██████████| 7/7 [00:00<00:00, 3501.51it/s]\n",
      "\n"
     ]
    },
    {
     "name": "stdout",
     "output_type": "stream",
     "text": [
      "Training with C=0.1, Penalty=l1, Max iterations=1000\n",
      "Using active MLflow experiment 'sentiment_classification' with ID 360311621043028179\n"
     ]
    },
    {
     "name": "stderr",
     "output_type": "stream",
     "text": [
      "Downloading artifacts: 100%|██████████| 7/7 [00:00<00:00, 3499.84it/s]\n",
      "\n"
     ]
    },
    {
     "name": "stdout",
     "output_type": "stream",
     "text": [
      "Training with C=0.1, Penalty=l2, Max iterations=100\n",
      "Using active MLflow experiment 'sentiment_classification' with ID 360311621043028179\n"
     ]
    },
    {
     "name": "stderr",
     "output_type": "stream",
     "text": [
      "Downloading artifacts: 100%|██████████| 7/7 [00:00<00:00, 3491.93it/s]\n",
      "\n"
     ]
    },
    {
     "name": "stdout",
     "output_type": "stream",
     "text": [
      "Training with C=0.1, Penalty=l2, Max iterations=500\n",
      "Using active MLflow experiment 'sentiment_classification' with ID 360311621043028179\n"
     ]
    },
    {
     "name": "stderr",
     "output_type": "stream",
     "text": [
      "Downloading artifacts: 100%|██████████| 7/7 [00:00<00:00, 3491.51it/s]\n",
      "\n"
     ]
    },
    {
     "name": "stdout",
     "output_type": "stream",
     "text": [
      "Training with C=0.1, Penalty=l2, Max iterations=1000\n",
      "Using active MLflow experiment 'sentiment_classification' with ID 360311621043028179\n"
     ]
    },
    {
     "name": "stderr",
     "output_type": "stream",
     "text": [
      "Downloading artifacts: 100%|██████████| 7/7 [00:00<00:00, 2298.61it/s]\n",
      "\n"
     ]
    },
    {
     "name": "stdout",
     "output_type": "stream",
     "text": [
      "Training with C=0.5, Penalty=l1, Max iterations=100\n",
      "Using active MLflow experiment 'sentiment_classification' with ID 360311621043028179\n"
     ]
    },
    {
     "name": "stderr",
     "output_type": "stream",
     "text": [
      "d:\\Tailieudh\\ML\\Project\\ml-course-shibainu\\venv\\Lib\\site-packages\\sklearn\\svm\\_base.py:1249: ConvergenceWarning: Liblinear failed to converge, increase the number of iterations.\n",
      "  warnings.warn(\n",
      "Downloading artifacts: 100%|██████████| 7/7 [00:00<00:00, 2789.03it/s]\n",
      "\n"
     ]
    },
    {
     "name": "stdout",
     "output_type": "stream",
     "text": [
      "Training with C=0.5, Penalty=l1, Max iterations=500\n",
      "Using active MLflow experiment 'sentiment_classification' with ID 360311621043028179\n"
     ]
    },
    {
     "name": "stderr",
     "output_type": "stream",
     "text": [
      "Downloading artifacts: 100%|██████████| 7/7 [00:00<00:00, 3500.25it/s]\n",
      "\n"
     ]
    },
    {
     "name": "stdout",
     "output_type": "stream",
     "text": [
      "Training with C=0.5, Penalty=l1, Max iterations=1000\n",
      "Using active MLflow experiment 'sentiment_classification' with ID 360311621043028179\n"
     ]
    },
    {
     "name": "stderr",
     "output_type": "stream",
     "text": [
      "Downloading artifacts: 100%|██████████| 7/7 [00:00<00:00, 2334.06it/s]\n",
      "\n"
     ]
    },
    {
     "name": "stdout",
     "output_type": "stream",
     "text": [
      "Training with C=0.5, Penalty=l2, Max iterations=100\n",
      "Using active MLflow experiment 'sentiment_classification' with ID 360311621043028179\n"
     ]
    },
    {
     "name": "stderr",
     "output_type": "stream",
     "text": [
      "Downloading artifacts: 100%|██████████| 7/7 [00:00<00:00, 3499.42it/s]\n",
      "\n"
     ]
    },
    {
     "name": "stdout",
     "output_type": "stream",
     "text": [
      "Training with C=0.5, Penalty=l2, Max iterations=500\n",
      "Using active MLflow experiment 'sentiment_classification' with ID 360311621043028179\n"
     ]
    },
    {
     "name": "stderr",
     "output_type": "stream",
     "text": [
      "Downloading artifacts: 100%|██████████| 7/7 [00:00<00:00, 4655.90it/s]\n",
      "\n"
     ]
    },
    {
     "name": "stdout",
     "output_type": "stream",
     "text": [
      "Training with C=0.5, Penalty=l2, Max iterations=1000\n",
      "Using active MLflow experiment 'sentiment_classification' with ID 360311621043028179\n"
     ]
    },
    {
     "name": "stderr",
     "output_type": "stream",
     "text": [
      "Downloading artifacts: 100%|██████████| 7/7 [00:00<00:00, 6334.44it/s]\n",
      "\n"
     ]
    },
    {
     "name": "stdout",
     "output_type": "stream",
     "text": [
      "Training with C=1.0, Penalty=l1, Max iterations=100\n",
      "Using active MLflow experiment 'sentiment_classification' with ID 360311621043028179\n"
     ]
    },
    {
     "name": "stderr",
     "output_type": "stream",
     "text": [
      "d:\\Tailieudh\\ML\\Project\\ml-course-shibainu\\venv\\Lib\\site-packages\\sklearn\\svm\\_base.py:1249: ConvergenceWarning: Liblinear failed to converge, increase the number of iterations.\n",
      "  warnings.warn(\n",
      "Downloading artifacts: 100%|██████████| 7/7 [00:00<00:00, 3499.42it/s]\n",
      "\n"
     ]
    },
    {
     "name": "stdout",
     "output_type": "stream",
     "text": [
      "Training with C=1.0, Penalty=l1, Max iterations=500\n",
      "Using active MLflow experiment 'sentiment_classification' with ID 360311621043028179\n"
     ]
    },
    {
     "name": "stderr",
     "output_type": "stream",
     "text": [
      "Downloading artifacts: 100%|██████████| 7/7 [00:00<00:00, 4653.69it/s]\n",
      "\n"
     ]
    },
    {
     "name": "stdout",
     "output_type": "stream",
     "text": [
      "Training with C=1.0, Penalty=l1, Max iterations=1000\n",
      "Using active MLflow experiment 'sentiment_classification' with ID 360311621043028179\n"
     ]
    },
    {
     "name": "stderr",
     "output_type": "stream",
     "text": [
      "Downloading artifacts: 100%|██████████| 7/7 [00:00<00:00, 6318.08it/s]\n",
      "\n"
     ]
    },
    {
     "name": "stdout",
     "output_type": "stream",
     "text": [
      "Training with C=1.0, Penalty=l2, Max iterations=100\n",
      "Using active MLflow experiment 'sentiment_classification' with ID 360311621043028179\n"
     ]
    },
    {
     "name": "stderr",
     "output_type": "stream",
     "text": [
      "Downloading artifacts: 100%|██████████| 7/7 [00:00<00:00, 3500.25it/s]\n",
      "\n"
     ]
    },
    {
     "name": "stdout",
     "output_type": "stream",
     "text": [
      "Training with C=1.0, Penalty=l2, Max iterations=500\n",
      "Using active MLflow experiment 'sentiment_classification' with ID 360311621043028179\n"
     ]
    },
    {
     "name": "stderr",
     "output_type": "stream",
     "text": [
      "Downloading artifacts: 100%|██████████| 7/7 [00:00<00:00, 2793.28it/s]\n",
      "\n"
     ]
    },
    {
     "name": "stdout",
     "output_type": "stream",
     "text": [
      "Training with C=1.0, Penalty=l2, Max iterations=1000\n",
      "Using active MLflow experiment 'sentiment_classification' with ID 360311621043028179\n"
     ]
    },
    {
     "name": "stderr",
     "output_type": "stream",
     "text": [
      "Downloading artifacts: 100%|██████████| 7/7 [00:00<00:00, 2790.36it/s]\n",
      "\n"
     ]
    },
    {
     "name": "stdout",
     "output_type": "stream",
     "text": [
      "Training with C=2.0, Penalty=l1, Max iterations=100\n",
      "Using active MLflow experiment 'sentiment_classification' with ID 360311621043028179\n"
     ]
    },
    {
     "name": "stderr",
     "output_type": "stream",
     "text": [
      "d:\\Tailieudh\\ML\\Project\\ml-course-shibainu\\venv\\Lib\\site-packages\\sklearn\\svm\\_base.py:1249: ConvergenceWarning: Liblinear failed to converge, increase the number of iterations.\n",
      "  warnings.warn(\n",
      "Downloading artifacts: 100%|██████████| 7/7 [00:00<00:00, 3501.09it/s]\n",
      "\n"
     ]
    },
    {
     "name": "stdout",
     "output_type": "stream",
     "text": [
      "Training with C=2.0, Penalty=l1, Max iterations=500\n",
      "Using active MLflow experiment 'sentiment_classification' with ID 360311621043028179\n"
     ]
    },
    {
     "name": "stderr",
     "output_type": "stream",
     "text": [
      "Downloading artifacts: 100%|██████████| 7/7 [00:00<00:00, 3500.25it/s]\n",
      "\n"
     ]
    },
    {
     "name": "stdout",
     "output_type": "stream",
     "text": [
      "Training with C=2.0, Penalty=l1, Max iterations=1000\n",
      "Using active MLflow experiment 'sentiment_classification' with ID 360311621043028179\n"
     ]
    },
    {
     "name": "stderr",
     "output_type": "stream",
     "text": [
      "Downloading artifacts: 100%|██████████| 7/7 [00:00<00:00, 2788.50it/s]\n",
      "\n"
     ]
    },
    {
     "name": "stdout",
     "output_type": "stream",
     "text": [
      "Training with C=2.0, Penalty=l2, Max iterations=100\n",
      "Using active MLflow experiment 'sentiment_classification' with ID 360311621043028179\n"
     ]
    },
    {
     "name": "stderr",
     "output_type": "stream",
     "text": [
      "Downloading artifacts: 100%|██████████| 7/7 [00:00<00:00, 6769.69it/s]\n",
      "\n"
     ]
    },
    {
     "name": "stdout",
     "output_type": "stream",
     "text": [
      "Training with C=2.0, Penalty=l2, Max iterations=500\n",
      "Using active MLflow experiment 'sentiment_classification' with ID 360311621043028179\n"
     ]
    },
    {
     "name": "stderr",
     "output_type": "stream",
     "text": [
      "Downloading artifacts: 100%|██████████| 7/7 [00:00<00:00, 2791.42it/s]\n",
      "\n"
     ]
    },
    {
     "name": "stdout",
     "output_type": "stream",
     "text": [
      "Training with C=2.0, Penalty=l2, Max iterations=1000\n",
      "Using active MLflow experiment 'sentiment_classification' with ID 360311621043028179\n"
     ]
    },
    {
     "name": "stderr",
     "output_type": "stream",
     "text": [
      "Downloading artifacts: 100%|██████████| 7/7 [00:00<00:00, 4575.37it/s]\n",
      "\n"
     ]
    },
    {
     "name": "stdout",
     "output_type": "stream",
     "text": [
      "Training with C=5.0, Penalty=l1, Max iterations=100\n",
      "Using active MLflow experiment 'sentiment_classification' with ID 360311621043028179\n"
     ]
    },
    {
     "name": "stderr",
     "output_type": "stream",
     "text": [
      "d:\\Tailieudh\\ML\\Project\\ml-course-shibainu\\venv\\Lib\\site-packages\\sklearn\\svm\\_base.py:1249: ConvergenceWarning: Liblinear failed to converge, increase the number of iterations.\n",
      "  warnings.warn(\n",
      "Downloading artifacts: 100%|██████████| 7/7 [00:00<00:00, 3504.01it/s]\n",
      "\n"
     ]
    },
    {
     "name": "stdout",
     "output_type": "stream",
     "text": [
      "Training with C=5.0, Penalty=l1, Max iterations=500\n",
      "Using active MLflow experiment 'sentiment_classification' with ID 360311621043028179\n"
     ]
    },
    {
     "name": "stderr",
     "output_type": "stream",
     "text": [
      "d:\\Tailieudh\\ML\\Project\\ml-course-shibainu\\venv\\Lib\\site-packages\\sklearn\\svm\\_base.py:1249: ConvergenceWarning: Liblinear failed to converge, increase the number of iterations.\n",
      "  warnings.warn(\n",
      "Downloading artifacts: 100%|██████████| 7/7 [00:00<00:00, 3211.92it/s]\n",
      "\n"
     ]
    },
    {
     "name": "stdout",
     "output_type": "stream",
     "text": [
      "Training with C=5.0, Penalty=l1, Max iterations=1000\n",
      "Using active MLflow experiment 'sentiment_classification' with ID 360311621043028179\n"
     ]
    },
    {
     "name": "stderr",
     "output_type": "stream",
     "text": [
      "d:\\Tailieudh\\ML\\Project\\ml-course-shibainu\\venv\\Lib\\site-packages\\sklearn\\svm\\_base.py:1249: ConvergenceWarning: Liblinear failed to converge, increase the number of iterations.\n",
      "  warnings.warn(\n",
      "Downloading artifacts: 100%|██████████| 7/7 [00:00<00:00, 6988.84it/s]\n",
      "\n"
     ]
    },
    {
     "name": "stdout",
     "output_type": "stream",
     "text": [
      "Training with C=5.0, Penalty=l2, Max iterations=100\n",
      "Using active MLflow experiment 'sentiment_classification' with ID 360311621043028179\n"
     ]
    },
    {
     "name": "stderr",
     "output_type": "stream",
     "text": [
      "d:\\Tailieudh\\ML\\Project\\ml-course-shibainu\\venv\\Lib\\site-packages\\sklearn\\svm\\_base.py:1249: ConvergenceWarning: Liblinear failed to converge, increase the number of iterations.\n",
      "  warnings.warn(\n",
      "Downloading artifacts: 100%|██████████| 7/7 [00:00<00:00, 3500.25it/s]\n",
      "\n"
     ]
    },
    {
     "name": "stdout",
     "output_type": "stream",
     "text": [
      "Training with C=5.0, Penalty=l2, Max iterations=500\n",
      "Using active MLflow experiment 'sentiment_classification' with ID 360311621043028179\n"
     ]
    },
    {
     "name": "stderr",
     "output_type": "stream",
     "text": [
      "Downloading artifacts: 100%|██████████| 7/7 [00:00<00:00, 7000.51it/s]\n",
      "\n"
     ]
    },
    {
     "name": "stdout",
     "output_type": "stream",
     "text": [
      "Training with C=5.0, Penalty=l2, Max iterations=1000\n",
      "Using active MLflow experiment 'sentiment_classification' with ID 360311621043028179\n"
     ]
    },
    {
     "name": "stderr",
     "output_type": "stream",
     "text": [
      "Downloading artifacts: 100%|██████████| 7/7 [00:00<00:00, 3498.59it/s]\n",
      "\n"
     ]
    }
   ],
   "source": [
    "results = []\n",
    "\n",
    "for c in C_values:\n",
    "    for penalty in penalty_values:\n",
    "        for max_iter in max_iter_values:\n",
    "            print(f\"Training with C={c}, Penalty={penalty}, Max iterations={max_iter}\")\n",
    "            try:\n",
    "                run_id = ModelTrainer.svm(C=c, penalty=penalty, max_iter=max_iter)\n",
    "\n",
    "                with mlflow.start_run(run_id=run_id):\n",
    "                    run = mlflow.get_run(run_id)\n",
    "                    metrics = run.data.metrics\n",
    "                    params = run.data.params\n",
    "\n",
    "                    results.append({\n",
    "                        'run_id': run_id,\n",
    "                        'C': params.get('C'),\n",
    "                        'penalty': params.get('penalty'),\n",
    "                        'max_iter': params.get('max_iter'),\n",
    "                        'train_accuracy': metrics.get('train_accuracy'),\n",
    "                        'test_accuracy': metrics.get('test_accuracy'),\n",
    "                        'test_precision': metrics.get('test_precision'),\n",
    "                        'test_recall': metrics.get('test_recall'),\n",
    "                        'test_f1': metrics.get('test_f1'),\n",
    "                    })\n",
    "            except Exception as e:\n",
    "                print(f\"Error training with C={c}, Penalty={penalty}, Max iterations={max_iter}: {e}\")\n",
    "                continue"
   ]
  },
  {
   "cell_type": "markdown",
   "id": "18e1242c",
   "metadata": {},
   "source": [
    "## Print All Model Test Accuracies\n",
    "\n",
    "Let's display the test accuracies for all models, sorted by performance."
   ]
  },
  {
   "cell_type": "code",
   "execution_count": 5,
   "id": "72058987",
   "metadata": {},
   "outputs": [
    {
     "name": "stdout",
     "output_type": "stream",
     "text": [
      "\n",
      "All Models Test Accuracies (sorted):\n",
      "\n",
      "  C penalty max_iter  test_accuracy\n",
      "0.5      l2      500       0.880739\n",
      "0.5      l2      100       0.880739\n",
      "0.5      l2     1000       0.880739\n",
      "1.0      l2     1000       0.879741\n",
      "1.0      l2      500       0.879741\n",
      "1.0      l2      100       0.879741\n",
      "0.5      l1      100       0.876747\n",
      "2.0      l2      100       0.875499\n",
      "2.0      l2      500       0.875499\n",
      "2.0      l2     1000       0.875499\n",
      "0.5      l1      500       0.875250\n",
      "0.5      l1     1000       0.875250\n",
      "1.0      l1      100       0.871507\n",
      "1.0      l1      500       0.871008\n",
      "1.0      l1     1000       0.871008\n",
      "0.1      l2      100       0.870509\n",
      "0.1      l2      500       0.870509\n",
      "0.1      l2     1000       0.870509\n",
      "2.0      l1     1000       0.868263\n",
      "2.0      l1      500       0.868263\n",
      "2.0      l1      100       0.864521\n",
      "5.0      l2      500       0.862275\n",
      "5.0      l2     1000       0.862275\n",
      "5.0      l2      100       0.862275\n",
      "5.0      l1      500       0.854790\n",
      "5.0      l1      100       0.854790\n",
      "5.0      l1     1000       0.852794\n",
      "0.1      l1      100       0.848303\n",
      "0.1      l1      500       0.847555\n",
      "0.1      l1     1000       0.847555\n"
     ]
    },
    {
     "data": {
      "image/png": "[encoded data removed]",
      "text/plain": [
       "<Figure size 1200x600 with 1 Axes>"
      ]
     },
     "metadata": {},
     "output_type": "display_data"
    }
   ],
   "source": [
    "# Create dataframe from results\n",
    "results_df = pd.DataFrame(results)\n",
    "\n",
    "# Print all model test accuracies, sorted from best to worst\n",
    "if not results_df.empty and 'test_accuracy' in results_df.columns:\n",
    "    sorted_results = results_df.sort_values('test_accuracy', ascending=False)\n",
    "    \n",
    "    print(\"\\nAll Models Test Accuracies (sorted):\\n\")\n",
    "    print(sorted_results[['C', 'penalty', 'max_iter', 'test_accuracy']].to_string(index=False))\n",
    "    \n",
    "    # Create a combined label for each configuration\n",
    "    sorted_results['config'] = sorted_results.apply(\n",
    "        lambda row: f\"C={row['C']}, {row['penalty']}, iter={row['max_iter']}\", axis=1)\n",
    "    \n",
    "    # Plot with the combined label\n",
    "    sorted_results.plot(\n",
    "        kind='bar', x='config', y='test_accuracy', figsize=(12, 6),\n",
    "        title='Test Accuracy by Hyperparameter Configuration'\n",
    "    )\n",
    "else:\n",
    "    print(\"\\nNo successful model runs found with test_accuracy metric.\")"
   ]
  },
  {
   "cell_type": "markdown",
   "id": "0e457dcc",
   "metadata": {},
   "source": [
    "## Analyzing Results and Finding the Best Model"
   ]
  },
  {
   "cell_type": "code",
   "execution_count": 6,
   "id": "8558b55c",
   "metadata": {},
   "outputs": [
    {
     "name": "stdout",
     "output_type": "stream",
     "text": [
      "\n",
      "Best model:\n",
      "C: 0.5, Penalty: l2, Max iterations: 100\n",
      "Test Accuracy: 0.8807\n",
      "Test F1: 0.8759\n",
      "Test Precision: 0.8762\n",
      "Test Recall: 0.8807\n",
      "Train Accuracy: 0.9505\n",
      "Run ID: 4d4fbef223a94b16b4275a40a565690c\n"
     ]
    }
   ],
   "source": [
    "# Find the best model\n",
    "if not results_df.empty and 'test_accuracy' in results_df.columns:\n",
    "    best_model = results_df.loc[results_df['test_accuracy'].idxmax()]\n",
    "    best_run_id = best_model['run_id']\n",
    "    \n",
    "    print(\"\\nBest model:\")\n",
    "    print(f\"C: {best_model['C']}, Penalty: {best_model['penalty']}, Max iterations: {best_model['max_iter']}\")\n",
    "    \n",
    "    # Print test metrics\n",
    "    print(f\"Test Accuracy: {best_model['test_accuracy']:.4f}\")\n",
    "    \n",
    "    # Check and print other test metrics if they exist\n",
    "    for metric in ['test_f1', 'test_precision', 'test_recall']:\n",
    "        if metric in best_model:\n",
    "            print(f\"{metric.replace('_', ' ').title()}: {best_model[metric]:.4f}\")\n",
    "    \n",
    "    # Print train metrics\n",
    "    if 'train_accuracy' in best_model:\n",
    "        print(f\"Train Accuracy: {best_model['train_accuracy']:.4f}\")\n",
    "    \n",
    "    # Check and print other train metrics if they exist\n",
    "    for metric in ['train_f1', 'train_precision', 'train_recall']:\n",
    "        if metric in best_model:\n",
    "            print(f\"{metric.replace('_', ' ').title()}: {best_model[metric]:.4f}\")\n",
    "    \n",
    "    print(f\"Run ID: {best_run_id}\")\n",
    "else:\n",
    "    print(\"\\nNo successful model runs found with test_accuracy metric.\")\n",
    "    best_run_id = None"
   ]
  },
  {
   "cell_type": "markdown",
   "id": "36f5e10a",
   "metadata": {},
   "source": [
    "## Making Predictions with the Best Model"
   ]
  },
  {
   "cell_type": "code",
   "execution_count": 7,
   "id": "9cc97e40",
   "metadata": {},
   "outputs": [
    {
     "name": "stdout",
     "output_type": "stream",
     "text": [
      "\n",
      "Predictions with Best Model (Run ID: 4d4fbef2...):\n",
      "\n",
      "'This product works great!' -> Positive\n",
      "'Terrible experience...' -> Negative\n"
     ]
    }
   ],
   "source": [
    "if best_run_id is not None:\n",
    "    # Prediction with the best model found\n",
    "    texts = np.array([\"This product works great!\", \"Terrible experience...\"])\n",
    "    predictions = ModelPredictor.predict(best_run_id, texts)\n",
    "\n",
    "    print(f\"\\nPredictions with Best Model (Run ID: {best_run_id[:8]}...):\\n\")\n",
    "    for text, pred in zip(texts, predictions):\n",
    "        sentiment = \"Positive\" if pred == 1 else \"Negative\"\n",
    "        print(f\"'{text}' -> {sentiment}\")"
   ]
  }
 ],
 "metadata": {
  "kernelspec": {
   "display_name": "venv",
   "language": "python",
   "name": "python3"
  },
  "language_info": {
   "codemirror_mode": {
    "name": "ipython",
    "version": 3
   },
   "file_extension": ".py",
   "mimetype": "text/x-python",
   "name": "python",
   "nbconvert_exporter": "python",
   "pygments_lexer": "ipython3",
   "version": "3.12.9"
  }
 },
 "nbformat": 4,
 "nbformat_minor": 5
}
