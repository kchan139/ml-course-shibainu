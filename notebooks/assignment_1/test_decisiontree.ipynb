{
 "cells": [
  {
   "cell_type": "code",
   "execution_count": null,
   "metadata": {},
   "outputs": [],
   "source": [
    "import sys\n",
    "import os\n",
    "import pandas as pd\n",
    "import numpy as np\n",
    "\n",
    "# Append the absolute path of the root directory of the project\n",
    "notebook_path = os.getcwd()\n",
    "project_root = os.path.abspath(os.path.join(notebook_path, '..', '..'))\n",
    "\n",
    "# Add the root directory to sys.path\n",
    "sys.path.append(project_root)\n",
    "\n",
    "from src.data.preprocess import DataPreprocessor\n",
    "from src.models.predict_model import ModelPredictor\n",
    "from src.models.train_model import ModelTrainer\n",
    "from src.config import *"
   ]
  },
  {
   "cell_type": "code",
   "execution_count": null,
   "metadata": {},
   "outputs": [],
   "source": [
    "file_path = TEST_DIR\n",
    "\n",
    "# Read the CSV\n",
    "df = pd.read_csv(file_path)\n",
    "preprocessor = DataPreprocessor(file_path)\n",
    "preprocessor.clean_data()\n",
    "preprocessor.df"
   ]
  },
  {
   "cell_type": "code",
   "execution_count": null,
   "metadata": {},
   "outputs": [],
   "source": [
    "X_train, X_test, Y_train, Y_test = preprocessor.split_data()\n",
    "(X_train_vec, X_test_vec), _ = preprocessor.vectorize_text()"
   ]
  },
  {
   "cell_type": "code",
   "execution_count": null,
   "metadata": {},
   "outputs": [],
   "source": [
    "# Example usage:\n",
    "trainer = ModelTrainer()\n",
    "predictor = ModelPredictor()\n",
    "bayesian_network = trainer.train_decision_tree(X_train_vec, Y_train)\n",
    "#\n",
    "# Now, use the ModelPredictor to make predictions on the test data:\n",
    "predictions = predictor.predict_decision_tree(X_test_vec, trainer)"
   ]
  }
 ],
 "metadata": {
  "kernelspec": {
   "display_name": "venv",
   "language": "python",
   "name": "python3"
  },
  "language_info": {
   "name": "python",
   "version": "3.12.7"
  }
 },
 "nbformat": 4,
 "nbformat_minor": 2
}
