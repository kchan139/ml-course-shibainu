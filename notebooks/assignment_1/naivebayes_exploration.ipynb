{
 "cells": [
  {
   "cell_type": "markdown",
   "metadata": {},
   "source": [
    "# Naive Bayes Model Testing\n",
    "\n",
    "This notebook tests the Naive Bayes model for sentiment prediction on news headlines."
   ]
  },
  {
   "cell_type": "code",
   "execution_count": 1,
   "metadata": {},
   "outputs": [
    {
     "name": "stderr",
     "output_type": "stream",
     "text": [
      "[nltk_data] Downloading package punkt to\n",
      "[nltk_data]     C:\\Users\\Avocado\\AppData\\Roaming\\nltk_data...\n",
      "[nltk_data]   Package punkt is already up-to-date!\n",
      "[nltk_data] Downloading package stopwords to\n",
      "[nltk_data]     C:\\Users\\Avocado\\AppData\\Roaming\\nltk_data...\n",
      "[nltk_data]   Package stopwords is already up-to-date!\n",
      "[nltk_data] Downloading package wordnet to\n",
      "[nltk_data]     C:\\Users\\Avocado\\AppData\\Roaming\\nltk_data...\n",
      "[nltk_data]   Package wordnet is already up-to-date!\n",
      "e:\\học\\Năm 3 Kỳ 2\\Machine learnin\\BTL\\ml-course-shibainu\\venv\\Lib\\site-packages\\tqdm\\auto.py:21: TqdmWarning: IProgress not found. Please update jupyter and ipywidgets. See https://ipywidgets.readthedocs.io/en/stable/user_install.html\n",
      "  from .autonotebook import tqdm as notebook_tqdm\n"
     ]
    }
   ],
   "source": [
    "# Import necessary libraries\n",
    "import sys\n",
    "import os\n",
    "import pandas as pd\n",
    "from pathlib import Path\n",
    "\n",
    "# Add project root to path for imports\n",
    "sys.path.append(os.path.abspath('../..'))\n",
    "\n",
    "# Import project modules\n",
    "from src.models.predict_model import ModelPredictor\n",
    "from src.models.train_model import ModelTrainer\n",
    "from src.data.preprocess import DataPreprocessor\n",
    "from src.config import *"
   ]
  },
  {
   "cell_type": "markdown",
   "metadata": {},
   "source": [
    "## 1. Initialize the Model Predictor\n",
    "\n",
    "We'll initialize the ModelPredictor class that will use our trained Naive Bayes model."
   ]
  },
  {
   "cell_type": "code",
   "execution_count": 2,
   "metadata": {},
   "outputs": [
    {
     "name": "stdout",
     "output_type": "stream",
     "text": [
      "Naive Bayes model found.\n"
     ]
    }
   ],
   "source": [
    "# Check if model exists, otherwise train it\n",
    "model_path = os.path.join(MODEL_DIR, 'naive_bayes_model.pkl')\n",
    "if not os.path.exists(model_path):\n",
    "    print(\"Naive Bayes model not found. Training a new model...\")\n",
    "    # Prepare data\n",
    "    default_path = os.path.join(PROCESSED_DATA_PATH, \"processed_dataset.csv\")\n",
    "    preprocessor = DataPreprocessor(default_path)\n",
    "    preprocessor.clean_data()\n",
    "    preprocessor.split_data()\n",
    "    \n",
    "    # Train the model\n",
    "    trainer = ModelTrainer()\n",
    "    trainer.train_naive_bayes(preprocessor=preprocessor)\n",
    "else:\n",
    "    print(\"Naive Bayes model found.\")\n",
    "\n",
    "# Initialize the predictor\n",
    "predictor = ModelPredictor()"
   ]
  },
  {
   "cell_type": "markdown",
   "metadata": {},
   "source": [
    "## 2. Test Single Headline Prediction\n",
    "\n",
    "Let's test the model on a single headline first to check if everything is working."
   ]
  },
  {
   "cell_type": "code",
   "execution_count": 3,
   "metadata": {},
   "outputs": [
    {
     "name": "stdout",
     "output_type": "stream",
     "text": [
      "Loaded Naive Bayes model from default path: e:\\học\\Năm 3 Kỳ 2\\Machine learnin\\BTL\\ml-course-shibainu\\models\\trained\\naive_bayes_model.pkl\n",
      "\n",
      "Headline: Company profits exceed expectations in Q1 2025\n",
      "Predicted Sentiment: negative\n",
      "Confidence: 0.41\n",
      "\n",
      "All Probabilities:\n",
      "- negative: 0.41\n",
      "- neutral: 0.20\n",
      "- positive: 0.39\n"
     ]
    }
   ],
   "source": [
    "# Test with a single positive headline\n",
    "test_headline = \"Company profits exceed expectations in Q1 2025\"\n",
    "result = predictor.predict_naive_bayes(test_headline)\n",
    "\n",
    "# Display the result\n",
    "if result:\n",
    "    r = result[0]  # Get the first result\n",
    "    print(f\"\\nHeadline: {r['headline']}\")\n",
    "    print(f\"Predicted Sentiment: {r['sentiment']}\")\n",
    "    print(f\"Confidence: {r['confidence']:.2f}\")\n",
    "    \n",
    "    print(\"\\nAll Probabilities:\")\n",
    "    for sentiment, prob in r['probabilities'].items():\n",
    "        print(f\"- {sentiment}: {prob:.2f}\")\n",
    "else:\n",
    "    print(\"Prediction failed or no model found.\")"
   ]
  },
  {
   "cell_type": "markdown",
   "metadata": {},
   "source": [
    "## 3. Test Multiple Headlines\n",
    "\n",
    "Now let's test the model on multiple headlines with different expected sentiments."
   ]
  },
  {
   "cell_type": "code",
   "execution_count": 4,
   "metadata": {},
   "outputs": [
    {
     "name": "stdout",
     "output_type": "stream",
     "text": [
      "Loaded Naive Bayes model from default path: e:\\học\\Năm 3 Kỳ 2\\Machine learnin\\BTL\\ml-course-shibainu\\models\\trained\\naive_bayes_model.pkl\n",
      "Headline: Stock market reaches all-time high as investor confidence grows\n",
      "Predicted Sentiment: neutral (confidence: 0.44)\n",
      "\n",
      "Headline: Major company announces significant layoffs due to economic downturn\n",
      "Predicted Sentiment: neutral (confidence: 0.62)\n",
      "\n",
      "Headline: Global trade continues at steady pace despite mild fluctuations\n",
      "Predicted Sentiment: neutral (confidence: 0.46)\n",
      "\n",
      "Headline: Tech giant releases new product line with innovative features\n",
      "Predicted Sentiment: neutral (confidence: 0.56)\n",
      "\n",
      "Headline: Retail sales decline for third consecutive quarter\n",
      "Predicted Sentiment: positive (confidence: 0.48)\n",
      "\n"
     ]
    }
   ],
   "source": [
    "# Test with multiple headlines\n",
    "test_headlines = [\n",
    "    \"Stock market reaches all-time high as investor confidence grows\",\n",
    "    \"Major company announces significant layoffs due to economic downturn\",\n",
    "    \"Global trade continues at steady pace despite mild fluctuations\",\n",
    "    \"Tech giant releases new product line with innovative features\",\n",
    "    \"Retail sales decline for third consecutive quarter\"\n",
    "]\n",
    "\n",
    "results = predictor.predict_naive_bayes(test_headlines)\n",
    "\n",
    "# Display the results\n",
    "if results:\n",
    "    for r in results:\n",
    "        print(f\"Headline: {r['headline']}\")\n",
    "        print(f\"Predicted Sentiment: {r['sentiment']} (confidence: {r['confidence']:.2f})\")\n",
    "        print()\n",
    "else:\n",
    "    print(\"Prediction failed or no model found.\")"
   ]
  },
  {
   "cell_type": "markdown",
   "metadata": {},
   "source": [
    "## 4. Test on Real Dataset\n",
    "\n",
    "Let's load a sample of the test dataset and predict sentiments."
   ]
  },
  {
   "cell_type": "code",
   "execution_count": 5,
   "metadata": {},
   "outputs": [
    {
     "name": "stdout",
     "output_type": "stream",
     "text": [
      "Loaded test data with 9088 headlines\n"
     ]
    },
    {
     "data": {
      "text/html": [
       "<div>\n",
       "<style scoped>\n",
       "    .dataframe tbody tr th:only-of-type {\n",
       "        vertical-align: middle;\n",
       "    }\n",
       "\n",
       "    .dataframe tbody tr th {\n",
       "        vertical-align: top;\n",
       "    }\n",
       "\n",
       "    .dataframe thead th {\n",
       "        text-align: right;\n",
       "    }\n",
       "</style>\n",
       "<table border=\"1\" class=\"dataframe\">\n",
       "  <thead>\n",
       "    <tr style=\"text-align: right;\">\n",
       "      <th></th>\n",
       "      <th>Sentiment</th>\n",
       "      <th>News Headline</th>\n",
       "    </tr>\n",
       "  </thead>\n",
       "  <tbody>\n",
       "    <tr>\n",
       "      <th>0</th>\n",
       "      <td>positive</td>\n",
       "      <td>The firm has seen substantial revenue growth, ...</td>\n",
       "    </tr>\n",
       "    <tr>\n",
       "      <th>1</th>\n",
       "      <td>positive</td>\n",
       "      <td>The recent partnership is expected to signific...</td>\n",
       "    </tr>\n",
       "    <tr>\n",
       "      <th>2</th>\n",
       "      <td>positive</td>\n",
       "      <td>Increased international sales have propelled t...</td>\n",
       "    </tr>\n",
       "    <tr>\n",
       "      <th>3</th>\n",
       "      <td>positive</td>\n",
       "      <td>The company's proactive customer engagement ha...</td>\n",
       "    </tr>\n",
       "    <tr>\n",
       "      <th>4</th>\n",
       "      <td>positive</td>\n",
       "      <td>A successful product launch has already starte...</td>\n",
       "    </tr>\n",
       "  </tbody>\n",
       "</table>\n",
       "</div>"
      ],
      "text/plain": [
       "  Sentiment                                      News Headline\n",
       "0  positive  The firm has seen substantial revenue growth, ...\n",
       "1  positive  The recent partnership is expected to signific...\n",
       "2  positive  Increased international sales have propelled t...\n",
       "3  positive  The company's proactive customer engagement ha...\n",
       "4  positive  A successful product launch has already starte..."
      ]
     },
     "execution_count": 5,
     "metadata": {},
     "output_type": "execute_result"
    }
   ],
   "source": [
    "# Load test dataset\n",
    "test_data_path = os.path.join(RAW_DATA_PATH, \"all-data.csv\")\n",
    "test_df = pd.read_csv(test_data_path)\n",
    "\n",
    "print(f\"Loaded test data with {len(test_df)} headlines\")\n",
    "\n",
    "# Show a few examples\n",
    "test_df.head(5)"
   ]
  },
  {
   "cell_type": "code",
   "execution_count": 6,
   "metadata": {},
   "outputs": [
    {
     "name": "stdout",
     "output_type": "stream",
     "text": [
      "Loaded Naive Bayes model from default path: e:\\học\\Năm 3 Kỳ 2\\Machine learnin\\BTL\\ml-course-shibainu\\models\\trained\\naive_bayes_model.pkl\n",
      "Predictions completed\n"
     ]
    },
    {
     "data": {
      "text/html": [
       "<div>\n",
       "<style scoped>\n",
       "    .dataframe tbody tr th:only-of-type {\n",
       "        vertical-align: middle;\n",
       "    }\n",
       "\n",
       "    .dataframe tbody tr th {\n",
       "        vertical-align: top;\n",
       "    }\n",
       "\n",
       "    .dataframe thead th {\n",
       "        text-align: right;\n",
       "    }\n",
       "</style>\n",
       "<table border=\"1\" class=\"dataframe\">\n",
       "  <thead>\n",
       "    <tr style=\"text-align: right;\">\n",
       "      <th></th>\n",
       "      <th>Actual Sentiment</th>\n",
       "      <th>News Headline</th>\n",
       "      <th>Predicted Sentiment</th>\n",
       "      <th>Confidence</th>\n",
       "    </tr>\n",
       "  </thead>\n",
       "  <tbody>\n",
       "    <tr>\n",
       "      <th>0</th>\n",
       "      <td>positive</td>\n",
       "      <td>The firm has seen substantial revenue growth, ...</td>\n",
       "      <td>positive</td>\n",
       "      <td>0.56</td>\n",
       "    </tr>\n",
       "    <tr>\n",
       "      <th>1</th>\n",
       "      <td>positive</td>\n",
       "      <td>The recent partnership is expected to signific...</td>\n",
       "      <td>positive</td>\n",
       "      <td>0.69</td>\n",
       "    </tr>\n",
       "    <tr>\n",
       "      <th>2</th>\n",
       "      <td>positive</td>\n",
       "      <td>Increased international sales have propelled t...</td>\n",
       "      <td>positive</td>\n",
       "      <td>0.63</td>\n",
       "    </tr>\n",
       "  </tbody>\n",
       "</table>\n",
       "</div>"
      ],
      "text/plain": [
       "  Actual Sentiment                                      News Headline  \\\n",
       "0         positive  The firm has seen substantial revenue growth, ...   \n",
       "1         positive  The recent partnership is expected to signific...   \n",
       "2         positive  Increased international sales have propelled t...   \n",
       "\n",
       "  Predicted Sentiment  Confidence  \n",
       "0            positive        0.56  \n",
       "1            positive        0.69  \n",
       "2            positive        0.63  "
      ]
     },
     "execution_count": 6,
     "metadata": {},
     "output_type": "execute_result"
    }
   ],
   "source": [
    "# Make predictions\n",
    "headlines = test_df[' News Headline'].tolist()\n",
    "results = predictor.predict_naive_bayes(headlines)\n",
    "\n",
    "# Create a dataframe with predictions\n",
    "if results:\n",
    "    predicted_sentiments = [r['sentiment'] for r in results]\n",
    "    confidence_scores = [round(r['confidence'], 2) for r in results]\n",
    "    \n",
    "    # Add predictions to the dataframe\n",
    "    results_df = test_df.copy()\n",
    "    results_df = results_df.rename(columns={'Sentiment': 'Actual Sentiment'})\n",
    "    results_df['Predicted Sentiment'] = predicted_sentiments\n",
    "    results_df['Confidence'] = confidence_scores\n",
    "    \n",
    "    print(f\"Predictions completed\")\n",
    "else:\n",
    "    print(\"Prediction failed or no model found.\")\n",
    "\n",
    "# Show some results\n",
    "results_df.head(3)"
   ]
  },
  {
   "cell_type": "markdown",
   "metadata": {},
   "source": [
    "## 5. Model Evaluation\n",
    "\n",
    "Let's evaluate the model's performance on the test dataset."
   ]
  },
  {
   "cell_type": "code",
   "execution_count": 7,
   "metadata": {},
   "outputs": [
    {
     "name": "stdout",
     "output_type": "stream",
     "text": [
      "              precision    recall  f1-score   support\n",
      "\n",
      "    negative       0.85      0.18      0.30      3000\n",
      "     neutral       0.46      0.94      0.62      3089\n",
      "    positive       0.76      0.53      0.63      2999\n",
      "\n",
      "    accuracy                           0.56      9088\n",
      "   macro avg       0.69      0.55      0.51      9088\n",
      "weighted avg       0.69      0.56      0.51      9088\n",
      "\n"
     ]
    }
   ],
   "source": [
    "from sklearn.metrics import classification_report\n",
    "\n",
    "y_true = results_df['Actual Sentiment']\n",
    "y_pred = results_df['Predicted Sentiment']\n",
    "\n",
    "print(classification_report(y_true, y_pred))"
   ]
  },
  {
   "cell_type": "code",
   "execution_count": 8,
   "metadata": {},
   "outputs": [
    {
     "data": {
      "text/plain": [
       "True     5047\n",
       "False    4041\n",
       "Name: count, dtype: int64"
      ]
     },
     "execution_count": 8,
     "metadata": {},
     "output_type": "execute_result"
    }
   ],
   "source": [
    "# Count correct vs incorrect predictions\n",
    "true = results_df['Predicted Sentiment'] == results_df['Actual Sentiment']\n",
    "true.value_counts()"
   ]
  },
  {
   "cell_type": "markdown",
   "metadata": {},
   "source": [
    "## 6. Compare with Neural Network\n",
    "\n",
    "Let's compare the Naive Bayes model with the Neural Network model."
   ]
  },
  {
   "cell_type": "code",
   "execution_count": 9,
   "metadata": {},
   "outputs": [
    {
     "name": "stdout",
     "output_type": "stream",
     "text": [
      "Using most recent model: e:\\học\\Năm 3 Kỳ 2\\Machine learnin\\BTL\\ml-course-shibainu\\models\\trained\\rnn_076.pkl\n",
      "\u001b[1m284/284\u001b[0m \u001b[32m━━━━━━━━━━━━━━━━━━━━\u001b[0m\u001b[37m\u001b[0m \u001b[1m1s\u001b[0m 4ms/step\n",
      "Prediction class distribution:\n",
      "negative (class 0): 2549 predictions\n",
      "neutral (class 1): 3758 predictions\n",
      "positive (class 2): 2781 predictions\n",
      "Model Comparison Summary:\n",
      "Naive Bayes Accuracy: 0.5553\n",
      "Neural Network Accuracy: 0.8544\n",
      "Both correct: 4362 headlines\n",
      "Both wrong: 638 headlines\n",
      "Only Naive Bayes correct: 685 headlines\n",
      "Only Neural Network correct: 3403 headlines\n",
      "\n",
      "Examples where models disagree:\n"
     ]
    },
    {
     "data": {
      "text/html": [
       "<div>\n",
       "<style scoped>\n",
       "    .dataframe tbody tr th:only-of-type {\n",
       "        vertical-align: middle;\n",
       "    }\n",
       "\n",
       "    .dataframe tbody tr th {\n",
       "        vertical-align: top;\n",
       "    }\n",
       "\n",
       "    .dataframe thead th {\n",
       "        text-align: right;\n",
       "    }\n",
       "</style>\n",
       "<table border=\"1\" class=\"dataframe\">\n",
       "  <thead>\n",
       "    <tr style=\"text-align: right;\">\n",
       "      <th></th>\n",
       "      <th>Headline</th>\n",
       "      <th>Actual</th>\n",
       "      <th>NB_Prediction</th>\n",
       "      <th>NB_Confidence</th>\n",
       "      <th>NN_Prediction</th>\n",
       "      <th>NN_Confidence</th>\n",
       "      <th>NB_Correct</th>\n",
       "      <th>NN_Correct</th>\n",
       "      <th>Both_Correct</th>\n",
       "      <th>Both_Wrong</th>\n",
       "    </tr>\n",
       "  </thead>\n",
       "  <tbody>\n",
       "    <tr>\n",
       "      <th>7</th>\n",
       "      <td>The recent acquisition has already begun to co...</td>\n",
       "      <td>positive</td>\n",
       "      <td>neutral</td>\n",
       "      <td>0.502478</td>\n",
       "      <td>positive</td>\n",
       "      <td>0.972957</td>\n",
       "      <td>False</td>\n",
       "      <td>True</td>\n",
       "      <td>False</td>\n",
       "      <td>False</td>\n",
       "    </tr>\n",
       "    <tr>\n",
       "      <th>9</th>\n",
       "      <td>The successful introduction of new product lin...</td>\n",
       "      <td>positive</td>\n",
       "      <td>neutral</td>\n",
       "      <td>0.521444</td>\n",
       "      <td>positive</td>\n",
       "      <td>0.992486</td>\n",
       "      <td>False</td>\n",
       "      <td>True</td>\n",
       "      <td>False</td>\n",
       "      <td>False</td>\n",
       "    </tr>\n",
       "    <tr>\n",
       "      <th>14</th>\n",
       "      <td>Strategic collaborations with industry leaders...</td>\n",
       "      <td>positive</td>\n",
       "      <td>neutral</td>\n",
       "      <td>0.672266</td>\n",
       "      <td>positive</td>\n",
       "      <td>0.990287</td>\n",
       "      <td>False</td>\n",
       "      <td>True</td>\n",
       "      <td>False</td>\n",
       "      <td>False</td>\n",
       "    </tr>\n",
       "  </tbody>\n",
       "</table>\n",
       "</div>"
      ],
      "text/plain": [
       "                                             Headline    Actual NB_Prediction  \\\n",
       "7   The recent acquisition has already begun to co...  positive       neutral   \n",
       "9   The successful introduction of new product lin...  positive       neutral   \n",
       "14  Strategic collaborations with industry leaders...  positive       neutral   \n",
       "\n",
       "    NB_Confidence NN_Prediction  NN_Confidence  NB_Correct  NN_Correct  \\\n",
       "7        0.502478      positive       0.972957       False        True   \n",
       "9        0.521444      positive       0.992486       False        True   \n",
       "14       0.672266      positive       0.990287       False        True   \n",
       "\n",
       "    Both_Correct  Both_Wrong  \n",
       "7          False       False  \n",
       "9          False       False  \n",
       "14         False       False  "
      ]
     },
     "metadata": {},
     "output_type": "display_data"
    }
   ],
   "source": [
    "# Make predictions with the Neural Network model\n",
    "nn_results = predictor.predict_neural_network(headlines)  # Using a subset for faster comparison\n",
    "\n",
    "if nn_results:\n",
    "    # Create comparison dataframe\n",
    "    comparison_df = pd.DataFrame({\n",
    "        'Headline': headlines,\n",
    "        'Actual': test_df['Sentiment'],\n",
    "        'NB_Prediction': [r['sentiment'] for r in results],\n",
    "        'NB_Confidence': [r['confidence'] for r in results],\n",
    "        'NN_Prediction': [r['sentiment'] for r in nn_results],\n",
    "        'NN_Confidence': [r['confidence'] for r in nn_results]\n",
    "    })\n",
    "    \n",
    "    # Add columns for correct/incorrect predictions\n",
    "    comparison_df['NB_Correct'] = comparison_df['NB_Prediction'] == comparison_df['Actual']\n",
    "    comparison_df['NN_Correct'] = comparison_df['NN_Prediction'] == comparison_df['Actual']\n",
    "    comparison_df['Both_Correct'] = comparison_df['NB_Correct'] & comparison_df['NN_Correct']\n",
    "    comparison_df['Both_Wrong'] = ~comparison_df['NB_Correct'] & ~comparison_df['NN_Correct']\n",
    "    \n",
    "    # Display summary\n",
    "    print(\"Model Comparison Summary:\")\n",
    "    print(f\"Naive Bayes Accuracy: {comparison_df['NB_Correct'].mean():.4f}\")\n",
    "    print(f\"Neural Network Accuracy: {comparison_df['NN_Correct'].mean():.4f}\")\n",
    "    print(f\"Both correct: {comparison_df['Both_Correct'].sum()} headlines\")\n",
    "    print(f\"Both wrong: {comparison_df['Both_Wrong'].sum()} headlines\")\n",
    "    print(f\"Only Naive Bayes correct: {(comparison_df['NB_Correct'] & ~comparison_df['NN_Correct']).sum()} headlines\")\n",
    "    print(f\"Only Neural Network correct: {(~comparison_df['NB_Correct'] & comparison_df['NN_Correct']).sum()} headlines\")\n",
    "    \n",
    "    # Show a few examples where models disagree\n",
    "    disagreement = comparison_df[comparison_df['NB_Prediction'] != comparison_df['NN_Prediction']]\n",
    "    if not disagreement.empty:\n",
    "        print(\"\\nExamples where models disagree:\")\n",
    "        display(disagreement.head(3))\n",
    "else:\n",
    "    print(\"Neural Network prediction failed.\")"
   ]
  }
 ],
 "metadata": {
  "kernelspec": {
   "display_name": "venv",
   "language": "python",
   "name": "python3"
  },
  "language_info": {
   "codemirror_mode": {
    "name": "ipython",
    "version": 3
   },
   "file_extension": ".py",
   "mimetype": "text/x-python",
   "name": "python",
   "nbconvert_exporter": "python",
   "pygments_lexer": "ipython3",
   "version": "3.12.5"
  }
 },
 "nbformat": 4,
 "nbformat_minor": 2
}
