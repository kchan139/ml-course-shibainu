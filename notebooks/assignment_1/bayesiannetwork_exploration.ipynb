{
 "cells": [
  {
   "cell_type": "code",
   "execution_count": 1,
   "metadata": {},
   "outputs": [
    {
     "name": "stderr",
     "output_type": "stream",
     "text": [
      "[nltk_data] Downloading package punkt to\n",
      "[nltk_data]     C:\\Users\\Acer\\AppData\\Roaming\\nltk_data...\n",
      "[nltk_data]   Package punkt is already up-to-date!\n",
      "[nltk_data] Downloading package stopwords to\n",
      "[nltk_data]     C:\\Users\\Acer\\AppData\\Roaming\\nltk_data...\n",
      "[nltk_data]   Package stopwords is already up-to-date!\n",
      "[nltk_data] Downloading package wordnet to\n",
      "[nltk_data]     C:\\Users\\Acer\\AppData\\Roaming\\nltk_data...\n",
      "[nltk_data]   Package wordnet is already up-to-date!\n"
     ]
    }
   ],
   "source": [
    "import sys\n",
    "import os\n",
    "import pandas as pd\n",
    "import numpy as np\n",
    "\n",
    "# Append the absolute path of the root directory of the project\n",
    "notebook_path = os.getcwd()\n",
    "project_root = os.path.abspath(os.path.join(notebook_path, '..', '..'))\n",
    "\n",
    "# Add the root directory to sys.path\n",
    "sys.path.append(project_root)\n",
    "\n",
    "from src.data.preprocess import DataPreprocessor\n",
    "from src.models.predict_model import ModelPredictor\n",
    "from src.models.train_model import ModelTrainer\n",
    "from src.config import *"
   ]
  },
  {
   "cell_type": "code",
   "execution_count": 2,
   "metadata": {},
   "outputs": [
    {
     "data": {
      "application/vnd.microsoft.datawrangler.viewer.v0+json": {
       "columns": [
        {
         "name": "index",
         "rawType": "int64",
         "type": "integer"
        },
        {
         "name": "Sentiment",
         "rawType": "object",
         "type": "string"
        },
        {
         "name": "News Headline",
         "rawType": "object",
         "type": "string"
        },
        {
         "name": "clean_text",
         "rawType": "object",
         "type": "string"
        },
        {
         "name": "sentiment_encoded",
         "rawType": "int32",
         "type": "integer"
        }
       ],
       "conversionMethod": "pd.DataFrame",
       "ref": "d5e2119e-eedf-48db-bd70-0867f7460a9b",
       "rows": [
        [
         "0",
         "positive",
         "The firm has seen substantial revenue growth, driven by innovative marketing strategies and expanded product offerings.",
         "firm seen substantial revenue growth driven innovative marketing strategy expanded product offering",
         "2"
        ],
        [
         "1",
         "positive",
         "The recent partnership is expected to significantly enhance the company’s position in the competitive market landscape.",
         "recent partnership expected significantly enhance company ’ position competitive market landscape",
         "2"
        ],
        [
         "2",
         "positive",
         "Increased international sales have propelled the company’s revenue to new heights, surpassing earlier projections.",
         "increased international sale propelled company ’ revenue new height surpassing earlier projection",
         "2"
        ],
        [
         "3",
         "positive",
         "The company's proactive customer engagement has resulted in a noticeable rise in customer loyalty and sales.",
         "company proactive customer engagement resulted noticeable rise customer loyalty sale",
         "2"
        ],
        [
         "4",
         "positive",
         "A successful product launch has already started to show strong returns, bolstering overall market performance.",
         "successful product launch already started show strong return bolstering overall market performance",
         "2"
        ],
        [
         "5",
         "positive",
         "The firm’s strategic investments in new technologies have started yielding impressive returns, positioning it for long-term growth.",
         "firm ’ strategic investment new technology started yielding impressive return positioning longterm growth",
         "2"
        ],
        [
         "6",
         "positive",
         "By focusing on expanding its online presence, the company has significantly improved customer acquisition rates.",
         "focusing expanding online presence company significantly improved customer acquisition rate",
         "2"
        ],
        [
         "7",
         "positive",
         "The recent acquisition has already begun to contribute to the company’s bottom line, increasing market share.",
         "recent acquisition already begun contribute company ’ bottom line increasing market share",
         "2"
        ],
        [
         "8",
         "positive",
         "Efforts to streamline operations have resulted in a notable reduction in costs, improving profitability.",
         "effort streamline operation resulted notable reduction cost improving profitability",
         "2"
        ],
        [
         "9",
         "positive",
         "The successful introduction of new product lines has already attracted a considerable customer base, boosting revenue.",
         "successful introduction new product line already attracted considerable customer base boosting revenue",
         "2"
        ],
        [
         "10",
         "positive",
         "The company’s commitment to expanding into untapped markets has been instrumental in driving revenue growth.",
         "company ’ commitment expanding untapped market instrumental driving revenue growth",
         "2"
        ],
        [
         "11",
         "positive",
         "The company has delivered impressive results this quarter, marking its most successful period in recent years.",
         "company delivered impressive result quarter marking successful period recent year",
         "2"
        ],
        [
         "12",
         "positive",
         "The new marketing campaign has generated positive results, attracting new customers and increasing overall revenue.",
         "new marketing campaign generated positive result attracting new customer increasing overall revenue",
         "2"
        ],
        [
         "13",
         "positive",
         "Strong financial performance has helped the company surpass revenue expectations and increase market dominance.",
         "strong financial performance helped company surpass revenue expectation increase market dominance",
         "2"
        ],
        [
         "14",
         "positive",
         "Strategic collaborations with industry leaders have opened new avenues for the company, boosting both revenue and brand recognition.",
         "strategic collaboration industry leader opened new avenue company boosting revenue brand recognition",
         "2"
        ],
        [
         "15",
         "positive",
         "Microsoft's cloud services have seen a remarkable growth, pushing its market share to new heights.",
         "microsofts cloud service seen remarkable growth pushing market share new height",
         "2"
        ],
        [
         "16",
         "positive",
         "Tesla’s fourth-quarter profit exceeded Wall Street expectations, driven by strong demand for its electric vehicles.",
         "tesla ’ fourthquarter profit exceeded wall street expectation driven strong demand electric vehicle",
         "2"
        ],
        [
         "17",
         "positive",
         "Amazon's revenue growth continues to outpace competitors, securing its position as a dominant force in e-commerce.",
         "amazon revenue growth continues outpace competitor securing position dominant force ecommerce",
         "2"
        ],
        [
         "18",
         "positive",
         "Apple has announced record profits for the third quarter, fueled by high iPhone sales and strong demand for its services.",
         "apple announced record profit third quarter fueled high iphone sale strong demand service",
         "2"
        ],
        [
         "19",
         "positive",
         "Berkshire Hathaway’s stock surged after it reported better-than-expected earnings for the last fiscal year.",
         "berkshire hathaway ’ stock surged reported betterthanexpected earnings last fiscal year",
         "2"
        ],
        [
         "20",
         "positive",
         "The latest innovations from Google have led to an unprecedented rise in user engagement across all of its platforms.",
         "latest innovation google led unprecedented rise user engagement across platform",
         "2"
        ],
        [
         "21",
         "positive",
         "Samsung's new smartphone line is expected to break sales records, further solidifying its position as an industry leader.",
         "samsungs new smartphone line expected break sale record solidifying position industry leader",
         "2"
        ],
        [
         "22",
         "positive",
         "Coca-Cola’s expansion into new markets has proven to be highly successful, driving significant growth in its overall sales.",
         "cocacola ’ expansion new market proven highly successful driving significant growth overall sale",
         "2"
        ],
        [
         "23",
         "positive",
         "Alibaba's financial services arm has continued its rapid expansion, showing strong growth in the Asian markets.",
         "alibabas financial service arm continued rapid expansion showing strong growth asian market",
         "2"
        ],
        [
         "24",
         "positive",
         "Intel’s new chip technology is setting the stage for breakthrough advancements in computing power for the next decade.",
         "intel ’ new chip technology setting stage breakthrough advancement computing power next decade",
         "2"
        ],
        [
         "25",
         "positive",
         "Nike's global reach has been extended through a strategic partnership with key international distributors.",
         "nike global reach extended strategic partnership key international distributor",
         "2"
        ],
        [
         "26",
         "positive",
         "Sony's latest gaming console is expected to exceed sales expectations, strengthening its foothold in the gaming industry.",
         "sonys latest gaming console expected exceed sale expectation strengthening foothold gaming industry",
         "2"
        ],
        [
         "27",
         "positive",
         "Uber's new international expansion strategy has yielded impressive early results, with rapid growth in emerging markets.",
         "ubers new international expansion strategy yielded impressive early result rapid growth emerging market",
         "2"
        ],
        [
         "28",
         "positive",
         "Walmart’s push into online retail has seen impressive growth, complementing its already dominant position in brick-and-mortar sales.",
         "walmart ’ push online retail seen impressive growth complementing already dominant position brickandmortar sale",
         "2"
        ],
        [
         "29",
         "positive",
         "Facebook's advertising revenue continues to climb, with a sharp increase in small business advertisers joining the platform.",
         "facebooks advertising revenue continues climb sharp increase small business advertiser joining platform",
         "2"
        ],
        [
         "30",
         "positive",
         "Airbnb's strong performance in key markets shows promising signs of long-term profitability and market dominance.",
         "airbnbs strong performance key market show promising sign longterm profitability market dominance",
         "2"
        ],
        [
         "31",
         "positive",
         "Microsoft's acquisition of LinkedIn has significantly increased its presence in the professional networking space.",
         "microsofts acquisition linkedin significantly increased presence professional networking space",
         "2"
        ],
        [
         "32",
         "positive",
         "Spotify’s strong user growth and expanding premium subscriber base have positioned it as a top player in the streaming industry.",
         "spotify ’ strong user growth expanding premium subscriber base positioned top player streaming industry",
         "2"
        ],
        [
         "33",
         "positive",
         "Ford’s latest vehicle line is expected to exceed sales projections, thanks to a focus on electric vehicle innovation.",
         "ford ’ latest vehicle line expected exceed sale projection thanks focus electric vehicle innovation",
         "2"
        ],
        [
         "34",
         "positive",
         "Siemens has experienced robust growth, driven by its commitment to advancing smart infrastructure and renewable energy solutions.",
         "siemens experienced robust growth driven commitment advancing smart infrastructure renewable energy solution",
         "2"
        ],
        [
         "35",
         "positive",
         "Shell’s efforts in transitioning to green energy sources have boosted investor confidence, resulting in strong stock performance.",
         "shell ’ effort transitioning green energy source boosted investor confidence resulting strong stock performance",
         "2"
        ],
        [
         "36",
         "positive",
         "Disney's theme parks and streaming services are driving unprecedented growth, despite ongoing global challenges.",
         "disney theme park streaming service driving unprecedented growth despite ongoing global challenge",
         "2"
        ],
        [
         "37",
         "positive",
         "Johnson & Johnson has reported a significant increase in profits, driven by the success of its pharmaceutical products.",
         "johnson johnson reported significant increase profit driven success pharmaceutical product",
         "2"
        ],
        [
         "38",
         "positive",
         "ExxonMobil’s ongoing investment in sustainable energy technologies has positioned it as a leader in the transition to cleaner energy.",
         "exxonmobil ’ ongoing investment sustainable energy technology positioned leader transition cleaner energy",
         "2"
        ],
        [
         "39",
         "positive",
         "PepsiCo's revenue growth continues to accelerate as it expands its product line into healthier food and beverage options.",
         "pepsicos revenue growth continues accelerate expands product line healthier food beverage option",
         "2"
        ],
        [
         "40",
         "positive",
         "Spotify’s newly launched features have been met with overwhelmingly positive feedback, leading to increased user engagement.",
         "spotify ’ newly launched feature met overwhelmingly positive feedback leading increased user engagement",
         "2"
        ],
        [
         "41",
         "positive",
         "Zoom's rapid growth during the pandemic has now leveled off, with long-term prospects looking solid due to its new enterprise offerings.",
         "zoom rapid growth pandemic leveled longterm prospect looking solid due new enterprise offering",
         "2"
        ],
        [
         "42",
         "positive",
         "Adobe’s expansion into AI-powered software solutions has resulted in a significant increase in its customer base.",
         "adobe ’ expansion aipowered software solution resulted significant increase customer base",
         "2"
        ],
        [
         "43",
         "positive",
         "The global success of L’Oréal’s latest beauty products has reinforced its position as a top player in the cosmetics industry.",
         "global success l ’ oréal ’ latest beauty product reinforced position top player cosmetic industry",
         "2"
        ],
        [
         "44",
         "positive",
         "IBM’s new cloud computing services have shown promising early results, with substantial growth in the enterprise market.",
         "ibm ’ new cloud computing service shown promising early result substantial growth enterprise market",
         "2"
        ],
        [
         "45",
         "positive",
         "AT&T’s acquisition of Time Warner has significantly boosted its content portfolio, offering new opportunities in the media space.",
         "att ’ acquisition time warner significantly boosted content portfolio offering new opportunity medium space",
         "2"
        ],
        [
         "46",
         "positive",
         "General Electric’s strategic focus on renewable energy has positioned it for strong long-term growth in the sustainable tech sector.",
         "general electric ’ strategic focus renewable energy positioned strong longterm growth sustainable tech sector",
         "2"
        ],
        [
         "47",
         "positive",
         "Citi’s growth in its global banking business has far outpaced competitors, thanks to strategic international expansions.",
         "citi ’ growth global banking business far outpaced competitor thanks strategic international expansion",
         "2"
        ],
        [
         "48",
         "positive",
         "McDonald's new menu items and digital innovations have contributed to a significant increase in both sales and customer satisfaction.",
         "mcdonalds new menu item digital innovation contributed significant increase sale customer satisfaction",
         "2"
        ],
        [
         "49",
         "positive",
         "Tesla's continued success with its electric vehicle line is driving significant expansion in new international markets.",
         "tesla continued success electric vehicle line driving significant expansion new international market",
         "2"
        ]
       ],
       "shape": {
        "columns": 4,
        "rows": 9088
       }
      },
      "text/html": [
       "<div>\n",
       "<style scoped>\n",
       "    .dataframe tbody tr th:only-of-type {\n",
       "        vertical-align: middle;\n",
       "    }\n",
       "\n",
       "    .dataframe tbody tr th {\n",
       "        vertical-align: top;\n",
       "    }\n",
       "\n",
       "    .dataframe thead th {\n",
       "        text-align: right;\n",
       "    }\n",
       "</style>\n",
       "<table border=\"1\" class=\"dataframe\">\n",
       "  <thead>\n",
       "    <tr style=\"text-align: right;\">\n",
       "      <th></th>\n",
       "      <th>Sentiment</th>\n",
       "      <th>News Headline</th>\n",
       "      <th>clean_text</th>\n",
       "      <th>sentiment_encoded</th>\n",
       "    </tr>\n",
       "  </thead>\n",
       "  <tbody>\n",
       "    <tr>\n",
       "      <th>0</th>\n",
       "      <td>positive</td>\n",
       "      <td>The firm has seen substantial revenue growth, ...</td>\n",
       "      <td>firm seen substantial revenue growth driven in...</td>\n",
       "      <td>2</td>\n",
       "    </tr>\n",
       "    <tr>\n",
       "      <th>1</th>\n",
       "      <td>positive</td>\n",
       "      <td>The recent partnership is expected to signific...</td>\n",
       "      <td>recent partnership expected significantly enha...</td>\n",
       "      <td>2</td>\n",
       "    </tr>\n",
       "    <tr>\n",
       "      <th>2</th>\n",
       "      <td>positive</td>\n",
       "      <td>Increased international sales have propelled t...</td>\n",
       "      <td>increased international sale propelled company...</td>\n",
       "      <td>2</td>\n",
       "    </tr>\n",
       "    <tr>\n",
       "      <th>3</th>\n",
       "      <td>positive</td>\n",
       "      <td>The company's proactive customer engagement ha...</td>\n",
       "      <td>company proactive customer engagement resulted...</td>\n",
       "      <td>2</td>\n",
       "    </tr>\n",
       "    <tr>\n",
       "      <th>4</th>\n",
       "      <td>positive</td>\n",
       "      <td>A successful product launch has already starte...</td>\n",
       "      <td>successful product launch already started show...</td>\n",
       "      <td>2</td>\n",
       "    </tr>\n",
       "    <tr>\n",
       "      <th>...</th>\n",
       "      <td>...</td>\n",
       "      <td>...</td>\n",
       "      <td>...</td>\n",
       "      <td>...</td>\n",
       "    </tr>\n",
       "    <tr>\n",
       "      <th>9083</th>\n",
       "      <td>negative</td>\n",
       "      <td>LONDON MarketWatch -- Share prices ended lower...</td>\n",
       "      <td>london marketwatch share price ended lower lon...</td>\n",
       "      <td>0</td>\n",
       "    </tr>\n",
       "    <tr>\n",
       "      <th>9084</th>\n",
       "      <td>neutral</td>\n",
       "      <td>Rinkuskiai 's beer sales fell by 6.5 per cent ...</td>\n",
       "      <td>rinkuskiai beer sale fell per cent million lit...</td>\n",
       "      <td>1</td>\n",
       "    </tr>\n",
       "    <tr>\n",
       "      <th>9085</th>\n",
       "      <td>negative</td>\n",
       "      <td>Operating profit fell to EUR 35.4 mn from EUR ...</td>\n",
       "      <td>operating profit fell eur mn eur mn including ...</td>\n",
       "      <td>0</td>\n",
       "    </tr>\n",
       "    <tr>\n",
       "      <th>9086</th>\n",
       "      <td>negative</td>\n",
       "      <td>Net sales of the Paper segment decreased to EU...</td>\n",
       "      <td>net sale paper segment decreased eur mn second...</td>\n",
       "      <td>0</td>\n",
       "    </tr>\n",
       "    <tr>\n",
       "      <th>9087</th>\n",
       "      <td>negative</td>\n",
       "      <td>Sales in Finland decreased by 10.5 % in Januar...</td>\n",
       "      <td>sale finland decreased january sale outside fi...</td>\n",
       "      <td>0</td>\n",
       "    </tr>\n",
       "  </tbody>\n",
       "</table>\n",
       "<p>9088 rows × 4 columns</p>\n",
       "</div>"
      ],
      "text/plain": [
       "     Sentiment                                      News Headline  \\\n",
       "0     positive  The firm has seen substantial revenue growth, ...   \n",
       "1     positive  The recent partnership is expected to signific...   \n",
       "2     positive  Increased international sales have propelled t...   \n",
       "3     positive  The company's proactive customer engagement ha...   \n",
       "4     positive  A successful product launch has already starte...   \n",
       "...        ...                                                ...   \n",
       "9083  negative  LONDON MarketWatch -- Share prices ended lower...   \n",
       "9084   neutral  Rinkuskiai 's beer sales fell by 6.5 per cent ...   \n",
       "9085  negative  Operating profit fell to EUR 35.4 mn from EUR ...   \n",
       "9086  negative  Net sales of the Paper segment decreased to EU...   \n",
       "9087  negative  Sales in Finland decreased by 10.5 % in Januar...   \n",
       "\n",
       "                                             clean_text  sentiment_encoded  \n",
       "0     firm seen substantial revenue growth driven in...                  2  \n",
       "1     recent partnership expected significantly enha...                  2  \n",
       "2     increased international sale propelled company...                  2  \n",
       "3     company proactive customer engagement resulted...                  2  \n",
       "4     successful product launch already started show...                  2  \n",
       "...                                                 ...                ...  \n",
       "9083  london marketwatch share price ended lower lon...                  0  \n",
       "9084  rinkuskiai beer sale fell per cent million lit...                  1  \n",
       "9085  operating profit fell eur mn eur mn including ...                  0  \n",
       "9086  net sale paper segment decreased eur mn second...                  0  \n",
       "9087  sale finland decreased january sale outside fi...                  0  \n",
       "\n",
       "[9088 rows x 4 columns]"
      ]
     },
     "execution_count": 2,
     "metadata": {},
     "output_type": "execute_result"
    }
   ],
   "source": [
    "file_path = TEST_DIR\n",
    "\n",
    "# Read the CSV\n",
    "df = pd.read_csv(file_path)\n",
    "preprocessor = DataPreprocessor(file_path)\n",
    "preprocessor.clean_data()\n",
    "prep_path = os.path.join(PROCESSED_DATA_PATH, 'preprocess.csv')\n",
    "preprocessor.df.to_csv(prep_path, index = False)\n",
    "preprocessor.df"
   ]
  },
  {
   "cell_type": "code",
   "execution_count": 3,
   "metadata": {},
   "outputs": [],
   "source": [
    "# Split the cleaned text\n",
    "X_train, X_test, Y_train, Y_test = preprocessor.split_data()"
   ]
  },
  {
   "cell_type": "code",
   "execution_count": 4,
   "metadata": {},
   "outputs": [
    {
     "data": {
      "application/vnd.jupyter.widget-view+json": {
       "model_id": "294f916f5e334fbc8cc07bb379ed53b8",
       "version_major": 2,
       "version_minor": 0
      },
      "text/plain": [
       "  0%|          | 0/1000000 [00:00<?, ?it/s]"
      ]
     },
     "metadata": {},
     "output_type": "display_data"
    },
    {
     "name": "stdout",
     "output_type": "stream",
     "text": [
      "Predictions: [2, 2, 2, 1, 1, 0, 0, 1, 0, 1, 1, 1, 1, 2, 1, 2, 1, 1, 1, 1, 1, 0, 1, 0, 2, 1, 0, 0, 0, 1, 0, 1, 2, 1, 1, 1, 1, 1, 1, 0, 0, 1, 1, 1, 0, 1, 1, 2, 1, 0, 2, 1, 0, 1, 1, 1, 0, 0, 2, 1, 2, 0, 1, 0, 1, 0, 2, 2, 0, 2, 1, 0, 1, 0, 2, 1, 1, 0, 1, 0, 2, 2, 0, 0, 1, 0, 2, 1, 1, 0, 1, 1, 1, 0, 2, 1, 1, 2, 1, 2, 0, 1, 1, 2, 2, 0, 2, 1, 1, 0, 0, 0, 1, 1, 1, 1, 1, 2, 2, 1, 1, 0, 1, 1, 2, 2, 0, 1, 0, 1, 0, 1, 0, 0, 2, 0, 0, 1, 1, 1, 1, 1, 0, 2, 1, 1, 2, 0, 2, 0, 2, 1, 0, 2, 1, 2, 2, 0, 2, 1, 1, 2, 1, 1, 1, 2, 1, 2, 0, 2, 1, 0, 2, 1, 1, 1, 2, 1, 1, 0, 0, 1, 1, 0, 2, 1, 2, 1, 1, 2, 1, 1, 1, 1, 1, 1, 2, 0, 0, 0, 0, 2, 1, 1, 1, 0, 0, 1, 1, 1, 2, 1, 1, 0, 1, 1, 1, 0, 2, 2, 1, 1, 1, 2, 1, 2, 2, 1, 1, 1, 1, 1, 1, 2, 1, 2, 1, 2, 1, 0, 1, 2, 1, 2, 2, 2, 0, 1, 2, 1, 1, 0, 1, 1, 1, 1, 0, 2, 1, 1, 0, 1, 1, 2, 0, 1, 0, 1, 1, 1, 1, 1, 1, 1, 2, 1, 2, 1, 1, 1, 1, 0, 1, 1, 1, 1, 0, 1, 1, 1, 1, 2, 1, 1, 1, 1, 1, 0, 1, 1, 1, 2, 1, 1, 0, 0, 2, 1, 1, 1, 0, 1, 2, 2, 1, 0, 2, 1, 1, 0, 1, 1, 1, 2, 1, 0, 2, 1, 1, 2, 0, 0, 1, 1, 0, 0, 0, 0, 1, 1, 1, 2, 0, 0, 2, 1, 0, 1, 2, 2, 2, 1, 1, 1, 1, 0, 2, 2, 1, 1, 1, 1, 0, 0, 1, 1, 1, 1, 1, 1, 0, 2, 2, 1, 1, 0, 2, 0, 0, 1, 1, 2, 1, 0, 2, 2, 1, 2, 0, 2, 0, 2, 1, 2, 1, 1, 2, 2, 0, 1, 1, 0, 1, 1, 1, 2, 1, 1, 1, 1, 2, 1, 0, 0, 1, 1, 0, 2, 1, 1, 0, 1, 2, 2, 2, 1, 0, 1, 1, 0, 2, 1, 0, 0, 1, 1, 1, 2, 2, 0, 2, 2, 2, 0, 1, 0, 2, 1, 0, 0, 1, 0, 1, 1, 1, 1, 1, 0, 1, 0, 1, 1, 1, 0, 1, 1, 0, 2, 2, 1, 2, 2, 2, 0, 2, 1, 1, 1, 2, 2, 0, 0, 2, 0, 1, 2, 1, 1, 0, 1, 1, 0, 1, 1, 1, 1, 2, 0, 2, 0, 1, 1, 1, 1, 0, 1, 2, 2, 0, 0, 1, 2, 0, 2, 2, 0, 1, 1, 1, 0, 0, 0, 2, 0, 2, 1, 1, 1, 0, 1, 1, 1, 0, 1, 1, 2, 1, 1, 1, 1, 1, 0, 2, 0, 1, 1, 1, 0, 0, 0, 0, 0, 2, 1, 0, 1, 0, 0, 2, 1, 2, 2, 1, 1, 0, 2, 0, 2, 1, 1, 1, 1, 1, 1, 1, 1, 2, 0, 2, 1, 0, 2, 0, 1, 0, 0, 0, 1, 1, 0, 2, 1, 1, 2, 1, 2, 1, 1, 0, 1, 0, 2, 2, 1, 1, 2, 2, 0, 2, 0, 1, 1, 0, 2, 0, 1, 1, 1, 0, 1, 1, 2, 1, 2, 1, 1, 0, 0, 1, 1, 2, 0, 1, 1, 1, 1, 1, 1, 1, 2, 2, 0, 0, 0, 0, 0, 1, 1, 2, 2, 1, 0, 0, 1, 2, 1, 1, 0, 2, 2, 2, 2, 1, 1, 1, 1, 2, 1, 1, 1, 1, 2, 1, 0, 2, 1, 0, 1, 2, 1, 1, 1, 0, 0, 2, 0, 1, 1, 2, 0, 1, 0, 2, 1, 0, 2, 0, 1, 2, 1, 1, 1, 1, 1, 0, 1, 1, 2, 1, 1, 1, 0, 1, 2, 0, 1, 1, 0, 1, 0, 0, 1, 1, 1, 2, 2, 0, 2, 1, 1, 1, 0, 1, 2, 1, 0, 0, 2, 0, 1, 1, 1, 1, 1, 1, 2, 1, 1, 1, 2, 2, 0, 2, 1, 1, 2, 0, 2, 0, 2, 0, 1, 1, 1, 1, 2, 1, 1, 0, 2, 1, 1, 0, 1, 1, 1, 0, 0, 2, 1, 1, 2, 1, 2, 0, 1, 1, 2, 1, 1, 1, 1, 1, 1, 0, 1, 2, 1, 0, 1, 1, 1, 1, 1, 1, 1, 0, 1, 2, 1, 0, 2, 2, 1, 0, 0, 2, 0, 0, 2, 0, 0, 2, 1, 1, 1, 1, 1, 0, 0, 2, 1, 0, 2, 1, 2, 2, 1, 2, 1, 0, 1, 0, 0, 1, 1, 1, 0, 1, 1, 1, 2, 2, 1, 1, 1, 0, 0, 2, 0, 1, 1, 1, 0, 0, 0, 0, 1, 1, 0, 0, 2, 2, 2, 2, 0, 1, 0, 1, 0, 1, 1, 1, 1, 1, 1, 1, 1, 2, 2, 1, 2, 1, 0, 1, 0, 1, 0, 1, 0, 2, 0, 1, 1, 0, 2, 1, 0, 1, 1, 0, 2, 2, 1, 1, 0, 1, 1, 1, 1, 0, 2, 1, 1, 1, 1, 2, 2, 2, 1, 0, 2, 2, 1, 1, 1, 2, 2, 1, 1, 2, 2, 0, 1, 0, 1, 1, 1, 1, 1, 1, 1, 1, 0, 1, 2, 1, 1, 2, 1, 1, 0, 0, 2, 0, 1, 1, 0, 0, 2, 2, 1, 0, 2, 1, 1, 2, 0, 1, 1, 1, 1, 1, 1, 1, 1, 0, 2, 1, 2, 2, 1, 1, 2, 0, 1, 2, 2, 1, 1, 0, 1, 0, 1, 1, 0, 2, 2, 1, 1, 1, 0, 1, 0, 1, 1, 1, 1, 1, 1, 2, 2, 2, 0, 0, 1, 1, 2, 1, 1, 1, 2, 2, 0, 2, 0, 0, 2, 1, 1, 2, 1, 0, 1, 2, 2, 0, 0, 1, 1, 1, 1, 1, 2, 0, 2, 1, 1, 1, 0, 1, 2, 1, 1, 1, 1, 1, 1, 1, 0, 1, 1, 2, 0, 0, 0, 2, 1, 1, 1, 1, 1, 2, 2, 1, 2, 1, 1, 0, 1, 2, 2, 0, 1, 2, 1, 0, 0, 0, 1, 0, 1, 1, 1, 1, 1, 1, 2, 1, 1, 0, 1, 2, 1, 0, 0, 0, 1, 1, 1, 0, 2, 1, 1, 2, 1, 0, 2, 0, 0, 1, 1, 2, 1, 1, 0, 1, 1, 0, 2, 1, 2, 0, 1, 0, 2, 1, 1, 2, 0, 1, 1, 1, 0, 2, 1, 0, 0, 0, 2, 1, 2, 0, 1, 1, 0, 0, 2, 1, 2, 1, 1, 0, 1, 1, 1, 0, 1, 2, 1, 0, 0, 2, 1, 2, 1, 2, 1, 0, 1, 0, 1, 1, 2, 1, 1, 1, 1, 1, 1, 1, 2, 1, 1, 2, 1, 2, 2, 1, 1, 0, 2, 0, 1, 2, 1, 1, 2, 2, 1, 2, 1, 1, 0, 2, 1, 0, 1, 0, 0, 1, 1, 0, 2, 1, 2, 0, 1, 1, 0, 1, 2, 2, 0, 1, 0, 2, 1, 1, 0, 1, 2, 1, 2, 1, 1, 2, 1, 1, 0, 2, 2, 2, 0, 0, 1, 1, 1, 0, 0, 0, 2, 2, 2, 1, 2, 0, 0, 0, 2, 2, 1, 1, 1, 2, 1, 0, 1, 0, 0, 1, 1, 1, 1, 0, 2, 0, 1, 2, 2, 0, 1, 1, 1, 2, 1, 1, 2, 1, 1, 0, 1, 2, 0, 1, 2, 1, 2, 1, 0, 1, 0, 2, 0, 1, 0, 1, 1, 0, 2, 0, 1, 0, 2, 2, 2, 2, 1, 0, 2, 1, 1, 0, 0, 1, 0, 2, 2, 1, 1, 1, 2, 2, 1, 2, 1, 2, 1, 2, 2, 1, 0, 1, 1, 0, 1, 2, 1, 1, 1, 1, 1, 1, 1, 2, 1, 0, 0, 1, 1, 1, 2, 1, 1, 1, 1, 1, 0, 1, 1, 0, 0, 0, 1, 2, 1, 2, 0, 1, 0, 1, 2, 1, 0, 1, 2, 1, 1, 1, 2, 1, 2, 0, 1, 1, 0, 1, 0, 1, 1, 1, 0, 1, 1, 1, 1, 2, 2, 2, 2, 0, 2, 1, 0, 1, 2, 1, 2, 0, 1, 1, 2, 0, 2, 0, 2, 1, 0, 1, 2, 2, 0, 2, 2, 0, 0, 0, 0, 2, 2, 0, 2, 1, 2, 2, 2, 0, 1, 1, 1, 2, 1, 1, 1, 2, 1, 1, 1, 0, 1, 0, 1, 1, 2, 1, 2, 1, 0, 0, 1, 1, 1, 1, 0, 1, 1, 1, 1, 2, 0, 0, 1, 0, 1, 0, 1, 1, 1, 1, 0, 0, 1, 1, 1, 2, 1, 1, 2, 0, 2, 0, 1, 1, 0, 1, 1, 1, 1, 1, 0, 2, 0, 1, 2, 1, 0, 2, 0, 0, 2, 0, 2, 0, 1, 2, 2, 2, 2, 1, 2, 2, 2, 1, 1, 1, 0, 2, 2, 2, 1, 0, 2, 0, 1, 0, 1, 1, 1, 0, 1, 1, 2, 1, 2, 1, 1, 1, 2, 2, 0, 2, 2, 2, 2, 1, 0, 1, 1, 1, 2, 1, 1, 2, 2, 0, 1, 0, 2, 2, 0, 1, 1, 1, 0, 0, 2, 1, 0, 1, 2, 0, 1, 2, 1, 1, 1, 2, 1, 1, 1, 1, 1, 0, 1, 0, 2, 2, 2, 0, 0, 1, 0, 2, 1, 0, 2, 2, 2, 0, 2, 0, 0, 0, 1, 2, 1, 0, 0, 0, 2, 2, 1, 2, 0, 1, 1, 1, 0, 1, 0, 2, 1, 2, 1, 0, 2, 1, 2, 1, 0, 1, 1, 2, 0, 2, 1, 1, 0, 0, 1, 2, 1, 2, 1, 1, 1, 1, 1, 2, 1, 1, 1, 2, 1, 2, 1, 2, 2, 0, 0, 2, 2, 0, 1, 1, 1, 2, 1, 1, 2, 1, 1, 1, 0, 2, 1, 2, 2, 0, 1, 1, 1, 1, 1, 1, 0, 0, 2, 0, 1, 1, 0, 2, 1, 0, 0, 0, 2, 2, 1, 1, 1, 1, 1, 0, 1, 1, 1, 0, 0, 2, 2, 1, 1, 2, 1, 1, 0, 2, 1, 0, 0, 1, 1, 1, 0, 2, 2, 1, 0, 1, 1, 1, 1, 0, 0, 0, 1, 2, 0, 1, 1, 2, 0, 0, 2, 1, 0, 2, 0, 2, 1, 2, 2, 2, 1, 2, 2, 1, 2, 2, 1, 0, 2, 0, 1, 1, 1, 0, 1, 1, 1, 2, 2, 1, 0, 2, 2]\n"
     ]
    }
   ],
   "source": [
    "# Example usage:\n",
    "trainer = ModelTrainer()\n",
    "predictor = ModelPredictor()\n",
    "bayesian_network = trainer.train_bayesian_network(X_train, Y_train)\n",
    "#\n",
    "test_data_path = os.path.join(EXTERNAL_DATA_PATH, \"test_data.csv\")\n",
    "# preprocessor = DataPreprocessor(test_data_path)\n",
    "# preprocessor.clean_data()\n",
    "# X_test, Y_test = preprocessor.df[\"clean_text\"], preprocessor.df[\"sentiment_encoded\"]\n",
    "# Now, use the ModelPredictor to make predictions on the test data:\n",
    "predictions = predictor.predict_bayesian_network(X_test)\n",
    "print(\"Predictions:\", predictions)"
   ]
  },
  {
   "cell_type": "code",
   "execution_count": 5,
   "metadata": {},
   "outputs": [
    {
     "name": "stdout",
     "output_type": "stream",
     "text": [
      "Accuracy: 0.7546754675467546\n",
      "Classification Report:\n",
      "              precision    recall  f1-score   support\n",
      "\n",
      "           0       0.95      0.73      0.83       600\n",
      "           1       0.62      0.90      0.73       618\n",
      "           2       0.83      0.63      0.72       600\n",
      "\n",
      "    accuracy                           0.75      1818\n",
      "   macro avg       0.80      0.75      0.76      1818\n",
      "weighted avg       0.80      0.75      0.76      1818\n",
      "\n",
      "Confusion Matrix:\n",
      "[[437 132  31]\n",
      " [ 14 555  49]\n",
      " [  8 212 380]]\n"
     ]
    }
   ],
   "source": [
    "from sklearn.metrics import accuracy_score, classification_report, confusion_matrix\n",
    "\n",
    "# 1. Accuracy\n",
    "accuracy = accuracy_score(Y_test, predictions)\n",
    "print(\"Accuracy:\", accuracy)\n",
    "\n",
    "# 2. Classification Report (precision, recall, F1-score for each class)\n",
    "print(\"Classification Report:\")\n",
    "print(classification_report(Y_test, predictions))\n",
    "\n",
    "# 3. Confusion Matrix\n",
    "cm = confusion_matrix(Y_test, predictions)\n",
    "print(\"Confusion Matrix:\")\n",
    "print(cm)"
   ]
  }
 ],
 "metadata": {
  "kernelspec": {
   "display_name": "venv",
   "language": "python",
   "name": "python3"
  },
  "language_info": {
   "codemirror_mode": {
    "name": "ipython",
    "version": 3
   },
   "file_extension": ".py",
   "mimetype": "text/x-python",
   "name": "python",
   "nbconvert_exporter": "python",
   "pygments_lexer": "ipython3",
   "version": "3.12.7"
  }
 },
 "nbformat": 4,
 "nbformat_minor": 2
}
