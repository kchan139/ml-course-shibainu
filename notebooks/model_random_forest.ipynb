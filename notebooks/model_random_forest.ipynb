{
 "cells": [
  {
   "cell_type": "markdown",
   "id": "80985133",
   "metadata": {},
   "source": [
    "# Hyperparameter Tuning for Sentiment Analysis with Random Forest\n",
    "\n",
    "This notebook demonstrates hyperparameter optimization for a Random Forest Classifier model to perform sentiment analysis. We'll track experiments with MLflow and find the best model configuration."
   ]
  },
  {
   "cell_type": "markdown",
   "id": "acbb1906",
   "metadata": {},
   "source": [
    "## Setup and Imports"
   ]
  },
  {
   "cell_type": "code",
   "execution_count": 1,
   "id": "1d5f6cf1",
   "metadata": {},
   "outputs": [],
   "source": [
    "import numpy as np\n",
    "import mlflow\n",
    "import pandas as pd\n",
    "import matplotlib.pyplot as plt\n",
    "import seaborn as sns\n",
    "\n",
    "import sys\n",
    "sys.path.append('..')\n",
    "from src.models.train_models import ModelTrainer\n",
    "from src.models.predict_models import ModelPredictor\n",
    "from src.config import *"
   ]
  },
  {
   "cell_type": "markdown",
   "id": "251bacb4",
   "metadata": {},
   "source": [
    "## Define Hyperparameter Grid\n",
    "\n",
    "We'll create a grid of hyperparameters to search through:\n",
    "\n",
    "- **n_estimators**: Number of trees in the forest\n",
    "- **max_depth**: Maximum depth of the trees\n",
    "- **min_samples_split**: Minimum number of samples required to split a node"
   ]
  },
  {
   "cell_type": "code",
   "execution_count": 2,
   "id": "4c3eff9b",
   "metadata": {},
   "outputs": [],
   "source": [
    "# Define hyperparameter grids to search\n",
    "n_estimators_values = [50, 100, 200]\n",
    "max_depth_values = [None, 10, 20]\n",
    "min_samples_split_values = [2, 5, 10]"
   ]
  },
  {
   "cell_type": "markdown",
   "id": "e627c0fb",
   "metadata": {},
   "source": [
    "## Hyperparameter Grid Search\n",
    "\n",
    "Now we'll run through all combinations of hyperparameters and track the results using MLflow."
   ]
  },
  {
   "cell_type": "code",
   "execution_count": 3,
   "id": "98bcefce",
   "metadata": {},
   "outputs": [
    {
     "name": "stdout",
     "output_type": "stream",
     "text": [
      "Training with n_estimators=50, max_depth=None, min_samples_split=2\n",
      "Using active MLflow experiment 'sentiment_classification' with ID 628719013361640366\n"
     ]
    },
    {
     "name": "stderr",
     "output_type": "stream",
     "text": [
      "e:\\HCMUT-year 3 project\\ml-course-shibainu-1\\venv\\Lib\\site-packages\\tqdm\\auto.py:21: TqdmWarning: IProgress not found. Please update jupyter and ipywidgets. See https://ipywidgets.readthedocs.io/en/stable/user_install.html\n",
      "  from .autonotebook import tqdm as notebook_tqdm\n",
      "Downloading artifacts: 100%|██████████| 7/7 [00:00<00:00, 1165.82it/s]\n",
      "\n"
     ]
    },
    {
     "name": "stdout",
     "output_type": "stream",
     "text": [
      "Training with n_estimators=50, max_depth=None, min_samples_split=5\n",
      "Using active MLflow experiment 'sentiment_classification' with ID 628719013361640366\n"
     ]
    },
    {
     "name": "stderr",
     "output_type": "stream",
     "text": [
      "Downloading artifacts: 100%|██████████| 7/7 [00:00<00:00, 999.87it/s] \n",
      "\n"
     ]
    },
    {
     "name": "stdout",
     "output_type": "stream",
     "text": [
      "Training with n_estimators=50, max_depth=None, min_samples_split=10\n",
      "Using active MLflow experiment 'sentiment_classification' with ID 628719013361640366\n"
     ]
    },
    {
     "name": "stderr",
     "output_type": "stream",
     "text": [
      "Downloading artifacts: 100%|██████████| 7/7 [00:00<00:00, 1400.37it/s]\n",
      "\n"
     ]
    },
    {
     "name": "stdout",
     "output_type": "stream",
     "text": [
      "Training with n_estimators=50, max_depth=10, min_samples_split=2\n",
      "Using active MLflow experiment 'sentiment_classification' with ID 628719013361640366\n"
     ]
    },
    {
     "name": "stderr",
     "output_type": "stream",
     "text": [
      "Downloading artifacts: 100%|██████████| 7/7 [00:00<00:00, 2333.69it/s]\n",
      "\n"
     ]
    },
    {
     "name": "stdout",
     "output_type": "stream",
     "text": [
      "Training with n_estimators=50, max_depth=10, min_samples_split=5\n",
      "Using active MLflow experiment 'sentiment_classification' with ID 628719013361640366\n"
     ]
    },
    {
     "name": "stderr",
     "output_type": "stream",
     "text": [
      "Downloading artifacts: 100%|██████████| 7/7 [00:00<00:00, 2332.02it/s]\n",
      "\n"
     ]
    },
    {
     "name": "stdout",
     "output_type": "stream",
     "text": [
      "Training with n_estimators=50, max_depth=10, min_samples_split=10\n",
      "Using active MLflow experiment 'sentiment_classification' with ID 628719013361640366\n"
     ]
    },
    {
     "name": "stderr",
     "output_type": "stream",
     "text": [
      "Downloading artifacts: 100%|██████████| 7/7 [00:00<00:00, 2341.69it/s]\n",
      "\n"
     ]
    },
    {
     "name": "stdout",
     "output_type": "stream",
     "text": [
      "Training with n_estimators=50, max_depth=20, min_samples_split=2\n",
      "Using active MLflow experiment 'sentiment_classification' with ID 628719013361640366\n"
     ]
    },
    {
     "name": "stderr",
     "output_type": "stream",
     "text": [
      "Downloading artifacts: 100%|██████████| 7/7 [00:00<00:00, 1750.34it/s]\n",
      "\n"
     ]
    },
    {
     "name": "stdout",
     "output_type": "stream",
     "text": [
      "Training with n_estimators=50, max_depth=20, min_samples_split=5\n",
      "Using active MLflow experiment 'sentiment_classification' with ID 628719013361640366\n"
     ]
    },
    {
     "name": "stderr",
     "output_type": "stream",
     "text": [
      "Downloading artifacts: 100%|██████████| 7/7 [00:00<00:00, 2339.45it/s]\n",
      "\n"
     ]
    },
    {
     "name": "stdout",
     "output_type": "stream",
     "text": [
      "Training with n_estimators=50, max_depth=20, min_samples_split=10\n",
      "Using active MLflow experiment 'sentiment_classification' with ID 628719013361640366\n"
     ]
    },
    {
     "name": "stderr",
     "output_type": "stream",
     "text": [
      "Downloading artifacts: 100%|██████████| 7/7 [00:00<00:00, 1743.16it/s]\n",
      "\n"
     ]
    },
    {
     "name": "stdout",
     "output_type": "stream",
     "text": [
      "Training with n_estimators=100, max_depth=None, min_samples_split=2\n",
      "Using active MLflow experiment 'sentiment_classification' with ID 628719013361640366\n"
     ]
    },
    {
     "name": "stderr",
     "output_type": "stream",
     "text": [
      "Downloading artifacts: 100%|██████████| 7/7 [00:00<00:00, 411.82it/s] \n",
      "\n"
     ]
    },
    {
     "name": "stdout",
     "output_type": "stream",
     "text": [
      "Training with n_estimators=100, max_depth=None, min_samples_split=5\n",
      "Using active MLflow experiment 'sentiment_classification' with ID 628719013361640366\n"
     ]
    },
    {
     "name": "stderr",
     "output_type": "stream",
     "text": [
      "Downloading artifacts: 100%|██████████| 7/7 [00:00<00:00, 500.05it/s] \n",
      "\n"
     ]
    },
    {
     "name": "stdout",
     "output_type": "stream",
     "text": [
      "Training with n_estimators=100, max_depth=None, min_samples_split=10\n",
      "Using active MLflow experiment 'sentiment_classification' with ID 628719013361640366\n"
     ]
    },
    {
     "name": "stderr",
     "output_type": "stream",
     "text": [
      "Downloading artifacts: 100%|██████████| 7/7 [00:00<00:00, 696.23it/s] \n",
      "\n"
     ]
    },
    {
     "name": "stdout",
     "output_type": "stream",
     "text": [
      "Training with n_estimators=100, max_depth=10, min_samples_split=2\n",
      "Using active MLflow experiment 'sentiment_classification' with ID 628719013361640366\n"
     ]
    },
    {
     "name": "stderr",
     "output_type": "stream",
     "text": [
      "Downloading artifacts: 100%|██████████| 7/7 [00:00<00:00, 3498.59it/s]\n",
      "\n"
     ]
    },
    {
     "name": "stdout",
     "output_type": "stream",
     "text": [
      "Training with n_estimators=100, max_depth=10, min_samples_split=5\n",
      "Using active MLflow experiment 'sentiment_classification' with ID 628719013361640366\n"
     ]
    },
    {
     "name": "stderr",
     "output_type": "stream",
     "text": [
      "Downloading artifacts: 100%|██████████| 7/7 [00:00<00:00, 2333.87it/s]\n",
      "\n"
     ]
    },
    {
     "name": "stdout",
     "output_type": "stream",
     "text": [
      "Training with n_estimators=100, max_depth=10, min_samples_split=10\n",
      "Using active MLflow experiment 'sentiment_classification' with ID 628719013361640366\n"
     ]
    },
    {
     "name": "stderr",
     "output_type": "stream",
     "text": [
      "Downloading artifacts: 100%|██████████| 7/7 [00:00<00:00, 2343.56it/s]\n",
      "\n"
     ]
    },
    {
     "name": "stdout",
     "output_type": "stream",
     "text": [
      "Training with n_estimators=100, max_depth=20, min_samples_split=2\n",
      "Using active MLflow experiment 'sentiment_classification' with ID 628719013361640366\n"
     ]
    },
    {
     "name": "stderr",
     "output_type": "stream",
     "text": [
      "Downloading artifacts: 100%|██████████| 7/7 [00:00<00:00, 2790.36it/s]\n",
      "\n"
     ]
    },
    {
     "name": "stdout",
     "output_type": "stream",
     "text": [
      "Training with n_estimators=100, max_depth=20, min_samples_split=5\n",
      "Using active MLflow experiment 'sentiment_classification' with ID 628719013361640366\n"
     ]
    },
    {
     "name": "stderr",
     "output_type": "stream",
     "text": [
      "Downloading artifacts: 100%|██████████| 7/7 [00:00<00:00, 1756.20it/s]\n",
      "\n"
     ]
    },
    {
     "name": "stdout",
     "output_type": "stream",
     "text": [
      "Training with n_estimators=100, max_depth=20, min_samples_split=10\n",
      "Using active MLflow experiment 'sentiment_classification' with ID 628719013361640366\n"
     ]
    },
    {
     "name": "stderr",
     "output_type": "stream",
     "text": [
      "Downloading artifacts: 100%|██████████| 7/7 [00:00<00:00, 1752.42it/s]\n",
      "\n"
     ]
    },
    {
     "name": "stdout",
     "output_type": "stream",
     "text": [
      "Training with n_estimators=200, max_depth=None, min_samples_split=2\n",
      "Using active MLflow experiment 'sentiment_classification' with ID 628719013361640366\n"
     ]
    },
    {
     "name": "stderr",
     "output_type": "stream",
     "text": [
      "Downloading artifacts: 100%|██████████| 7/7 [00:00<00:00, 205.87it/s] \n",
      "\n"
     ]
    },
    {
     "name": "stdout",
     "output_type": "stream",
     "text": [
      "Training with n_estimators=200, max_depth=None, min_samples_split=5\n",
      "Using active MLflow experiment 'sentiment_classification' with ID 628719013361640366\n"
     ]
    },
    {
     "name": "stderr",
     "output_type": "stream",
     "text": [
      "Downloading artifacts: 100%|██████████| 7/7 [00:00<00:00, 285.53it/s] \n",
      "\n"
     ]
    },
    {
     "name": "stdout",
     "output_type": "stream",
     "text": [
      "Training with n_estimators=200, max_depth=None, min_samples_split=10\n",
      "Using active MLflow experiment 'sentiment_classification' with ID 628719013361640366\n"
     ]
    },
    {
     "name": "stderr",
     "output_type": "stream",
     "text": [
      "Downloading artifacts: 100%|██████████| 7/7 [00:00<00:00, 331.08it/s] \n",
      "\n"
     ]
    },
    {
     "name": "stdout",
     "output_type": "stream",
     "text": [
      "Training with n_estimators=200, max_depth=10, min_samples_split=2\n",
      "Using active MLflow experiment 'sentiment_classification' with ID 628719013361640366\n"
     ]
    },
    {
     "name": "stderr",
     "output_type": "stream",
     "text": [
      "Downloading artifacts: 100%|██████████| 7/7 [00:00<00:00, 1750.44it/s]\n",
      "\n"
     ]
    },
    {
     "name": "stdout",
     "output_type": "stream",
     "text": [
      "Training with n_estimators=200, max_depth=10, min_samples_split=5\n",
      "Using active MLflow experiment 'sentiment_classification' with ID 628719013361640366\n"
     ]
    },
    {
     "name": "stderr",
     "output_type": "stream",
     "text": [
      "Downloading artifacts: 100%|██████████| 7/7 [00:00<00:00, 2332.76it/s]\n",
      "\n"
     ]
    },
    {
     "name": "stdout",
     "output_type": "stream",
     "text": [
      "Training with n_estimators=200, max_depth=10, min_samples_split=10\n",
      "Using active MLflow experiment 'sentiment_classification' with ID 628719013361640366\n"
     ]
    },
    {
     "name": "stderr",
     "output_type": "stream",
     "text": [
      "Downloading artifacts: 100%|██████████| 7/7 [00:00<00:00, 3504.85it/s]\n",
      "\n"
     ]
    },
    {
     "name": "stdout",
     "output_type": "stream",
     "text": [
      "Training with n_estimators=200, max_depth=20, min_samples_split=2\n",
      "Using active MLflow experiment 'sentiment_classification' with ID 628719013361640366\n"
     ]
    },
    {
     "name": "stderr",
     "output_type": "stream",
     "text": [
      "Downloading artifacts: 100%|██████████| 7/7 [00:00<00:00, 2332.58it/s]\n",
      "\n"
     ]
    },
    {
     "name": "stdout",
     "output_type": "stream",
     "text": [
      "Training with n_estimators=200, max_depth=20, min_samples_split=5\n",
      "Using active MLflow experiment 'sentiment_classification' with ID 628719013361640366\n"
     ]
    },
    {
     "name": "stderr",
     "output_type": "stream",
     "text": [
      "Downloading artifacts: 100%|██████████| 7/7 [00:00<00:00, 1749.08it/s]\n",
      "\n"
     ]
    },
    {
     "name": "stdout",
     "output_type": "stream",
     "text": [
      "Training with n_estimators=200, max_depth=20, min_samples_split=10\n",
      "Using active MLflow experiment 'sentiment_classification' with ID 628719013361640366\n"
     ]
    },
    {
     "name": "stderr",
     "output_type": "stream",
     "text": [
      "Downloading artifacts: 100%|██████████| 7/7 [00:00<00:00, 3505.27it/s]\n",
      "\n"
     ]
    }
   ],
   "source": [
    "results = []\n",
    "\n",
    "# Limit the number of combinations to avoid excessive training time\n",
    "for n_estimators in n_estimators_values:\n",
    "    for max_depth in max_depth_values:\n",
    "        for min_samples_split in min_samples_split_values:\n",
    "            print(f\"Training with n_estimators={n_estimators}, max_depth={max_depth}, min_samples_split={min_samples_split}\")\n",
    "            try:\n",
    "                run_id = ModelTrainer.random_forest(\n",
    "                    n_estimators=n_estimators, \n",
    "                    max_depth=max_depth, \n",
    "                    min_samples_split=min_samples_split\n",
    "                )\n",
    "\n",
    "                with mlflow.start_run(run_id=run_id):\n",
    "                    run = mlflow.get_run(run_id)\n",
    "                    metrics = run.data.metrics\n",
    "                    params = run.data.params\n",
    "\n",
    "                    results.append({\n",
    "                        'run_id': run_id,\n",
    "                        'n_estimators': params.get('n_estimators'),\n",
    "                        'max_depth': params.get('max_depth'),\n",
    "                        'min_samples_split': params.get('min_samples_split'),\n",
    "                        'train_accuracy': metrics.get('train_accuracy'),\n",
    "                        'test_accuracy': metrics.get('test_accuracy'),\n",
    "                        'test_precision': metrics.get('test_precision'),\n",
    "                        'test_recall': metrics.get('test_recall'),\n",
    "                        'test_f1': metrics.get('test_f1'),\n",
    "                    })\n",
    "            except Exception as e:\n",
    "                print(f\"Error training with n_estimators={n_estimators}, max_depth={max_depth}, min_samples_split={min_samples_split}: {e}\")\n",
    "                continue"
   ]
  },
  {
   "cell_type": "markdown",
   "id": "43f2c7d2",
   "metadata": {},
   "source": [
    "## Print All Model Test Accuracies\n",
    "\n",
    "Let's display the test accuracies for all models, sorted by performance."
   ]
  },
  {
   "cell_type": "code",
   "execution_count": 4,
   "id": "0fccde5a",
   "metadata": {},
   "outputs": [
    {
     "name": "stdout",
     "output_type": "stream",
     "text": [
      "\n",
      "All Models Test Accuracies (sorted):\n",
      "\n",
      "n_estimators max_depth min_samples_split  test_accuracy\n",
      "          50      None                 2       0.811128\n",
      "          50      None                10       0.808383\n",
      "          50      None                 5       0.808134\n",
      "         100      None                10       0.806387\n",
      "         100      None                 2       0.805639\n",
      "         200      None                 5       0.805639\n",
      "         100      None                 5       0.805389\n",
      "         200      None                 2       0.804890\n",
      "         200      None                10       0.803144\n",
      "          50        20                 2       0.772705\n",
      "         100        20                 5       0.771956\n",
      "          50        20                 5       0.771707\n",
      "         100        20                 2       0.771707\n",
      "         200        20                 2       0.771457\n",
      "         100        20                10       0.771208\n",
      "         200        20                 5       0.770958\n",
      "          50        20                10       0.770958\n",
      "         200        20                10       0.770709\n",
      "          50        10                10       0.770210\n",
      "          50        10                 5       0.770210\n",
      "          50        10                 2       0.770210\n",
      "         100        10                10       0.770210\n",
      "         100        10                 2       0.770210\n",
      "         100        10                 5       0.770210\n",
      "         200        10                 2       0.770210\n",
      "         200        10                 5       0.770210\n",
      "         200        10                10       0.770210\n"
     ]
    },
    {
     "data": {
      "image/png": "[encoded data removed]",
      "text/plain": [
       "<Figure size 1400x600 with 1 Axes>"
      ]
     },
     "metadata": {},
     "output_type": "display_data"
    }
   ],
   "source": [
    "# Create dataframe from results\n",
    "results_df = pd.DataFrame(results)\n",
    "\n",
    "# Print all model test accuracies, sorted from best to worst\n",
    "if not results_df.empty and 'test_accuracy' in results_df.columns:\n",
    "    sorted_results = results_df.sort_values('test_accuracy', ascending=False)\n",
    "    \n",
    "    print(\"\\nAll Models Test Accuracies (sorted):\\n\")\n",
    "    print(sorted_results[['n_estimators', 'max_depth', 'min_samples_split', 'test_accuracy']].to_string(index=False))\n",
    "    \n",
    "    # Create a combined label for each configuration\n",
    "    sorted_results['config'] = sorted_results.apply(\n",
    "        lambda row: f\"n_est={row['n_estimators']},\\nmd={row['max_depth']},\\nmss={row['min_samples_split']}\", axis=1)\n",
    "    \n",
    "    # Plot with the combined label - take top 10 to avoid cluttering\n",
    "    plt.figure(figsize=(14, 6))\n",
    "    sns.barplot(x='config', y='test_accuracy', data=sorted_results.head(10))\n",
    "    plt.title('Top 10 Models - Test Accuracy by Configuration', fontsize=14)\n",
    "    plt.xlabel('Hyperparameters', fontsize=12)\n",
    "    plt.ylabel('Test Accuracy', fontsize=12)\n",
    "    plt.xticks(rotation=45)\n",
    "    plt.tight_layout()\n",
    "    plt.show()\n",
    "else:\n",
    "    print(\"\\nNo successful model runs found with test_accuracy metric.\")"
   ]
  },
  {
   "cell_type": "markdown",
   "id": "1da2ff0a",
   "metadata": {},
   "source": [
    "## Analyzing Results and Finding the Best Model"
   ]
  },
  {
   "cell_type": "code",
   "execution_count": 5,
   "id": "07ab314f",
   "metadata": {},
   "outputs": [
    {
     "name": "stdout",
     "output_type": "stream",
     "text": [
      "\n",
      "Best model:\n",
      "n_estimators: 50, max_depth: None, min_samples_split: 2\n",
      "Test Accuracy: 0.8111\n",
      "Test Precision: 0.8391\n",
      "Test Recall: 0.8111\n",
      "Test F1: 0.7577\n",
      "Run ID: 16b4597e6d5543089b73824ebda9d9ad\n"
     ]
    },
    {
     "data": {
      "image/png": "[encoded data removed]",
      "text/plain": [
       "<Figure size 1000x500 with 1 Axes>"
      ]
     },
     "metadata": {},
     "output_type": "display_data"
    }
   ],
   "source": [
    "# Find the best model\n",
    "if not results_df.empty and 'test_accuracy' in results_df.columns:\n",
    "    best_model = results_df.loc[results_df['test_accuracy'].idxmax()]\n",
    "    best_run_id = best_model['run_id']\n",
    "    \n",
    "    print(\"\\nBest model:\")\n",
    "    print(f\"n_estimators: {best_model['n_estimators']}, max_depth: {best_model['max_depth']}, min_samples_split: {best_model['min_samples_split']}\")\n",
    "    print(f\"Test Accuracy: {best_model['test_accuracy']:.4f}\")\n",
    "    print(f\"Test Precision: {best_model['test_precision']:.4f}\")\n",
    "    print(f\"Test Recall: {best_model['test_recall']:.4f}\")\n",
    "    print(f\"Test F1: {best_model['test_f1']:.4f}\")\n",
    "    print(f\"Run ID: {best_run_id}\")\n",
    "    \n",
    "    # Visualize metrics for the best model\n",
    "    metrics = ['test_accuracy', 'test_precision', 'test_recall', 'test_f1']\n",
    "    metric_values = [best_model[metric] for metric in metrics]\n",
    "    metric_names = ['Accuracy', 'Precision', 'Recall', 'F1']\n",
    "    \n",
    "    plt.figure(figsize=(10, 5))\n",
    "    sns.barplot(x=metric_names, y=metric_values)\n",
    "    plt.title('Best Model Performance Metrics', fontsize=14)\n",
    "    plt.ylabel('Score', fontsize=12)\n",
    "    plt.ylim(0, 1)  # Metrics are between 0 and 1\n",
    "    plt.show()\n",
    "else:\n",
    "    print(\"\\nNo successful model runs found with test_accuracy metric.\")\n",
    "    best_run_id = None"
   ]
  },
  {
   "cell_type": "markdown",
   "id": "e56eec57",
   "metadata": {},
   "source": [
    "## Making Predictions with the Best Model"
   ]
  },
  {
   "cell_type": "code",
   "execution_count": 6,
   "id": "8ad7cc34",
   "metadata": {},
   "outputs": [
    {
     "name": "stdout",
     "output_type": "stream",
     "text": [
      "\n",
      "Predictions with Best Model (Run ID: 16b4597e...):\n",
      "\n",
      "'This product works great!' -> Positive\n",
      "'Terrible experience...' -> Positive\n",
      "'It's just okay, nothing special but does the job' -> Positive\n"
     ]
    }
   ],
   "source": [
    "if best_run_id is not None:\n",
    "    # Prediction with the best model found\n",
    "    texts = np.array([\"This product works great!\", \n",
    "                     \"Terrible experience...\",\n",
    "                     \"It's just okay, nothing special but does the job\"])\n",
    "    predictions = ModelPredictor.predict(best_run_id, texts)\n",
    "\n",
    "    print(f\"\\nPredictions with Best Model (Run ID: {best_run_id[:8]}...):\\n\")\n",
    "    for text, pred in zip(texts, predictions):\n",
    "        sentiment = \"Positive\" if pred == 1 else \"Negative\"\n",
    "        print(f\"'{text}' -> {sentiment}\")"
   ]
  },
  {
   "cell_type": "markdown",
   "id": "4f98fced",
   "metadata": {},
   "source": [
    "## Model Analysis - Feature Importance\n",
    "\n",
    "Let's examine the feature importance from our Random Forest model."
   ]
  },
  {
   "cell_type": "code",
   "execution_count": 7,
   "id": "44f360ad",
   "metadata": {},
   "outputs": [
    {
     "name": "stdout",
     "output_type": "stream",
     "text": [
      "\n",
      "Top 20 Most Important Features:\n",
      "         Feature  Importance\n",
      "0            not    0.017517\n",
      "1          great    0.007832\n",
      "2            but    0.007137\n",
      "3            and    0.006507\n",
      "4            the    0.006181\n",
      "5            was    0.005775\n",
      "6            bad    0.005226\n",
      "7   disappointed    0.005016\n",
      "8             ok    0.004584\n",
      "9          would    0.004419\n",
      "10            it    0.004249\n",
      "11          love    0.004241\n",
      "12            is    0.004205\n",
      "13            be    0.004157\n",
      "14            to    0.004149\n",
      "15            of    0.004116\n",
      "16            my    0.004079\n",
      "17          this    0.003901\n",
      "18           for    0.003768\n",
      "19          best    0.003757\n"
     ]
    },
    {
     "data": {
      "image/png": "[encoded data removed]",
      "text/plain": [
       "<Figure size 1200x800 with 1 Axes>"
      ]
     },
     "metadata": {},
     "output_type": "display_data"
    }
   ],
   "source": [
    "if best_run_id is not None:\n",
    "    # Load the model\n",
    "    model = mlflow.sklearn.load_model(f\"runs:/{best_run_id}/model\")\n",
    "    \n",
    "    # Extract the feature importance\n",
    "    vectorizer = model.named_steps['vectorizer']\n",
    "    classifier = model.named_steps['classifier']\n",
    "    \n",
    "    # Get feature names\n",
    "    feature_names = vectorizer.get_feature_names_out()\n",
    "    \n",
    "    # Get feature importance\n",
    "    importances = classifier.feature_importances_\n",
    "    \n",
    "    # Create DataFrame with feature names and importance\n",
    "    feature_importance_df = pd.DataFrame({\n",
    "        'Feature': feature_names,\n",
    "        'Importance': importances\n",
    "    })\n",
    "    \n",
    "    # Sort by importance\n",
    "    feature_importance_df = feature_importance_df.sort_values('Importance', ascending=False).reset_index(drop=True)\n",
    "    \n",
    "    # Display top 20 features\n",
    "    print(\"\\nTop 20 Most Important Features:\")\n",
    "    print(feature_importance_df.head(20))\n",
    "    \n",
    "    # Plot top 20 features\n",
    "    plt.figure(figsize=(12, 8))\n",
    "    sns.barplot(x='Importance', y='Feature', data=feature_importance_df.head(20))\n",
    "    plt.title('Top 20 Most Important Features', fontsize=14)\n",
    "    plt.xlabel('Importance', fontsize=12)\n",
    "    plt.ylabel('Feature', fontsize=12)\n",
    "    plt.tight_layout()\n",
    "    plt.show()"
   ]
  },
  {
   "cell_type": "markdown",
   "id": "2a069fab",
   "metadata": {},
   "source": [
    "## Testing with Custom Reviews"
   ]
  },
  {
   "cell_type": "code",
   "execution_count": 8,
   "id": "96c877fe",
   "metadata": {},
   "outputs": [
    {
     "name": "stdout",
     "output_type": "stream",
     "text": [
      "Custom Review Predictions:\n",
      "\n",
      "Review 1:\n",
      "Text: This product is amazing! I would definitely recommend it to everyone.\n",
      "Predicted Sentiment: Positive\n",
      "\n",
      "Review 2:\n",
      "Text: The quality is very poor and it broke after just one use. Don't waste your money.\n",
      "Predicted Sentiment: Positive\n",
      "\n",
      "Review 3:\n",
      "Text: It's an okay product, not great but not terrible either.\n",
      "Predicted Sentiment: Positive\n",
      "\n",
      "Review 4:\n",
      "Text: I'm really impressed with how well this works. Exceeds expectations!\n",
      "Predicted Sentiment: Positive\n",
      "\n",
      "Review 5:\n",
      "Text: Worst purchase ever. Complete waste of money and time.\n",
      "Predicted Sentiment: Negative\n"
     ]
    }
   ],
   "source": [
    "# Define custom reviews\n",
    "custom_reviews = np.array([\n",
    "    \"This product is amazing! I would definitely recommend it to everyone.\",\n",
    "    \"The quality is very poor and it broke after just one use. Don't waste your money.\",\n",
    "    \"It's an okay product, not great but not terrible either.\",\n",
    "    \"I'm really impressed with how well this works. Exceeds expectations!\",\n",
    "    \"Worst purchase ever. Complete waste of money and time.\"\n",
    "])\n",
    "\n",
    "if best_run_id is not None:\n",
    "    # Make predictions\n",
    "    predictions = ModelPredictor.predict(best_run_id, custom_reviews)\n",
    "    \n",
    "    # Display results\n",
    "    print(\"Custom Review Predictions:\")\n",
    "    for i, (review, pred) in enumerate(zip(custom_reviews, predictions)):\n",
    "        sentiment = \"Positive\" if pred == 1 else \"Negative\"\n",
    "        print(f\"\\nReview {i+1}:\")\n",
    "        print(f\"Text: {review}\")\n",
    "        print(f\"Predicted Sentiment: {sentiment}\")"
   ]
  }
 ],
 "metadata": {
  "kernelspec": {
   "display_name": "venv",
   "language": "python",
   "name": "python3"
  },
  "language_info": {
   "codemirror_mode": {
    "name": "ipython",
    "version": 3
   },
   "file_extension": ".py",
   "mimetype": "text/x-python",
   "name": "python",
   "nbconvert_exporter": "python",
   "pygments_lexer": "ipython3",
   "version": "3.12.7"
  }
 },
 "nbformat": 4,
 "nbformat_minor": 5
}
