{
 "cells": [
  {
   "cell_type": "markdown",
   "metadata": {},
   "source": [
    "# Hyperparameter Tuning for Sentiment Analysis\n",
    "\n",
    "This notebook demonstrates hyperparameter optimization for a Logistic Regression model to perform sentiment analysis. We'll track experiments with MLflow and find the best model configuration."
   ]
  },
  {
   "cell_type": "markdown",
   "metadata": {},
   "source": [
    "## Setup and Imports"
   ]
  },
  {
   "cell_type": "code",
   "execution_count": 1,
   "metadata": {},
   "outputs": [],
   "source": [
    "import numpy as np\n",
    "import mlflow\n",
    "import pandas as pd\n",
    "\n",
    "import sys\n",
    "sys.path.append('..')\n",
    "from src.models.train_models import ModelTrainer\n",
    "from src.models.predict_models import ModelPredictor\n",
    "from src.config import *"
   ]
  },
  {
   "cell_type": "markdown",
   "metadata": {},
   "source": [
    "## Define Hyperparameter Grid\n",
    "\n",
    "We'll create a grid of hyperparameters to search through:\n",
    "\n",
    "- **C values**: Regularization strength (inverse) - smaller values specify stronger regularization\n",
    "- **Penalty types**: The norm used in penalization (L1 or L2)\n",
    "- **Solver algorithms**: Algorithm for optimization"
   ]
  },
  {
   "cell_type": "code",
   "execution_count": 2,
   "metadata": {},
   "outputs": [],
   "source": [
    "# Define hyperparameter grids to search\n",
    "C_values = [0.1, 0.5, 1.0, 2.0, 5.0]\n",
    "penalty_values = ['l1', 'l2']\n",
    "solver_values = ['liblinear', 'saga']"
   ]
  },
  {
   "cell_type": "markdown",
   "metadata": {},
   "source": [
    "## Hyperparameter Grid Search\n",
    "\n",
    "Now we'll run through all valid combinations of hyperparameters and track the results using MLflow."
   ]
  },
  {
   "cell_type": "code",
   "execution_count": 3,
   "metadata": {},
   "outputs": [
    {
     "name": "stdout",
     "output_type": "stream",
     "text": [
      "Training with C=0.1, Penalty=l1, Solver=liblinear\n",
      "Using active MLflow experiment 'sentiment_classification' with ID 360311621043028179\n"
     ]
    },
    {
     "name": "stderr",
     "output_type": "stream",
     "text": [
      "d:\\Tailieudh\\ML\\Project\\ml-course-shibainu\\venv\\Lib\\site-packages\\tqdm\\auto.py:21: TqdmWarning: IProgress not found. Please update jupyter and ipywidgets. See https://ipywidgets.readthedocs.io/en/stable/user_install.html\n",
      "  from .autonotebook import tqdm as notebook_tqdm\n",
      "Downloading artifacts: 100%|██████████| 7/7 [00:00<00:00, 4652.21it/s]\n"
     ]
    },
    {
     "name": "stdout",
     "output_type": "stream",
     "text": [
      "Training with C=0.1, Penalty=l1, Solver=saga\n",
      "Using active MLflow experiment 'sentiment_classification' with ID 360311621043028179\n"
     ]
    },
    {
     "name": "stderr",
     "output_type": "stream",
     "text": [
      "Downloading artifacts: 100%|██████████| 7/7 [00:00<00:00, 3500.25it/s]\n"
     ]
    },
    {
     "name": "stdout",
     "output_type": "stream",
     "text": [
      "Training with C=0.1, Penalty=l2, Solver=liblinear\n",
      "Using active MLflow experiment 'sentiment_classification' with ID 360311621043028179\n"
     ]
    },
    {
     "name": "stderr",
     "output_type": "stream",
     "text": [
      "Downloading artifacts: 100%|██████████| 7/7 [00:00<00:00, 3498.59it/s]\n"
     ]
    },
    {
     "name": "stdout",
     "output_type": "stream",
     "text": [
      "Training with C=0.1, Penalty=l2, Solver=saga\n",
      "Using active MLflow experiment 'sentiment_classification' with ID 360311621043028179\n"
     ]
    },
    {
     "name": "stderr",
     "output_type": "stream",
     "text": [
      "Downloading artifacts: 100%|██████████| 7/7 [00:00<00:00, 3501.92it/s]\n"
     ]
    },
    {
     "name": "stdout",
     "output_type": "stream",
     "text": [
      "Training with C=0.5, Penalty=l1, Solver=liblinear\n",
      "Using active MLflow experiment 'sentiment_classification' with ID 360311621043028179\n"
     ]
    },
    {
     "name": "stderr",
     "output_type": "stream",
     "text": [
      "Downloading artifacts: 100%|██████████| 7/7 [00:00<00:00, 3505.69it/s]\n"
     ]
    },
    {
     "name": "stdout",
     "output_type": "stream",
     "text": [
      "Training with C=0.5, Penalty=l1, Solver=saga\n",
      "Using active MLflow experiment 'sentiment_classification' with ID 360311621043028179\n"
     ]
    },
    {
     "name": "stderr",
     "output_type": "stream",
     "text": [
      "Downloading artifacts: 100%|██████████| 7/7 [00:00<00:00, 4487.94it/s]\n"
     ]
    },
    {
     "name": "stdout",
     "output_type": "stream",
     "text": [
      "Training with C=0.5, Penalty=l2, Solver=liblinear\n",
      "Using active MLflow experiment 'sentiment_classification' with ID 360311621043028179\n"
     ]
    },
    {
     "name": "stderr",
     "output_type": "stream",
     "text": [
      "Downloading artifacts: 100%|██████████| 7/7 [00:00<00:00, 3490.27it/s]\n"
     ]
    },
    {
     "name": "stdout",
     "output_type": "stream",
     "text": [
      "Training with C=0.5, Penalty=l2, Solver=saga\n",
      "Using active MLflow experiment 'sentiment_classification' with ID 360311621043028179\n"
     ]
    },
    {
     "name": "stderr",
     "output_type": "stream",
     "text": [
      "Downloading artifacts: 100%|██████████| 7/7 [00:00<00:00, 3501.09it/s]\n"
     ]
    },
    {
     "name": "stdout",
     "output_type": "stream",
     "text": [
      "Training with C=1.0, Penalty=l1, Solver=liblinear\n",
      "Using active MLflow experiment 'sentiment_classification' with ID 360311621043028179\n"
     ]
    },
    {
     "name": "stderr",
     "output_type": "stream",
     "text": [
      "Downloading artifacts: 100%|██████████| 7/7 [00:00<00:00, 7000.51it/s]\n"
     ]
    },
    {
     "name": "stdout",
     "output_type": "stream",
     "text": [
      "Training with C=1.0, Penalty=l1, Solver=saga\n",
      "Using active MLflow experiment 'sentiment_classification' with ID 360311621043028179\n"
     ]
    },
    {
     "name": "stderr",
     "output_type": "stream",
     "text": [
      "Downloading artifacts: 100%|██████████| 7/7 [00:00<00:00, 6960.68it/s]\n"
     ]
    },
    {
     "name": "stdout",
     "output_type": "stream",
     "text": [
      "Training with C=1.0, Penalty=l2, Solver=liblinear\n",
      "Using active MLflow experiment 'sentiment_classification' with ID 360311621043028179\n"
     ]
    },
    {
     "name": "stderr",
     "output_type": "stream",
     "text": [
      "Downloading artifacts: 100%|██████████| 7/7 [00:00<00:00, 7015.56it/s]\n"
     ]
    },
    {
     "name": "stdout",
     "output_type": "stream",
     "text": [
      "Training with C=1.0, Penalty=l2, Solver=saga\n",
      "Using active MLflow experiment 'sentiment_classification' with ID 360311621043028179\n"
     ]
    },
    {
     "name": "stderr",
     "output_type": "stream",
     "text": [
      "Downloading artifacts: 100%|██████████| 7/7 [00:00<00:00, 3497.75it/s]\n"
     ]
    },
    {
     "name": "stdout",
     "output_type": "stream",
     "text": [
      "Training with C=2.0, Penalty=l1, Solver=liblinear\n",
      "Using active MLflow experiment 'sentiment_classification' with ID 360311621043028179\n"
     ]
    },
    {
     "name": "stderr",
     "output_type": "stream",
     "text": [
      "Downloading artifacts: 100%|██████████| 7/7 [00:00<00:00, 3339.03it/s]\n"
     ]
    },
    {
     "name": "stdout",
     "output_type": "stream",
     "text": [
      "Training with C=2.0, Penalty=l1, Solver=saga\n",
      "Using active MLflow experiment 'sentiment_classification' with ID 360311621043028179\n"
     ]
    },
    {
     "name": "stderr",
     "output_type": "stream",
     "text": [
      "d:\\Tailieudh\\ML\\Project\\ml-course-shibainu\\venv\\Lib\\site-packages\\sklearn\\linear_model\\_sag.py:348: ConvergenceWarning: The max_iter was reached which means the coef_ did not converge\n",
      "  warnings.warn(\n",
      "Downloading artifacts: 100%|██████████| 7/7 [00:00<00:00, 3500.67it/s]\n"
     ]
    },
    {
     "name": "stdout",
     "output_type": "stream",
     "text": [
      "Training with C=2.0, Penalty=l2, Solver=liblinear\n",
      "Using active MLflow experiment 'sentiment_classification' with ID 360311621043028179\n"
     ]
    },
    {
     "name": "stderr",
     "output_type": "stream",
     "text": [
      "Downloading artifacts: 100%|██████████| 7/7 [00:00<00:00, 3498.59it/s]\n"
     ]
    },
    {
     "name": "stdout",
     "output_type": "stream",
     "text": [
      "Training with C=2.0, Penalty=l2, Solver=saga\n",
      "Using active MLflow experiment 'sentiment_classification' with ID 360311621043028179\n"
     ]
    },
    {
     "name": "stderr",
     "output_type": "stream",
     "text": [
      "Downloading artifacts: 100%|██████████| 7/7 [00:00<00:00, 2311.64it/s]\n"
     ]
    },
    {
     "name": "stdout",
     "output_type": "stream",
     "text": [
      "Training with C=5.0, Penalty=l1, Solver=liblinear\n",
      "Using active MLflow experiment 'sentiment_classification' with ID 360311621043028179\n"
     ]
    },
    {
     "name": "stderr",
     "output_type": "stream",
     "text": [
      "Downloading artifacts: 100%|██████████| 7/7 [00:00<00:00, 7002.18it/s]\n"
     ]
    },
    {
     "name": "stdout",
     "output_type": "stream",
     "text": [
      "Training with C=5.0, Penalty=l1, Solver=saga\n",
      "Using active MLflow experiment 'sentiment_classification' with ID 360311621043028179\n"
     ]
    },
    {
     "name": "stderr",
     "output_type": "stream",
     "text": [
      "d:\\Tailieudh\\ML\\Project\\ml-course-shibainu\\venv\\Lib\\site-packages\\sklearn\\linear_model\\_sag.py:348: ConvergenceWarning: The max_iter was reached which means the coef_ did not converge\n",
      "  warnings.warn(\n",
      "Downloading artifacts: 100%|██████████| 7/7 [00:00<00:00, 3452.51it/s]\n"
     ]
    },
    {
     "name": "stdout",
     "output_type": "stream",
     "text": [
      "Training with C=5.0, Penalty=l2, Solver=liblinear\n",
      "Using active MLflow experiment 'sentiment_classification' with ID 360311621043028179\n"
     ]
    },
    {
     "name": "stderr",
     "output_type": "stream",
     "text": [
      "Downloading artifacts: 100%|██████████| 7/7 [00:00<00:00, 3500.25it/s]\n"
     ]
    },
    {
     "name": "stdout",
     "output_type": "stream",
     "text": [
      "Training with C=5.0, Penalty=l2, Solver=saga\n",
      "Using active MLflow experiment 'sentiment_classification' with ID 360311621043028179\n"
     ]
    },
    {
     "name": "stderr",
     "output_type": "stream",
     "text": [
      "Downloading artifacts: 100%|██████████| 7/7 [00:00<00:00, 3502.34it/s]\n"
     ]
    }
   ],
   "source": [
    "results = []\n",
    "\n",
    "for c in C_values:\n",
    "    for penalty in penalty_values:\n",
    "        for solver in solver_values:\n",
    "            # Skip invalid combinations for solvers\n",
    "            if solver == 'liblinear' and penalty == 'elasticnet':\n",
    "                continue\n",
    "            if solver == 'saga' and penalty not in ['l1', 'l2', 'elasticnet', 'none']:\n",
    "                continue\n",
    "            if solver != 'liblinear' and penalty == 'l1': # Only liblinear and saga support l1\n",
    "                if solver != 'saga':\n",
    "                    continue\n",
    "\n",
    "            print(f\"Training with C={c}, Penalty={penalty}, Solver={solver}\")\n",
    "            try:\n",
    "                run_id = ModelTrainer.logistic_regression(C=c, penalty=penalty, solver=solver)\n",
    "\n",
    "                with mlflow.start_run(run_id=run_id):\n",
    "                    run = mlflow.get_run(run_id)\n",
    "                    metrics = run.data.metrics\n",
    "                    params = run.data.params\n",
    "\n",
    "                    results.append({\n",
    "                        'run_id': run_id,\n",
    "                        'C': params.get('C'),\n",
    "                        'penalty': params.get('penalty'),\n",
    "                        'solver': params.get('solver'),\n",
    "                        'train_accuracy': metrics.get('train_accuracy'),\n",
    "                        'test_accuracy': metrics.get('test_accuracy'),\n",
    "                        'test_precision': metrics.get('test_precision'),\n",
    "                        'test_recall': metrics.get('test_recall'),\n",
    "                        'test_f1': metrics.get('test_f1'),\n",
    "                    })\n",
    "            except Exception as e:\n",
    "                print(f\"Error training with C={c}, Penalty={penalty}, Solver={solver}: {e}\")\n",
    "                continue"
   ]
  },
  {
   "cell_type": "markdown",
   "metadata": {},
   "source": [
    "## Print All Model Test Accuracies\n",
    "\n",
    "Let's display the test accuracies for all models, sorted by performance."
   ]
  },
  {
   "cell_type": "code",
   "execution_count": 4,
   "metadata": {},
   "outputs": [
    {
     "name": "stdout",
     "output_type": "stream",
     "text": [
      "\n",
      "All Models Test Accuracies (sorted):\n",
      "\n",
      "  C penalty    solver  test_accuracy\n",
      "5.0      l2 liblinear       0.878992\n",
      "5.0      l2      saga       0.878992\n",
      "2.0      l2      saga       0.875250\n",
      "2.0      l2 liblinear       0.875250\n",
      "5.0      l1 liblinear       0.873503\n",
      "5.0      l1      saga       0.872505\n",
      "2.0      l1      saga       0.871507\n",
      "2.0      l1 liblinear       0.871507\n",
      "1.0      l1 liblinear       0.868014\n",
      "1.0      l1      saga       0.868014\n",
      "1.0      l2 liblinear       0.867265\n",
      "1.0      l2      saga       0.867265\n",
      "0.5      l1 liblinear       0.855788\n",
      "0.5      l1      saga       0.855788\n",
      "0.5      l2 liblinear       0.850299\n",
      "0.5      l2      saga       0.850299\n",
      "0.1      l2 liblinear       0.788174\n",
      "0.1      l2      saga       0.787425\n",
      "0.1      l1 liblinear       0.786677\n",
      "0.1      l1      saga       0.786677\n"
     ]
    },
    {
     "data": {
      "image/png": "[encoded data removed]",
      "text/plain": [
       "<Figure size 1200x600 with 1 Axes>"
      ]
     },
     "metadata": {},
     "output_type": "display_data"
    }
   ],
   "source": [
    "# Create dataframe from results\n",
    "results_df = pd.DataFrame(results)\n",
    "\n",
    "# Print all model test accuracies, sorted from best to worst\n",
    "if not results_df.empty and 'test_accuracy' in results_df.columns:\n",
    "    sorted_results = results_df.sort_values('test_accuracy', ascending=False)\n",
    "    \n",
    "    print(\"\\nAll Models Test Accuracies (sorted):\\n\")\n",
    "    print(sorted_results[['C', 'penalty', 'solver', 'test_accuracy']].to_string(index=False))\n",
    "    \n",
    "    # Create a combined label for each configuration\n",
    "    sorted_results['config'] = sorted_results.apply(\n",
    "        lambda row: f\"C={row['C']}, {row['penalty']}, {row['solver']}\", axis=1)\n",
    "    \n",
    "    # Plot with the combined label\n",
    "    sorted_results.plot(\n",
    "        kind='bar', x='config', y='test_accuracy', figsize=(12, 6),\n",
    "        title='Test Accuracy by Hyperparameter Configuration'\n",
    "    )\n",
    "else:\n",
    "    print(\"\\nNo successful model runs found with test_accuracy metric.\")"
   ]
  },
  {
   "cell_type": "markdown",
   "metadata": {},
   "source": [
    "## Analyzing Results and Finding the Best Model"
   ]
  },
  {
   "cell_type": "code",
   "execution_count": 5,
   "metadata": {},
   "outputs": [
    {
     "name": "stdout",
     "output_type": "stream",
     "text": [
      "\n",
      "Best model:\n",
      "C: 5.0, Penalty: l2, Solver: liblinear\n",
      "Test Accuracy: 0.8790\n",
      "Test F1: 0.8734\n",
      "Test Precision: 0.8743\n",
      "Test Recall: 0.8790\n",
      "Train Accuracy: 0.9468\n",
      "Run ID: b2f3b85cf6c04931a3fb1b8f21f5c8f0\n"
     ]
    }
   ],
   "source": [
    "# Find the best model\n",
    "if not results_df.empty and 'test_accuracy' in results_df.columns:\n",
    "    best_model = results_df.loc[results_df['test_accuracy'].idxmax()]\n",
    "    best_run_id = best_model['run_id']\n",
    "    \n",
    "    print(\"\\nBest model:\")\n",
    "    print(f\"C: {best_model['C']}, Penalty: {best_model['penalty']}, Solver: {best_model['solver']}\")\n",
    "    \n",
    "    # Print test metrics\n",
    "    print(f\"Test Accuracy: {best_model['test_accuracy']:.4f}\")\n",
    "    \n",
    "    # Check and print other test metrics if they exist\n",
    "    for metric in ['test_f1', 'test_precision', 'test_recall']:\n",
    "        if metric in best_model:\n",
    "            print(f\"{metric.replace('_', ' ').title()}: {best_model[metric]:.4f}\")\n",
    "    \n",
    "    # Print train metrics\n",
    "    if 'train_accuracy' in best_model:\n",
    "        print(f\"Train Accuracy: {best_model['train_accuracy']:.4f}\")\n",
    "    \n",
    "    # Check and print other train metrics if they exist\n",
    "    for metric in ['train_f1', 'train_precision', 'train_recall']:\n",
    "        if metric in best_model:\n",
    "            print(f\"{metric.replace('_', ' ').title()}: {best_model[metric]:.4f}\")\n",
    "    \n",
    "    print(f\"Run ID: {best_run_id}\")\n",
    "else:\n",
    "    print(\"\\nNo successful model runs found with test_accuracy metric.\")\n",
    "    best_run_id = None"
   ]
  },
  {
   "cell_type": "markdown",
   "metadata": {},
   "source": [
    "## Making Predictions with the Best Model"
   ]
  },
  {
   "cell_type": "code",
   "execution_count": 6,
   "metadata": {},
   "outputs": [
    {
     "name": "stdout",
     "output_type": "stream",
     "text": [
      "\n",
      "Predictions with Best Model (Run ID: b2f3b85c...):\n",
      "\n",
      "'This product works great!' -> Positive\n",
      "'Terrible experience...' -> Negative\n"
     ]
    }
   ],
   "source": [
    "if best_run_id is not None:\n",
    "    # Prediction with the best model found\n",
    "    texts = np.array([\"This product works great!\", \"Terrible experience...\"])\n",
    "    predictions = ModelPredictor.predict(best_run_id, texts)\n",
    "\n",
    "    print(f\"\\nPredictions with Best Model (Run ID: {best_run_id[:8]}...):\\n\")\n",
    "    for text, pred in zip(texts, predictions):\n",
    "        sentiment = \"Positive\" if pred == 1 else \"Negative\"\n",
    "        print(f\"'{text}' -> {sentiment}\")"
   ]
  }
 ],
 "metadata": {
  "kernelspec": {
   "display_name": "venv",
   "language": "python",
   "name": "python3"
  },
  "language_info": {
   "codemirror_mode": {
    "name": "ipython",
    "version": 3
   },
   "file_extension": ".py",
   "mimetype": "text/x-python",
   "name": "python",
   "nbconvert_exporter": "python",
   "pygments_lexer": "ipython3",
   "version": "3.12.9"
  }
 },
 "nbformat": 4,
 "nbformat_minor": 4
}
