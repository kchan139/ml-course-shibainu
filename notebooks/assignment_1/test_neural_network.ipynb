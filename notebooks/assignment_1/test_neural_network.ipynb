{
 "cells": [
  {
   "cell_type": "markdown",
   "metadata": {},
   "source": [
    "# Neural Network Model Testing\n",
    "\n",
    "This notebook tests the neural network model for sentiment prediction on news headlines."
   ]
  },
  {
   "cell_type": "code",
   "execution_count": 1,
   "metadata": {},
   "outputs": [
    {
     "name": "stderr",
     "output_type": "stream",
     "text": [
      "[nltk_data] Downloading package punkt to\n",
      "[nltk_data]     C:\\Users\\PC\\AppData\\Roaming\\nltk_data...\n",
      "[nltk_data]   Package punkt is already up-to-date!\n",
      "[nltk_data] Downloading package stopwords to\n",
      "[nltk_data]     C:\\Users\\PC\\AppData\\Roaming\\nltk_data...\n",
      "[nltk_data]   Package stopwords is already up-to-date!\n",
      "[nltk_data] Downloading package wordnet to\n",
      "[nltk_data]     C:\\Users\\PC\\AppData\\Roaming\\nltk_data...\n",
      "[nltk_data]   Package wordnet is already up-to-date!\n",
      "d:\\Documents\\CODE\\HCMUT\\Machine Learning Assignment\\venv\\Lib\\site-packages\\tqdm\\auto.py:21: TqdmWarning: IProgress not found. Please update jupyter and ipywidgets. See https://ipywidgets.readthedocs.io/en/stable/user_install.html\n",
      "  from .autonotebook import tqdm as notebook_tqdm\n"
     ]
    }
   ],
   "source": [
    "# Import necessary libraries\n",
    "import sys\n",
    "import os\n",
    "import pandas as pd\n",
    "from pathlib import Path\n",
    "\n",
    "# Add project root to path for imports\n",
    "sys.path.append(os.path.abspath('../..'))\n",
    "\n",
    "# Import project modules\n",
    "from src.models.predict_model import ModelPredictor\n",
    "from src.models.train_model import ModelTrainer\n",
    "from src.config import *"
   ]
  },
  {
   "cell_type": "markdown",
   "metadata": {},
   "source": [
    "## 1. Initialize the Model Predictor\n",
    "\n",
    "We'll initialize the ModelPredictor class that will use our trained neural network model."
   ]
  },
  {
   "cell_type": "code",
   "execution_count": 30,
   "metadata": {},
   "outputs": [
    {
     "name": "stdout",
     "output_type": "stream",
     "text": [
      "Starting RNN model training...\n",
      "Class weights for balancing: {0: np.float64(2.6749482401656315), 1: np.float64(0.5610073816760747), 2: np.float64(1.1853211009174311)}\n",
      "Epoch 1/20\n",
      "\u001b[1m1550/1550\u001b[0m \u001b[32m━━━━━━━━━━━━━━━━━━━━\u001b[0m\u001b[37m\u001b[0m \u001b[1m31s\u001b[0m 16ms/step - accuracy: 0.4762 - loss: 1.1039 - val_accuracy: 0.6546 - val_loss: 0.8579 - learning_rate: 0.0010\n",
      "Epoch 2/20\n",
      "\u001b[1m1550/1550\u001b[0m \u001b[32m━━━━━━━━━━━━━━━━━━━━\u001b[0m\u001b[37m\u001b[0m \u001b[1m25s\u001b[0m 16ms/step - accuracy: 0.6787 - loss: 0.8264 - val_accuracy: 0.6753 - val_loss: 0.7579 - learning_rate: 0.0010\n",
      "Epoch 3/20\n",
      "\u001b[1m1550/1550\u001b[0m \u001b[32m━━━━━━━━━━━━━━━━━━━━\u001b[0m\u001b[37m\u001b[0m \u001b[1m23s\u001b[0m 15ms/step - accuracy: 0.8098 - loss: 0.5759 - val_accuracy: 0.7191 - val_loss: 0.7573 - learning_rate: 0.0010\n",
      "Epoch 4/20\n",
      "\u001b[1m1550/1550\u001b[0m \u001b[32m━━━━━━━━━━━━━━━━━━━━\u001b[0m\u001b[37m\u001b[0m \u001b[1m24s\u001b[0m 16ms/step - accuracy: 0.8860 - loss: 0.3470 - val_accuracy: 0.7113 - val_loss: 0.8725 - learning_rate: 0.0010\n",
      "Epoch 5/20\n",
      "\u001b[1m1550/1550\u001b[0m \u001b[32m━━━━━━━━━━━━━━━━━━━━\u001b[0m\u001b[37m\u001b[0m \u001b[1m22s\u001b[0m 14ms/step - accuracy: 0.9301 - loss: 0.2496 - val_accuracy: 0.7332 - val_loss: 0.9755 - learning_rate: 0.0010\n",
      "Epoch 6/20\n",
      "\u001b[1m1550/1550\u001b[0m \u001b[32m━━━━━━━━━━━━━━━━━━━━\u001b[0m\u001b[37m\u001b[0m \u001b[1m22s\u001b[0m 14ms/step - accuracy: 0.9504 - loss: 0.1717 - val_accuracy: 0.7204 - val_loss: 1.1312 - learning_rate: 5.0000e-04\n",
      "Epoch 7/20\n",
      "\u001b[1m1550/1550\u001b[0m \u001b[32m━━━━━━━━━━━━━━━━━━━━\u001b[0m\u001b[37m\u001b[0m \u001b[1m23s\u001b[0m 15ms/step - accuracy: 0.9643 - loss: 0.1312 - val_accuracy: 0.7358 - val_loss: 1.2575 - learning_rate: 5.0000e-04\n",
      "Epoch 8/20\n",
      "\u001b[1m1550/1550\u001b[0m \u001b[32m━━━━━━━━━━━━━━━━━━━━\u001b[0m\u001b[37m\u001b[0m \u001b[1m23s\u001b[0m 15ms/step - accuracy: 0.9611 - loss: 0.1210 - val_accuracy: 0.7307 - val_loss: 1.4383 - learning_rate: 2.5000e-04\n",
      "\u001b[1m31/31\u001b[0m \u001b[32m━━━━━━━━━━━━━━━━━━━━\u001b[0m\u001b[37m\u001b[0m \u001b[1m1s\u001b[0m 23ms/step\n",
      "Test Accuracy: 0.6577\n",
      "              precision    recall  f1-score   support\n",
      "\n",
      "           0       0.42      0.83      0.55       121\n",
      "           1       0.84      0.67      0.74       576\n",
      "           2       0.57      0.56      0.56       273\n",
      "\n",
      "    accuracy                           0.66       970\n",
      "   macro avg       0.61      0.69      0.62       970\n",
      "weighted avg       0.71      0.66      0.67       970\n",
      "\n",
      "Prediction class distribution:\n",
      "Class 0: 243 predictions\n",
      "Class 1: 458 predictions\n",
      "Class 2: 269 predictions\n"
     ]
    }
   ],
   "source": [
    "model_dir = Path(MODEL_DIR)\n",
    "models = list(model_dir.glob('*rrnn_*.pkl'))\n",
    "# if not models:\n",
    "#     model_dir = Path(EXPERIMENT_DIR)\n",
    "#     models = list(model_dir.glob('*rnn_*.pkl'))\n",
    "if not models:\n",
    "    trainer = ModelTrainer()\n",
    "    trainer.train_neural_network(batch_size=2)\n",
    "\n",
    "# Initialize the predictor\n",
    "predictor = ModelPredictor()"
   ]
  },
  {
   "cell_type": "markdown",
   "metadata": {},
   "source": [
    "## 2. Test Single Headline Prediction\n",
    "\n",
    "Let's test the model on a single headline first to check if everything is working."
   ]
  },
  {
   "cell_type": "code",
   "execution_count": 31,
   "metadata": {},
   "outputs": [
    {
     "name": "stdout",
     "output_type": "stream",
     "text": [
      "Using most recent model: d:\\Documents\\CODE\\HCMUT\\Machine Learning Assignment\\models\\experiments\\rnn_20250304_190812.pkl\n",
      "\u001b[1m1/1\u001b[0m \u001b[32m━━━━━━━━━━━━━━━━━━━━\u001b[0m\u001b[37m\u001b[0m \u001b[1m1s\u001b[0m 514ms/step\n",
      "Prediction class distribution:\n",
      "negative (class 0): 0 predictions\n",
      "neutral (class 1): 1 predictions\n",
      "positive (class 2): 0 predictions\n",
      "\n",
      "Headline: Company profits exceed expectations in Q1 2025\n",
      "Predicted Sentiment: neutral\n",
      "Confidence: 0.66\n",
      "\n",
      "All Probabilities:\n",
      "- negative: 0.12\n",
      "- neutral: 0.66\n",
      "- positive: 0.22\n"
     ]
    }
   ],
   "source": [
    "# Test with a single positive headline\n",
    "test_headline = \"Company profits exceed expectations in Q1 2025\"\n",
    "result = predictor.predict_neural_network(test_headline)\n",
    "\n",
    "# Display the result\n",
    "if result:\n",
    "    r = result[0]  # Get the first result\n",
    "    print(f\"\\nHeadline: {r['headline']}\")\n",
    "    print(f\"Predicted Sentiment: {r['sentiment']}\")\n",
    "    print(f\"Confidence: {r['confidence']:.2f}\")\n",
    "    \n",
    "    print(\"\\nAll Probabilities:\")\n",
    "    for sentiment, prob in r['probabilities'].items():\n",
    "        print(f\"- {sentiment}: {prob:.2f}\")\n",
    "else:\n",
    "    print(\"Prediction failed or no model found.\")"
   ]
  },
  {
   "cell_type": "markdown",
   "metadata": {},
   "source": [
    "## 3. Test Multiple Headlines\n",
    "\n",
    "Now let's test the model on multiple headlines with different expected sentiments."
   ]
  },
  {
   "cell_type": "code",
   "execution_count": 32,
   "metadata": {},
   "outputs": [
    {
     "name": "stdout",
     "output_type": "stream",
     "text": [
      "Using most recent model: d:\\Documents\\CODE\\HCMUT\\Machine Learning Assignment\\models\\experiments\\rnn_20250304_190812.pkl\n",
      "\u001b[1m1/1\u001b[0m \u001b[32m━━━━━━━━━━━━━━━━━━━━\u001b[0m\u001b[37m\u001b[0m \u001b[1m1s\u001b[0m 565ms/step\n",
      "Prediction class distribution:\n",
      "negative (class 0): 3 predictions\n",
      "neutral (class 1): 0 predictions\n",
      "positive (class 2): 2 predictions\n",
      "Headline: Stock market reaches all-time high as investor confidence grows\n",
      "Predicted Sentiment: negative (confidence: 0.43)\n",
      "\n",
      "Headline: Major company announces significant layoffs due to economic downturn\n",
      "Predicted Sentiment: positive (confidence: 0.28)\n",
      "\n",
      "Headline: Global trade continues at steady pace despite mild fluctuations\n",
      "Predicted Sentiment: negative (confidence: 0.44)\n",
      "\n",
      "Headline: Tech giant releases new product line with innovative features\n",
      "Predicted Sentiment: positive (confidence: 0.36)\n",
      "\n",
      "Headline: Retail sales decline for third consecutive quarter\n",
      "Predicted Sentiment: negative (confidence: 0.87)\n",
      "\n"
     ]
    }
   ],
   "source": [
    "# Test with multiple headlines\n",
    "test_headlines = [\n",
    "    \"Stock market reaches all-time high as investor confidence grows\",\n",
    "    \"Major company announces significant layoffs due to economic downturn\",\n",
    "    \"Global trade continues at steady pace despite mild fluctuations\",\n",
    "    \"Tech giant releases new product line with innovative features\",\n",
    "    \"Retail sales decline for third consecutive quarter\"\n",
    "]\n",
    "\n",
    "results = predictor.predict_neural_network(test_headlines)\n",
    "\n",
    "# Display the results\n",
    "if results:\n",
    "    for r in results:\n",
    "        print(f\"Headline: {r['headline']}\")\n",
    "        print(f\"Predicted Sentiment: {r['sentiment']} (confidence: {r['confidence']:.2f})\")\n",
    "        print()\n",
    "else:\n",
    "    print(\"Prediction failed or no model found.\")"
   ]
  },
  {
   "cell_type": "markdown",
   "metadata": {},
   "source": [
    "## 4. Test on Real Dataset\n",
    "\n",
    "Let's load a sample of the test dataset and predict sentiments."
   ]
  },
  {
   "cell_type": "code",
   "execution_count": 33,
   "metadata": {},
   "outputs": [
    {
     "name": "stdout",
     "output_type": "stream",
     "text": [
      "Loaded test data with 4846 headlines\n"
     ]
    },
    {
     "data": {
      "text/html": [
       "<div>\n",
       "<style scoped>\n",
       "    .dataframe tbody tr th:only-of-type {\n",
       "        vertical-align: middle;\n",
       "    }\n",
       "\n",
       "    .dataframe tbody tr th {\n",
       "        vertical-align: top;\n",
       "    }\n",
       "\n",
       "    .dataframe thead th {\n",
       "        text-align: right;\n",
       "    }\n",
       "</style>\n",
       "<table border=\"1\" class=\"dataframe\">\n",
       "  <thead>\n",
       "    <tr style=\"text-align: right;\">\n",
       "      <th></th>\n",
       "      <th>Sentiment</th>\n",
       "      <th>News Headline</th>\n",
       "    </tr>\n",
       "  </thead>\n",
       "  <tbody>\n",
       "    <tr>\n",
       "      <th>0</th>\n",
       "      <td>neutral</td>\n",
       "      <td>According to Gran , the company has no plans t...</td>\n",
       "    </tr>\n",
       "    <tr>\n",
       "      <th>1</th>\n",
       "      <td>neutral</td>\n",
       "      <td>Technopolis plans to develop in stages an area...</td>\n",
       "    </tr>\n",
       "    <tr>\n",
       "      <th>2</th>\n",
       "      <td>negative</td>\n",
       "      <td>The international electronic industry company ...</td>\n",
       "    </tr>\n",
       "    <tr>\n",
       "      <th>3</th>\n",
       "      <td>positive</td>\n",
       "      <td>With the new production plant the company woul...</td>\n",
       "    </tr>\n",
       "    <tr>\n",
       "      <th>4</th>\n",
       "      <td>positive</td>\n",
       "      <td>According to the company 's updated strategy f...</td>\n",
       "    </tr>\n",
       "    <tr>\n",
       "      <th>...</th>\n",
       "      <td>...</td>\n",
       "      <td>...</td>\n",
       "    </tr>\n",
       "    <tr>\n",
       "      <th>95</th>\n",
       "      <td>positive</td>\n",
       "      <td>Finnish financial group Aktia reports operatin...</td>\n",
       "    </tr>\n",
       "    <tr>\n",
       "      <th>96</th>\n",
       "      <td>positive</td>\n",
       "      <td>Finnish high technology provider Vaahto Group ...</td>\n",
       "    </tr>\n",
       "    <tr>\n",
       "      <th>97</th>\n",
       "      <td>positive</td>\n",
       "      <td>Net sales of Finnish food industry company L+�...</td>\n",
       "    </tr>\n",
       "    <tr>\n",
       "      <th>98</th>\n",
       "      <td>positive</td>\n",
       "      <td>An individual promotion also generated slightl...</td>\n",
       "    </tr>\n",
       "    <tr>\n",
       "      <th>99</th>\n",
       "      <td>positive</td>\n",
       "      <td>Biohit already services many current Genesis c...</td>\n",
       "    </tr>\n",
       "  </tbody>\n",
       "</table>\n",
       "<p>100 rows × 2 columns</p>\n",
       "</div>"
      ],
      "text/plain": [
       "   Sentiment                                      News Headline\n",
       "0    neutral  According to Gran , the company has no plans t...\n",
       "1    neutral  Technopolis plans to develop in stages an area...\n",
       "2   negative  The international electronic industry company ...\n",
       "3   positive  With the new production plant the company woul...\n",
       "4   positive  According to the company 's updated strategy f...\n",
       "..       ...                                                ...\n",
       "95  positive  Finnish financial group Aktia reports operatin...\n",
       "96  positive  Finnish high technology provider Vaahto Group ...\n",
       "97  positive  Net sales of Finnish food industry company L+�...\n",
       "98  positive  An individual promotion also generated slightl...\n",
       "99  positive  Biohit already services many current Genesis c...\n",
       "\n",
       "[100 rows x 2 columns]"
      ]
     },
     "execution_count": 33,
     "metadata": {},
     "output_type": "execute_result"
    }
   ],
   "source": [
    "# Load test dataset\n",
    "test_data_path = os.path.join(RAW_DATA_PATH, \"all-data.csv\")\n",
    "test_df = pd.read_csv(test_data_path)\n",
    "\n",
    "print(f\"Loaded test data with {len(test_df)} headlines\")\n",
    "\n",
    "# Show a few examples\n",
    "test_df.head(100)\n"
   ]
  },
  {
   "cell_type": "code",
   "execution_count": 34,
   "metadata": {},
   "outputs": [
    {
     "name": "stdout",
     "output_type": "stream",
     "text": [
      "Using most recent model: d:\\Documents\\CODE\\HCMUT\\Machine Learning Assignment\\models\\experiments\\rnn_20250304_190812.pkl\n",
      "\u001b[1m152/152\u001b[0m \u001b[32m━━━━━━━━━━━━━━━━━━━━\u001b[0m\u001b[37m\u001b[0m \u001b[1m2s\u001b[0m 9ms/step\n",
      "Prediction class distribution:\n",
      "negative (class 0): 1195 predictions\n",
      "neutral (class 1): 2325 predictions\n",
      "positive (class 2): 1326 predictions\n",
      "Predictions completed\n"
     ]
    },
    {
     "data": {
      "text/html": [
       "<div>\n",
       "<style scoped>\n",
       "    .dataframe tbody tr th:only-of-type {\n",
       "        vertical-align: middle;\n",
       "    }\n",
       "\n",
       "    .dataframe tbody tr th {\n",
       "        vertical-align: top;\n",
       "    }\n",
       "\n",
       "    .dataframe thead th {\n",
       "        text-align: right;\n",
       "    }\n",
       "</style>\n",
       "<table border=\"1\" class=\"dataframe\">\n",
       "  <thead>\n",
       "    <tr style=\"text-align: right;\">\n",
       "      <th></th>\n",
       "      <th>Actual Sentiment</th>\n",
       "      <th>News Headline</th>\n",
       "      <th>Predicted Sentiment</th>\n",
       "      <th>Confidence</th>\n",
       "    </tr>\n",
       "  </thead>\n",
       "  <tbody>\n",
       "    <tr>\n",
       "      <th>0</th>\n",
       "      <td>neutral</td>\n",
       "      <td>According to Gran , the company has no plans t...</td>\n",
       "      <td>positive</td>\n",
       "      <td>0.41</td>\n",
       "    </tr>\n",
       "    <tr>\n",
       "      <th>1</th>\n",
       "      <td>neutral</td>\n",
       "      <td>Technopolis plans to develop in stages an area...</td>\n",
       "      <td>positive</td>\n",
       "      <td>0.25</td>\n",
       "    </tr>\n",
       "    <tr>\n",
       "      <th>2</th>\n",
       "      <td>negative</td>\n",
       "      <td>The international electronic industry company ...</td>\n",
       "      <td>negative</td>\n",
       "      <td>0.74</td>\n",
       "    </tr>\n",
       "  </tbody>\n",
       "</table>\n",
       "</div>"
      ],
      "text/plain": [
       "  Actual Sentiment                                      News Headline  \\\n",
       "0          neutral  According to Gran , the company has no plans t...   \n",
       "1          neutral  Technopolis plans to develop in stages an area...   \n",
       "2         negative  The international electronic industry company ...   \n",
       "\n",
       "  Predicted Sentiment  Confidence  \n",
       "0            positive        0.41  \n",
       "1            positive        0.25  \n",
       "2            negative        0.74  "
      ]
     },
     "execution_count": 34,
     "metadata": {},
     "output_type": "execute_result"
    }
   ],
   "source": [
    "# Make predictions\n",
    "headlines = test_df[' News Headline'].tolist()\n",
    "results = predictor.predict_neural_network(headlines)\n",
    "\n",
    "# Create a dataframe with predictions\n",
    "if results:\n",
    "    predicted_sentiments = [r['sentiment'] for r in results]\n",
    "    confidence_scores = [round(r['confidence'], 2) for r in results]\n",
    "    \n",
    "    # Add predictions to the dataframe\n",
    "    results_df = test_df.copy()\n",
    "    results_df = results_df.rename(columns={'Sentiment': 'Actual Sentiment'})\n",
    "    results_df['Predicted Sentiment'] = predicted_sentiments\n",
    "    results_df['Confidence'] = confidence_scores\n",
    "    \n",
    "    print(f\"Predictions completed\")\n",
    "else:\n",
    "    print(\"Prediction failed or no model found.\")\n",
    "\n",
    "# Show some results\n",
    "results_df.head(3)"
   ]
  },
  {
   "cell_type": "markdown",
   "metadata": {},
   "source": [
    "## 5. Model Evaluation\n",
    "\n",
    "Let's evaluate the model's performance on the test dataset."
   ]
  },
  {
   "cell_type": "code",
   "execution_count": 35,
   "metadata": {},
   "outputs": [
    {
     "name": "stdout",
     "output_type": "stream",
     "text": [
      "              precision    recall  f1-score   support\n",
      "\n",
      "    negative       0.47      0.93      0.62       604\n",
      "     neutral       0.93      0.75      0.83      2879\n",
      "    positive       0.70      0.68      0.69      1363\n",
      "\n",
      "    accuracy                           0.75      4846\n",
      "   macro avg       0.70      0.79      0.71      4846\n",
      "weighted avg       0.81      0.75      0.76      4846\n",
      "\n"
     ]
    }
   ],
   "source": [
    "from sklearn.metrics import classification_report\n",
    "\n",
    "# Calculate metrics\n",
    "y_true = results_df['Actual Sentiment']\n",
    "y_pred = results_df['Predicted Sentiment']\n",
    "\n",
    "# Print classification report\n",
    "print(classification_report(y_true, y_pred))"
   ]
  },
  {
   "cell_type": "code",
   "execution_count": 36,
   "metadata": {},
   "outputs": [
    {
     "data": {
      "text/plain": [
       "True     3642\n",
       "False    1204\n",
       "Name: count, dtype: int64"
      ]
     },
     "execution_count": 36,
     "metadata": {},
     "output_type": "execute_result"
    }
   ],
   "source": [
    "true = results_df['Predicted Sentiment'] == results_df['Actual Sentiment']\n",
    "true.value_counts()"
   ]
  }
 ],
 "metadata": {
  "kernelspec": {
   "display_name": "venv",
   "language": "python",
   "name": "python3"
  },
  "language_info": {
   "codemirror_mode": {
    "name": "ipython",
    "version": 3
   },
   "file_extension": ".py",
   "mimetype": "text/x-python",
   "name": "python",
   "nbconvert_exporter": "python",
   "pygments_lexer": "ipython3",
   "version": "3.12.9"
  }
 },
 "nbformat": 4,
 "nbformat_minor": 2
}
