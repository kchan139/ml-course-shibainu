{
 "cells": [
  {
   "cell_type": "markdown",
   "metadata": {},
   "source": [
    "# Neural Network Model Testing\n",
    "\n",
    "This notebook tests the neural network model for sentiment prediction on news headlines."
   ]
  },
  {
   "cell_type": "code",
   "execution_count": 29,
   "metadata": {},
   "outputs": [],
   "source": [
    "# Import necessary libraries\n",
    "import sys\n",
    "import os\n",
    "import pandas as pd\n",
    "from pathlib import Path\n",
    "\n",
    "# Add project root to path for imports\n",
    "sys.path.append(os.path.abspath('../..'))\n",
    "\n",
    "# Import project modules\n",
    "from src.models.predict_model import ModelPredictor\n",
    "from src.models.train_model import ModelTrainer\n",
    "from src.config import *"
   ]
  },
  {
   "cell_type": "markdown",
   "metadata": {},
   "source": [
    "## 1. Initialize the Model Predictor\n",
    "\n",
    "We'll initialize the ModelPredictor class that will use our trained neural network model."
   ]
  },
  {
   "cell_type": "code",
   "execution_count": 30,
   "metadata": {},
   "outputs": [
    {
     "name": "stdout",
     "output_type": "stream",
     "text": [
      "Starting RNN model training...\n",
      "Class weights for balancing: {0: 1.0097222222222222, 1: 0.9807095642789694, 2: 1.0101431151868834}\n",
      "Epoch 1/20\n",
      "\u001b[1m182/182\u001b[0m \u001b[32m━━━━━━━━━━━━━━━━━━━━\u001b[0m\u001b[37m\u001b[0m \u001b[1m12s\u001b[0m 30ms/step - accuracy: 0.5125 - loss: 1.0023 - val_accuracy: 0.8136 - val_loss: 0.5213 - learning_rate: 0.0010\n",
      "Epoch 2/20\n",
      "\u001b[1m182/182\u001b[0m \u001b[32m━━━━━━━━━━━━━━━━━━━━\u001b[0m\u001b[37m\u001b[0m \u001b[1m4s\u001b[0m 24ms/step - accuracy: 0.8384 - loss: 0.4894 - val_accuracy: 0.8535 - val_loss: 0.4518 - learning_rate: 0.0010\n",
      "Epoch 3/20\n",
      "\u001b[1m182/182\u001b[0m \u001b[32m━━━━━━━━━━━━━━━━━━━━\u001b[0m\u001b[37m\u001b[0m \u001b[1m4s\u001b[0m 23ms/step - accuracy: 0.8960 - loss: 0.3503 - val_accuracy: 0.8501 - val_loss: 0.4274 - learning_rate: 0.0010\n",
      "Epoch 4/20\n",
      "\u001b[1m182/182\u001b[0m \u001b[32m━━━━━━━━━━━━━━━━━━━━\u001b[0m\u001b[37m\u001b[0m \u001b[1m4s\u001b[0m 23ms/step - accuracy: 0.9223 - loss: 0.2596 - val_accuracy: 0.8549 - val_loss: 0.4135 - learning_rate: 0.0010\n",
      "Epoch 5/20\n",
      "\u001b[1m182/182\u001b[0m \u001b[32m━━━━━━━━━━━━━━━━━━━━\u001b[0m\u001b[37m\u001b[0m \u001b[1m4s\u001b[0m 25ms/step - accuracy: 0.9397 - loss: 0.2206 - val_accuracy: 0.8404 - val_loss: 0.5171 - learning_rate: 0.0010\n",
      "Epoch 6/20\n",
      "\u001b[1m182/182\u001b[0m \u001b[32m━━━━━━━━━━━━━━━━━━━━\u001b[0m\u001b[37m\u001b[0m \u001b[1m5s\u001b[0m 26ms/step - accuracy: 0.9587 - loss: 0.1512 - val_accuracy: 0.8576 - val_loss: 0.4789 - learning_rate: 0.0010\n",
      "Epoch 7/20\n",
      "\u001b[1m182/182\u001b[0m \u001b[32m━━━━━━━━━━━━━━━━━━━━\u001b[0m\u001b[37m\u001b[0m \u001b[1m4s\u001b[0m 22ms/step - accuracy: 0.9609 - loss: 0.1453 - val_accuracy: 0.8494 - val_loss: 0.5753 - learning_rate: 5.0000e-04\n",
      "Epoch 8/20\n",
      "\u001b[1m182/182\u001b[0m \u001b[32m━━━━━━━━━━━━━━━━━━━━\u001b[0m\u001b[37m\u001b[0m \u001b[1m4s\u001b[0m 22ms/step - accuracy: 0.9765 - loss: 0.0976 - val_accuracy: 0.8556 - val_loss: 0.6007 - learning_rate: 5.0000e-04\n",
      "\u001b[1m57/57\u001b[0m \u001b[32m━━━━━━━━━━━━━━━━━━━━\u001b[0m\u001b[37m\u001b[0m \u001b[1m1s\u001b[0m 17ms/step\n",
      "Test Accuracy: 0.8333\n",
      "              precision    recall  f1-score   support\n",
      "\n",
      "           0       0.87      0.92      0.89       600\n",
      "           1       0.80      0.79      0.79       618\n",
      "           2       0.83      0.80      0.81       600\n",
      "\n",
      "    accuracy                           0.83      1818\n",
      "   macro avg       0.83      0.83      0.83      1818\n",
      "weighted avg       0.83      0.83      0.83      1818\n",
      "\n",
      "Prediction class distribution:\n",
      "Class 0: 632 predictions\n",
      "Class 1: 610 predictions\n",
      "Class 2: 576 predictions\n"
     ]
    }
   ],
   "source": [
    "models = None\n",
    "# model_dir = Path(MODEL_DIR)\n",
    "# models = list(model_dir.glob('*rnn_*.pkl'))\n",
    "# if not models:\n",
    "#     model_dir = Path(EXPERIMENT_DIR)\n",
    "#     models = list(model_dir.glob('*rnn_*.pkl'))\n",
    "if not models:\n",
    "    trainer = ModelTrainer()\n",
    "    trainer.train_neural_network(batch_size=32)\n",
    "\n",
    "# Initialize the predictor\n",
    "predictor = ModelPredictor()"
   ]
  },
  {
   "cell_type": "markdown",
   "metadata": {},
   "source": [
    "## 2. Test Single Headline Prediction\n",
    "\n",
    "Let's test the model on a single headline first to check if everything is working."
   ]
  },
  {
   "cell_type": "code",
   "execution_count": null,
   "metadata": {},
   "outputs": [],
   "source": [
    "# Test with a single positive headline\n",
    "test_headline = \"Company profits exceed expectations in Q1 2025\"\n",
    "result = predictor.predict_neural_network(test_headline)\n",
    "\n",
    "# Display the result\n",
    "if result:\n",
    "    r = result[0]  # Get the first result\n",
    "    print(f\"\\nHeadline: {r['headline']}\")\n",
    "    print(f\"Predicted Sentiment: {r['sentiment']}\")\n",
    "    print(f\"Confidence: {r['confidence']:.2f}\")\n",
    "    \n",
    "    print(\"\\nAll Probabilities:\")\n",
    "    for sentiment, prob in r['probabilities'].items():\n",
    "        print(f\"- {sentiment}: {prob:.2f}\")\n",
    "else:\n",
    "    print(\"Prediction failed or no model found.\")"
   ]
  },
  {
   "cell_type": "markdown",
   "metadata": {},
   "source": [
    "## 3. Test Multiple Headlines\n",
    "\n",
    "Now let's test the model on multiple headlines with different expected sentiments."
   ]
  },
  {
   "cell_type": "code",
   "execution_count": null,
   "metadata": {},
   "outputs": [],
   "source": [
    "# Test with multiple headlines\n",
    "test_headlines = [\n",
    "    \"Stock market reaches all-time high as investor confidence grows\",\n",
    "    \"Major company announces significant layoffs due to economic downturn\",\n",
    "    \"Global trade continues at steady pace despite mild fluctuations\",\n",
    "    \"Tech giant releases new product line with innovative features\",\n",
    "    \"Retail sales decline for third consecutive quarter\"\n",
    "]\n",
    "\n",
    "results = predictor.predict_neural_network(test_headlines)\n",
    "\n",
    "# Display the results\n",
    "if results:\n",
    "    for r in results:\n",
    "        print(f\"Headline: {r['headline']}\")\n",
    "        print(f\"Predicted Sentiment: {r['sentiment']} (confidence: {r['confidence']:.2f})\")\n",
    "        print()\n",
    "else:\n",
    "    print(\"Prediction failed or no model found.\")"
   ]
  },
  {
   "cell_type": "markdown",
   "metadata": {},
   "source": [
    "## 4. Test on Real Dataset\n",
    "\n",
    "Let's load a sample of the test dataset and predict sentiments."
   ]
  },
  {
   "cell_type": "code",
   "execution_count": null,
   "metadata": {},
   "outputs": [],
   "source": [
    "# Load test dataset\n",
    "test_data_path = os.path.join(EXTERNAL_DATA_PATH, \"test_data.csv\")\n",
    "test_df = pd.read_csv(test_data_path)\n",
    "\n",
    "print(f\"Loaded test data with {len(test_df)} headlines\")\n",
    "\n",
    "# Show a few examples\n",
    "test_df.head(100)\n"
   ]
  },
  {
   "cell_type": "code",
   "execution_count": null,
   "metadata": {},
   "outputs": [],
   "source": [
    "# Make predictions\n",
    "headlines = test_df['News Headline'].tolist()\n",
    "results = predictor.predict_neural_network(headlines)\n",
    "\n",
    "# Create a dataframe with predictions\n",
    "if results:\n",
    "    predicted_sentiments = [r['sentiment'] for r in results]\n",
    "    confidence_scores = [round(r['confidence'], 2) for r in results]\n",
    "    \n",
    "    # Add predictions to the dataframe\n",
    "    results_df = test_df.copy()\n",
    "    results_df = results_df.rename(columns={'Sentiment': 'Actual Sentiment'})\n",
    "    results_df['Predicted Sentiment'] = predicted_sentiments\n",
    "    results_df['Confidence'] = confidence_scores\n",
    "    \n",
    "    print(f\"Predictions completed\")\n",
    "else:\n",
    "    print(\"Prediction failed or no model found.\")\n",
    "\n",
    "# Show some results\n",
    "results_df.head(3)"
   ]
  },
  {
   "cell_type": "markdown",
   "metadata": {},
   "source": [
    "## 5. Model Evaluation\n",
    "\n",
    "Let's evaluate the model's performance on the test dataset."
   ]
  },
  {
   "cell_type": "code",
   "execution_count": null,
   "metadata": {},
   "outputs": [],
   "source": [
    "from sklearn.metrics import classification_report\n",
    "\n",
    "# Calculate metrics\n",
    "y_true = results_df['Actual Sentiment']\n",
    "y_pred = results_df['Predicted Sentiment']\n",
    "\n",
    "# Print classification report\n",
    "print(classification_report(y_true, y_pred))"
   ]
  },
  {
   "cell_type": "code",
   "execution_count": null,
   "metadata": {},
   "outputs": [],
   "source": [
    "true = results_df['Predicted Sentiment'] == results_df['Actual Sentiment']\n",
    "true.value_counts()"
   ]
  }
 ],
 "metadata": {
  "kernelspec": {
   "display_name": "venv",
   "language": "python",
   "name": "python3"
  },
  "language_info": {
   "codemirror_mode": {
    "name": "ipython",
    "version": 3
   },
   "file_extension": ".py",
   "mimetype": "text/x-python",
   "name": "python",
   "nbconvert_exporter": "python",
   "pygments_lexer": "ipython3",
   "version": "3.12.9"
  }
 },
 "nbformat": 4,
 "nbformat_minor": 2
}
